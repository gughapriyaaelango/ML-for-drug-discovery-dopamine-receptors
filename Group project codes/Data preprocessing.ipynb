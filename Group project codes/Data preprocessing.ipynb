{
 "cells": [
  {
   "cell_type": "code",
   "execution_count": 43,
   "id": "86e676e1",
   "metadata": {},
   "outputs": [],
   "source": [
    "import pickle\n",
    "import pandas as pd\n",
    "import numpy as np\n",
    "import matplotlib.pyplot as plt\n",
    "import seaborn as sns\n",
    "import missingno as msno\n",
    "from scipy.stats import chi2\n",
    "from impyute.imputation.cs import mice\n",
    "import statsmodels.api as sm\n",
    "from sklearn.experimental import enable_iterative_imputer\n",
    "from sklearn.impute import IterativeImputer\n",
    "from sklearn import linear_model\n",
    "from rdkit import Chem\n",
    "from rdkit.Chem import AllChem\n",
    "from rdkit.Chem import Descriptors, Lipinski, Draw\n",
    "from mordred import Calculator, descriptors\n",
    "import joblib\n",
    "from sklearn.model_selection import KFold"
   ]
  },
  {
   "cell_type": "code",
   "execution_count": 44,
   "id": "cddf136b",
   "metadata": {},
   "outputs": [
    {
     "data": {
      "text/html": [
       "<div>\n",
       "<style scoped>\n",
       "    .dataframe tbody tr th:only-of-type {\n",
       "        vertical-align: middle;\n",
       "    }\n",
       "\n",
       "    .dataframe tbody tr th {\n",
       "        vertical-align: top;\n",
       "    }\n",
       "\n",
       "    .dataframe thead th {\n",
       "        text-align: right;\n",
       "    }\n",
       "</style>\n",
       "<table border=\"1\" class=\"dataframe\">\n",
       "  <thead>\n",
       "    <tr style=\"text-align: right;\">\n",
       "      <th></th>\n",
       "      <th>activity_comment</th>\n",
       "      <th>activity_id</th>\n",
       "      <th>activity_properties</th>\n",
       "      <th>assay_chembl_id</th>\n",
       "      <th>assay_description</th>\n",
       "      <th>assay_type</th>\n",
       "      <th>assay_variant_accession</th>\n",
       "      <th>assay_variant_mutation</th>\n",
       "      <th>bao_endpoint</th>\n",
       "      <th>bao_format</th>\n",
       "      <th>...</th>\n",
       "      <th>target_organism</th>\n",
       "      <th>target_pref_name</th>\n",
       "      <th>target_tax_id</th>\n",
       "      <th>text_value</th>\n",
       "      <th>toid</th>\n",
       "      <th>type</th>\n",
       "      <th>units</th>\n",
       "      <th>uo_units</th>\n",
       "      <th>upper_value</th>\n",
       "      <th>value</th>\n",
       "    </tr>\n",
       "  </thead>\n",
       "  <tbody>\n",
       "    <tr>\n",
       "      <th>0</th>\n",
       "      <td>NaN</td>\n",
       "      <td>34848</td>\n",
       "      <td>[]</td>\n",
       "      <td>CHEMBL872503</td>\n",
       "      <td>Binding affinity towards dopamine transporter ...</td>\n",
       "      <td>B</td>\n",
       "      <td>NaN</td>\n",
       "      <td>NaN</td>\n",
       "      <td>BAO_0000192</td>\n",
       "      <td>BAO_0000221</td>\n",
       "      <td>...</td>\n",
       "      <td>Homo sapiens</td>\n",
       "      <td>Dopamine transporter</td>\n",
       "      <td>9606</td>\n",
       "      <td>NaN</td>\n",
       "      <td>NaN</td>\n",
       "      <td>Ki</td>\n",
       "      <td>nM</td>\n",
       "      <td>UO_0000065</td>\n",
       "      <td>NaN</td>\n",
       "      <td>17.0</td>\n",
       "    </tr>\n",
       "    <tr>\n",
       "      <th>1</th>\n",
       "      <td>NaN</td>\n",
       "      <td>34849</td>\n",
       "      <td>[]</td>\n",
       "      <td>CHEMBL671773</td>\n",
       "      <td>Binding affinity towards dopamine transporter ...</td>\n",
       "      <td>B</td>\n",
       "      <td>NaN</td>\n",
       "      <td>NaN</td>\n",
       "      <td>BAO_0000192</td>\n",
       "      <td>BAO_0000357</td>\n",
       "      <td>...</td>\n",
       "      <td>Homo sapiens</td>\n",
       "      <td>Dopamine transporter</td>\n",
       "      <td>9606</td>\n",
       "      <td>NaN</td>\n",
       "      <td>NaN</td>\n",
       "      <td>Ki</td>\n",
       "      <td>nM</td>\n",
       "      <td>UO_0000065</td>\n",
       "      <td>NaN</td>\n",
       "      <td>224.0</td>\n",
       "    </tr>\n",
       "    <tr>\n",
       "      <th>2</th>\n",
       "      <td>NaN</td>\n",
       "      <td>53423</td>\n",
       "      <td>[]</td>\n",
       "      <td>CHEMBL872503</td>\n",
       "      <td>Binding affinity towards dopamine transporter ...</td>\n",
       "      <td>B</td>\n",
       "      <td>NaN</td>\n",
       "      <td>NaN</td>\n",
       "      <td>BAO_0000192</td>\n",
       "      <td>BAO_0000221</td>\n",
       "      <td>...</td>\n",
       "      <td>Homo sapiens</td>\n",
       "      <td>Dopamine transporter</td>\n",
       "      <td>9606</td>\n",
       "      <td>NaN</td>\n",
       "      <td>NaN</td>\n",
       "      <td>Ki</td>\n",
       "      <td>nM</td>\n",
       "      <td>UO_0000065</td>\n",
       "      <td>NaN</td>\n",
       "      <td>33.0</td>\n",
       "    </tr>\n",
       "    <tr>\n",
       "      <th>3</th>\n",
       "      <td>NaN</td>\n",
       "      <td>53424</td>\n",
       "      <td>[]</td>\n",
       "      <td>CHEMBL671773</td>\n",
       "      <td>Binding affinity towards dopamine transporter ...</td>\n",
       "      <td>B</td>\n",
       "      <td>NaN</td>\n",
       "      <td>NaN</td>\n",
       "      <td>BAO_0000192</td>\n",
       "      <td>BAO_0000357</td>\n",
       "      <td>...</td>\n",
       "      <td>Homo sapiens</td>\n",
       "      <td>Dopamine transporter</td>\n",
       "      <td>9606</td>\n",
       "      <td>NaN</td>\n",
       "      <td>NaN</td>\n",
       "      <td>Ki</td>\n",
       "      <td>nM</td>\n",
       "      <td>UO_0000065</td>\n",
       "      <td>NaN</td>\n",
       "      <td>314.0</td>\n",
       "    </tr>\n",
       "    <tr>\n",
       "      <th>4</th>\n",
       "      <td>NaN</td>\n",
       "      <td>53425</td>\n",
       "      <td>[]</td>\n",
       "      <td>CHEMBL671771</td>\n",
       "      <td>Inhibitory activity against [3H]-Dopamine upta...</td>\n",
       "      <td>B</td>\n",
       "      <td>NaN</td>\n",
       "      <td>NaN</td>\n",
       "      <td>BAO_0000190</td>\n",
       "      <td>BAO_0000221</td>\n",
       "      <td>...</td>\n",
       "      <td>Homo sapiens</td>\n",
       "      <td>Dopamine transporter</td>\n",
       "      <td>9606</td>\n",
       "      <td>NaN</td>\n",
       "      <td>NaN</td>\n",
       "      <td>IC50</td>\n",
       "      <td>nM</td>\n",
       "      <td>UO_0000065</td>\n",
       "      <td>NaN</td>\n",
       "      <td>373.0</td>\n",
       "    </tr>\n",
       "  </tbody>\n",
       "</table>\n",
       "<p>5 rows × 45 columns</p>\n",
       "</div>"
      ],
      "text/plain": [
       "  activity_comment  activity_id activity_properties assay_chembl_id  \\\n",
       "0              NaN        34848                  []    CHEMBL872503   \n",
       "1              NaN        34849                  []    CHEMBL671773   \n",
       "2              NaN        53423                  []    CHEMBL872503   \n",
       "3              NaN        53424                  []    CHEMBL671773   \n",
       "4              NaN        53425                  []    CHEMBL671771   \n",
       "\n",
       "                                   assay_description assay_type  \\\n",
       "0  Binding affinity towards dopamine transporter ...          B   \n",
       "1  Binding affinity towards dopamine transporter ...          B   \n",
       "2  Binding affinity towards dopamine transporter ...          B   \n",
       "3  Binding affinity towards dopamine transporter ...          B   \n",
       "4  Inhibitory activity against [3H]-Dopamine upta...          B   \n",
       "\n",
       "  assay_variant_accession assay_variant_mutation bao_endpoint   bao_format  \\\n",
       "0                     NaN                    NaN  BAO_0000192  BAO_0000221   \n",
       "1                     NaN                    NaN  BAO_0000192  BAO_0000357   \n",
       "2                     NaN                    NaN  BAO_0000192  BAO_0000221   \n",
       "3                     NaN                    NaN  BAO_0000192  BAO_0000357   \n",
       "4                     NaN                    NaN  BAO_0000190  BAO_0000221   \n",
       "\n",
       "   ... target_organism      target_pref_name target_tax_id text_value toid  \\\n",
       "0  ...    Homo sapiens  Dopamine transporter          9606        NaN  NaN   \n",
       "1  ...    Homo sapiens  Dopamine transporter          9606        NaN  NaN   \n",
       "2  ...    Homo sapiens  Dopamine transporter          9606        NaN  NaN   \n",
       "3  ...    Homo sapiens  Dopamine transporter          9606        NaN  NaN   \n",
       "4  ...    Homo sapiens  Dopamine transporter          9606        NaN  NaN   \n",
       "\n",
       "   type  units    uo_units upper_value  value  \n",
       "0    Ki     nM  UO_0000065         NaN   17.0  \n",
       "1    Ki     nM  UO_0000065         NaN  224.0  \n",
       "2    Ki     nM  UO_0000065         NaN   33.0  \n",
       "3    Ki     nM  UO_0000065         NaN  314.0  \n",
       "4  IC50     nM  UO_0000065         NaN  373.0  \n",
       "\n",
       "[5 rows x 45 columns]"
      ]
     },
     "execution_count": 44,
     "metadata": {},
     "output_type": "execute_result"
    }
   ],
   "source": [
    "df=pd.read_csv(\"dopamine_receptor_total.csv\")\n",
    "df.head(5)"
   ]
  },
  {
   "cell_type": "code",
   "execution_count": 45,
   "id": "6ec503a2",
   "metadata": {},
   "outputs": [
    {
     "data": {
      "text/plain": [
       "(8227, 45)"
      ]
     },
     "execution_count": 45,
     "metadata": {},
     "output_type": "execute_result"
    }
   ],
   "source": [
    "df.shape"
   ]
  },
  {
   "cell_type": "code",
   "execution_count": 46,
   "id": "ad1b5cf5",
   "metadata": {
    "scrolled": true
   },
   "outputs": [
    {
     "name": "stdout",
     "output_type": "stream",
     "text": [
      "activity_comment\n",
      "activity_id\n",
      "activity_properties\n",
      "assay_chembl_id\n",
      "assay_description\n",
      "assay_type\n",
      "assay_variant_accession\n",
      "assay_variant_mutation\n",
      "bao_endpoint\n",
      "bao_format\n",
      "bao_label\n",
      "canonical_smiles\n",
      "data_validity_comment\n",
      "data_validity_description\n",
      "document_chembl_id\n",
      "document_journal\n",
      "document_year\n",
      "ligand_efficiency\n",
      "molecule_chembl_id\n",
      "molecule_pref_name\n",
      "parent_molecule_chembl_id\n",
      "pchembl_value\n",
      "potential_duplicate\n",
      "qudt_units\n",
      "record_id\n",
      "relation\n",
      "src_id\n",
      "standard_flag\n",
      "standard_relation\n",
      "standard_text_value\n",
      "standard_type\n",
      "standard_units\n",
      "standard_upper_value\n",
      "standard_value\n",
      "target_chembl_id\n",
      "target_organism\n",
      "target_pref_name\n",
      "target_tax_id\n",
      "text_value\n",
      "toid\n",
      "type\n",
      "units\n",
      "uo_units\n",
      "upper_value\n",
      "value\n"
     ]
    }
   ],
   "source": [
    "for col in df.columns:\n",
    "    print(col)"
   ]
  },
  {
   "cell_type": "code",
   "execution_count": 47,
   "id": "8e4a0cfc",
   "metadata": {
    "scrolled": true
   },
   "outputs": [
    {
     "data": {
      "text/plain": [
       "IC50                                                   3402\n",
       "Ki                                                     3072\n",
       "Inhibition                                             1258\n",
       "Activity                                                186\n",
       "Ratio                                                    76\n",
       "pKD                                                      56\n",
       "EC50                                                     53\n",
       "Log 1/C                                                  50\n",
       "Kd                                                       21\n",
       "% Ctrl                                                   12\n",
       "% Inhibition of Control Specific Binding (Mean n=2)       9\n",
       "Displacement                                              6\n",
       "IC5                                                       4\n",
       "Ratio Ki                                                  4\n",
       "pKi                                                       3\n",
       "Efficacy                                                  2\n",
       "Ratio IC50                                                2\n",
       "effect                                                    2\n",
       "Affinity                                                  1\n",
       "INH                                                       1\n",
       "Selectivity ratio                                         1\n",
       "Discrimination ratio                                      1\n",
       "Name: standard_type, dtype: int64"
      ]
     },
     "execution_count": 47,
     "metadata": {},
     "output_type": "execute_result"
    }
   ],
   "source": [
    "#Unique value counts in standard_type\n",
    "df.standard_type.value_counts()"
   ]
  },
  {
   "cell_type": "code",
   "execution_count": 48,
   "id": "eadb3221",
   "metadata": {
    "scrolled": true
   },
   "outputs": [
    {
     "data": {
      "image/png": "[encoded data removed]",
      "text/plain": [
       "<Figure size 500x450 with 1 Axes>"
      ]
     },
     "metadata": {},
     "output_type": "display_data"
    }
   ],
   "source": [
    "#MISSING DATA PLOT for all the activity classes\n",
    "missing =data[\"standard_value\"].isna().sum()\n",
    "non_missing = data[\"standard_value\"].notnull().sum()\n",
    "\n",
    "\n",
    "x = ['missing', 'non_missing']\n",
    "y = [missing, non_missing]\n",
    "\n",
    "# Setup plot\n",
    "fig, ax = plt.subplots()\n",
    "\n",
    "# Make bar plot\n",
    "p = ax.bar(x, y, color = ['#F8766D', '#00BFC4'], ec = 'black')\n",
    "\n",
    "ax.set_title('Standard_Value Missing Data', fontsize=14, fontweight='bold', pad=15)\n",
    "#ax.set_xticklabels(x, fontweight='bold')\n",
    "\n",
    "ax.set_ylim(0,10000)\n",
    "plt.xticks(fontsize=14)\n",
    "plt.yticks(fontsize=14)\n",
    "\n",
    "# Label above bar\n",
    "for index, data in enumerate(y):\n",
    "    plt.text(x=index-0.1 , y =data+1000 , s=f\"{data}\" , fontdict=dict(fontsize=14))\n",
    "\n",
    "fig.set_size_inches(5,4.5)\n",
    "plt.show()\n"
   ]
  },
  {
   "cell_type": "code",
   "execution_count": 49,
   "id": "e952b7f9",
   "metadata": {},
   "outputs": [
    {
     "name": "stderr",
     "output_type": "stream",
     "text": [
      "/var/folders/t0/mwd450_d17x_24_r5z4fl90m0000gn/T/ipykernel_95008/1671304794.py:3: FutureWarning: column_space is deprecated and will be removed in a future version. Use df.to_string(col_space=...) instead.\n",
      "  pd.reset_option(\"all\")\n",
      "/var/folders/t0/mwd450_d17x_24_r5z4fl90m0000gn/T/ipykernel_95008/1671304794.py:3: FutureWarning: As the xlwt package is no longer maintained, the xlwt engine will be removed in a future version of pandas. This is the only engine in pandas that supports writing in the xls format. Install openpyxl and write to an xlsx file instead.\n",
      "  pd.reset_option(\"all\")\n",
      "/var/folders/t0/mwd450_d17x_24_r5z4fl90m0000gn/T/ipykernel_95008/1671304794.py:3: FutureWarning: \n",
      ": boolean\n",
      "    use_inf_as_null had been deprecated and will be removed in a future\n",
      "    version. Use `use_inf_as_na` instead.\n",
      "\n",
      "  pd.reset_option(\"all\")\n"
     ]
    }
   ],
   "source": [
    "#pd.set_option('display.max_columns', None)\n",
    "#pd.set_option('display.max_rows', None)\n",
    "pd.reset_option(\"all\")"
   ]
  },
  {
   "cell_type": "code",
   "execution_count": 50,
   "id": "68820b63",
   "metadata": {},
   "outputs": [
    {
     "name": "stdout",
     "output_type": "stream",
     "text": [
      "IC50          3402\n",
      "Ki            3072\n",
      "Inhibition    1258\n",
      "Activity       186\n",
      "Name: standard_type, dtype: int64\n",
      "(7918, 45)\n"
     ]
    }
   ],
   "source": [
    "#selecting only IC50, Ki, Inhibition and Activity - 4 standard_type classes\n",
    "\n",
    "data= df[(df['standard_type']==\"IC50\") | (df['standard_type']==\"Ki\") | (df['standard_type']==\"Inhibition\") | (df['standard_type']==\"Activity\")]\n",
    "data=data.reset_index(drop=True)\n",
    "print(data.standard_type.value_counts())\n",
    "print(data.shape)\n"
   ]
  },
  {
   "cell_type": "code",
   "execution_count": 51,
   "id": "e72cb58a",
   "metadata": {
    "scrolled": true
   },
   "outputs": [
    {
     "data": {
      "text/html": [
       "<div>\n",
       "<style scoped>\n",
       "    .dataframe tbody tr th:only-of-type {\n",
       "        vertical-align: middle;\n",
       "    }\n",
       "\n",
       "    .dataframe tbody tr th {\n",
       "        vertical-align: top;\n",
       "    }\n",
       "\n",
       "    .dataframe thead th {\n",
       "        text-align: right;\n",
       "    }\n",
       "</style>\n",
       "<table border=\"1\" class=\"dataframe\">\n",
       "  <thead>\n",
       "    <tr style=\"text-align: right;\">\n",
       "      <th></th>\n",
       "      <th>activity_comment</th>\n",
       "      <th>activity_id</th>\n",
       "      <th>activity_properties</th>\n",
       "      <th>assay_chembl_id</th>\n",
       "      <th>assay_description</th>\n",
       "      <th>assay_type</th>\n",
       "      <th>assay_variant_accession</th>\n",
       "      <th>assay_variant_mutation</th>\n",
       "      <th>bao_endpoint</th>\n",
       "      <th>bao_format</th>\n",
       "      <th>...</th>\n",
       "      <th>target_organism</th>\n",
       "      <th>target_pref_name</th>\n",
       "      <th>target_tax_id</th>\n",
       "      <th>text_value</th>\n",
       "      <th>toid</th>\n",
       "      <th>type</th>\n",
       "      <th>units</th>\n",
       "      <th>uo_units</th>\n",
       "      <th>upper_value</th>\n",
       "      <th>value</th>\n",
       "    </tr>\n",
       "  </thead>\n",
       "  <tbody>\n",
       "    <tr>\n",
       "      <th>0</th>\n",
       "      <td>NaN</td>\n",
       "      <td>34848</td>\n",
       "      <td>[]</td>\n",
       "      <td>CHEMBL872503</td>\n",
       "      <td>Binding affinity towards dopamine transporter ...</td>\n",
       "      <td>B</td>\n",
       "      <td>NaN</td>\n",
       "      <td>NaN</td>\n",
       "      <td>BAO_0000192</td>\n",
       "      <td>BAO_0000221</td>\n",
       "      <td>...</td>\n",
       "      <td>Homo sapiens</td>\n",
       "      <td>Dopamine transporter</td>\n",
       "      <td>9606</td>\n",
       "      <td>NaN</td>\n",
       "      <td>NaN</td>\n",
       "      <td>Ki</td>\n",
       "      <td>nM</td>\n",
       "      <td>UO_0000065</td>\n",
       "      <td>NaN</td>\n",
       "      <td>17.00</td>\n",
       "    </tr>\n",
       "    <tr>\n",
       "      <th>1</th>\n",
       "      <td>NaN</td>\n",
       "      <td>34849</td>\n",
       "      <td>[]</td>\n",
       "      <td>CHEMBL671773</td>\n",
       "      <td>Binding affinity towards dopamine transporter ...</td>\n",
       "      <td>B</td>\n",
       "      <td>NaN</td>\n",
       "      <td>NaN</td>\n",
       "      <td>BAO_0000192</td>\n",
       "      <td>BAO_0000357</td>\n",
       "      <td>...</td>\n",
       "      <td>Homo sapiens</td>\n",
       "      <td>Dopamine transporter</td>\n",
       "      <td>9606</td>\n",
       "      <td>NaN</td>\n",
       "      <td>NaN</td>\n",
       "      <td>Ki</td>\n",
       "      <td>nM</td>\n",
       "      <td>UO_0000065</td>\n",
       "      <td>NaN</td>\n",
       "      <td>224.00</td>\n",
       "    </tr>\n",
       "    <tr>\n",
       "      <th>2</th>\n",
       "      <td>NaN</td>\n",
       "      <td>53423</td>\n",
       "      <td>[]</td>\n",
       "      <td>CHEMBL872503</td>\n",
       "      <td>Binding affinity towards dopamine transporter ...</td>\n",
       "      <td>B</td>\n",
       "      <td>NaN</td>\n",
       "      <td>NaN</td>\n",
       "      <td>BAO_0000192</td>\n",
       "      <td>BAO_0000221</td>\n",
       "      <td>...</td>\n",
       "      <td>Homo sapiens</td>\n",
       "      <td>Dopamine transporter</td>\n",
       "      <td>9606</td>\n",
       "      <td>NaN</td>\n",
       "      <td>NaN</td>\n",
       "      <td>Ki</td>\n",
       "      <td>nM</td>\n",
       "      <td>UO_0000065</td>\n",
       "      <td>NaN</td>\n",
       "      <td>33.00</td>\n",
       "    </tr>\n",
       "    <tr>\n",
       "      <th>3</th>\n",
       "      <td>NaN</td>\n",
       "      <td>53424</td>\n",
       "      <td>[]</td>\n",
       "      <td>CHEMBL671773</td>\n",
       "      <td>Binding affinity towards dopamine transporter ...</td>\n",
       "      <td>B</td>\n",
       "      <td>NaN</td>\n",
       "      <td>NaN</td>\n",
       "      <td>BAO_0000192</td>\n",
       "      <td>BAO_0000357</td>\n",
       "      <td>...</td>\n",
       "      <td>Homo sapiens</td>\n",
       "      <td>Dopamine transporter</td>\n",
       "      <td>9606</td>\n",
       "      <td>NaN</td>\n",
       "      <td>NaN</td>\n",
       "      <td>Ki</td>\n",
       "      <td>nM</td>\n",
       "      <td>UO_0000065</td>\n",
       "      <td>NaN</td>\n",
       "      <td>314.00</td>\n",
       "    </tr>\n",
       "    <tr>\n",
       "      <th>4</th>\n",
       "      <td>NaN</td>\n",
       "      <td>53425</td>\n",
       "      <td>[]</td>\n",
       "      <td>CHEMBL671771</td>\n",
       "      <td>Inhibitory activity against [3H]-Dopamine upta...</td>\n",
       "      <td>B</td>\n",
       "      <td>NaN</td>\n",
       "      <td>NaN</td>\n",
       "      <td>BAO_0000190</td>\n",
       "      <td>BAO_0000221</td>\n",
       "      <td>...</td>\n",
       "      <td>Homo sapiens</td>\n",
       "      <td>Dopamine transporter</td>\n",
       "      <td>9606</td>\n",
       "      <td>NaN</td>\n",
       "      <td>NaN</td>\n",
       "      <td>IC50</td>\n",
       "      <td>nM</td>\n",
       "      <td>UO_0000065</td>\n",
       "      <td>NaN</td>\n",
       "      <td>373.00</td>\n",
       "    </tr>\n",
       "    <tr>\n",
       "      <th>...</th>\n",
       "      <td>...</td>\n",
       "      <td>...</td>\n",
       "      <td>...</td>\n",
       "      <td>...</td>\n",
       "      <td>...</td>\n",
       "      <td>...</td>\n",
       "      <td>...</td>\n",
       "      <td>...</td>\n",
       "      <td>...</td>\n",
       "      <td>...</td>\n",
       "      <td>...</td>\n",
       "      <td>...</td>\n",
       "      <td>...</td>\n",
       "      <td>...</td>\n",
       "      <td>...</td>\n",
       "      <td>...</td>\n",
       "      <td>...</td>\n",
       "      <td>...</td>\n",
       "      <td>...</td>\n",
       "      <td>...</td>\n",
       "      <td>...</td>\n",
       "    </tr>\n",
       "    <tr>\n",
       "      <th>7913</th>\n",
       "      <td>Not Active</td>\n",
       "      <td>23384612</td>\n",
       "      <td>[{'comments': None, 'relation': None, 'result_...</td>\n",
       "      <td>CHEMBL4880843</td>\n",
       "      <td>Transporter, Dopamine (DAT) Eurofins-Panlabs r...</td>\n",
       "      <td>B</td>\n",
       "      <td>NaN</td>\n",
       "      <td>NaN</td>\n",
       "      <td>BAO_0000201</td>\n",
       "      <td>BAO_0000357</td>\n",
       "      <td>...</td>\n",
       "      <td>Homo sapiens</td>\n",
       "      <td>Dopamine transporter</td>\n",
       "      <td>9606</td>\n",
       "      <td>NaN</td>\n",
       "      <td>NaN</td>\n",
       "      <td>% inhibition</td>\n",
       "      <td>%</td>\n",
       "      <td>UO_0000187</td>\n",
       "      <td>NaN</td>\n",
       "      <td>-12.00</td>\n",
       "    </tr>\n",
       "    <tr>\n",
       "      <th>7914</th>\n",
       "      <td>Not Active</td>\n",
       "      <td>23385781</td>\n",
       "      <td>[{'comments': None, 'relation': None, 'result_...</td>\n",
       "      <td>CHEMBL4880041</td>\n",
       "      <td>GPCRScan assay: inhibition of DAT</td>\n",
       "      <td>B</td>\n",
       "      <td>NaN</td>\n",
       "      <td>NaN</td>\n",
       "      <td>BAO_0000201</td>\n",
       "      <td>BAO_0000357</td>\n",
       "      <td>...</td>\n",
       "      <td>Homo sapiens</td>\n",
       "      <td>Dopamine transporter</td>\n",
       "      <td>9606</td>\n",
       "      <td>NaN</td>\n",
       "      <td>NaN</td>\n",
       "      <td>% Inhibition</td>\n",
       "      <td>%</td>\n",
       "      <td>UO_0000187</td>\n",
       "      <td>NaN</td>\n",
       "      <td>-17.37</td>\n",
       "    </tr>\n",
       "    <tr>\n",
       "      <th>7915</th>\n",
       "      <td>Not Active</td>\n",
       "      <td>23385847</td>\n",
       "      <td>[{'comments': None, 'relation': None, 'result_...</td>\n",
       "      <td>CHEMBL4880041</td>\n",
       "      <td>GPCRScan assay: inhibition of DAT</td>\n",
       "      <td>B</td>\n",
       "      <td>NaN</td>\n",
       "      <td>NaN</td>\n",
       "      <td>BAO_0000201</td>\n",
       "      <td>BAO_0000357</td>\n",
       "      <td>...</td>\n",
       "      <td>Homo sapiens</td>\n",
       "      <td>Dopamine transporter</td>\n",
       "      <td>9606</td>\n",
       "      <td>NaN</td>\n",
       "      <td>NaN</td>\n",
       "      <td>% Inhibition</td>\n",
       "      <td>%</td>\n",
       "      <td>UO_0000187</td>\n",
       "      <td>NaN</td>\n",
       "      <td>-18.05</td>\n",
       "    </tr>\n",
       "    <tr>\n",
       "      <th>7916</th>\n",
       "      <td>Not Active</td>\n",
       "      <td>23385962</td>\n",
       "      <td>[{'comments': None, 'relation': None, 'result_...</td>\n",
       "      <td>CHEMBL4888418</td>\n",
       "      <td>dopamine transporter (h) CEREP screen</td>\n",
       "      <td>B</td>\n",
       "      <td>NaN</td>\n",
       "      <td>NaN</td>\n",
       "      <td>BAO_0000201</td>\n",
       "      <td>BAO_0000357</td>\n",
       "      <td>...</td>\n",
       "      <td>Homo sapiens</td>\n",
       "      <td>Dopamine transporter</td>\n",
       "      <td>9606</td>\n",
       "      <td>NaN</td>\n",
       "      <td>NaN</td>\n",
       "      <td>% inhibition</td>\n",
       "      <td>%</td>\n",
       "      <td>UO_0000187</td>\n",
       "      <td>NaN</td>\n",
       "      <td>30.00</td>\n",
       "    </tr>\n",
       "    <tr>\n",
       "      <th>7917</th>\n",
       "      <td>Not Active</td>\n",
       "      <td>23385963</td>\n",
       "      <td>[{'comments': None, 'relation': None, 'result_...</td>\n",
       "      <td>CHEMBL4888418</td>\n",
       "      <td>dopamine transporter (h) CEREP screen</td>\n",
       "      <td>B</td>\n",
       "      <td>NaN</td>\n",
       "      <td>NaN</td>\n",
       "      <td>BAO_0000201</td>\n",
       "      <td>BAO_0000357</td>\n",
       "      <td>...</td>\n",
       "      <td>Homo sapiens</td>\n",
       "      <td>Dopamine transporter</td>\n",
       "      <td>9606</td>\n",
       "      <td>NaN</td>\n",
       "      <td>NaN</td>\n",
       "      <td>% inhibition</td>\n",
       "      <td>%</td>\n",
       "      <td>UO_0000187</td>\n",
       "      <td>NaN</td>\n",
       "      <td>18.00</td>\n",
       "    </tr>\n",
       "  </tbody>\n",
       "</table>\n",
       "<p>7918 rows × 45 columns</p>\n",
       "</div>"
      ],
      "text/plain": [
       "     activity_comment  activity_id  \\\n",
       "0                 NaN        34848   \n",
       "1                 NaN        34849   \n",
       "2                 NaN        53423   \n",
       "3                 NaN        53424   \n",
       "4                 NaN        53425   \n",
       "...               ...          ...   \n",
       "7913       Not Active     23384612   \n",
       "7914       Not Active     23385781   \n",
       "7915       Not Active     23385847   \n",
       "7916       Not Active     23385962   \n",
       "7917       Not Active     23385963   \n",
       "\n",
       "                                    activity_properties assay_chembl_id  \\\n",
       "0                                                    []    CHEMBL872503   \n",
       "1                                                    []    CHEMBL671773   \n",
       "2                                                    []    CHEMBL872503   \n",
       "3                                                    []    CHEMBL671773   \n",
       "4                                                    []    CHEMBL671771   \n",
       "...                                                 ...             ...   \n",
       "7913  [{'comments': None, 'relation': None, 'result_...   CHEMBL4880843   \n",
       "7914  [{'comments': None, 'relation': None, 'result_...   CHEMBL4880041   \n",
       "7915  [{'comments': None, 'relation': None, 'result_...   CHEMBL4880041   \n",
       "7916  [{'comments': None, 'relation': None, 'result_...   CHEMBL4888418   \n",
       "7917  [{'comments': None, 'relation': None, 'result_...   CHEMBL4888418   \n",
       "\n",
       "                                      assay_description assay_type  \\\n",
       "0     Binding affinity towards dopamine transporter ...          B   \n",
       "1     Binding affinity towards dopamine transporter ...          B   \n",
       "2     Binding affinity towards dopamine transporter ...          B   \n",
       "3     Binding affinity towards dopamine transporter ...          B   \n",
       "4     Inhibitory activity against [3H]-Dopamine upta...          B   \n",
       "...                                                 ...        ...   \n",
       "7913  Transporter, Dopamine (DAT) Eurofins-Panlabs r...          B   \n",
       "7914                  GPCRScan assay: inhibition of DAT          B   \n",
       "7915                  GPCRScan assay: inhibition of DAT          B   \n",
       "7916              dopamine transporter (h) CEREP screen          B   \n",
       "7917              dopamine transporter (h) CEREP screen          B   \n",
       "\n",
       "     assay_variant_accession assay_variant_mutation bao_endpoint   bao_format  \\\n",
       "0                        NaN                    NaN  BAO_0000192  BAO_0000221   \n",
       "1                        NaN                    NaN  BAO_0000192  BAO_0000357   \n",
       "2                        NaN                    NaN  BAO_0000192  BAO_0000221   \n",
       "3                        NaN                    NaN  BAO_0000192  BAO_0000357   \n",
       "4                        NaN                    NaN  BAO_0000190  BAO_0000221   \n",
       "...                      ...                    ...          ...          ...   \n",
       "7913                     NaN                    NaN  BAO_0000201  BAO_0000357   \n",
       "7914                     NaN                    NaN  BAO_0000201  BAO_0000357   \n",
       "7915                     NaN                    NaN  BAO_0000201  BAO_0000357   \n",
       "7916                     NaN                    NaN  BAO_0000201  BAO_0000357   \n",
       "7917                     NaN                    NaN  BAO_0000201  BAO_0000357   \n",
       "\n",
       "      ... target_organism      target_pref_name target_tax_id text_value toid  \\\n",
       "0     ...    Homo sapiens  Dopamine transporter          9606        NaN  NaN   \n",
       "1     ...    Homo sapiens  Dopamine transporter          9606        NaN  NaN   \n",
       "2     ...    Homo sapiens  Dopamine transporter          9606        NaN  NaN   \n",
       "3     ...    Homo sapiens  Dopamine transporter          9606        NaN  NaN   \n",
       "4     ...    Homo sapiens  Dopamine transporter          9606        NaN  NaN   \n",
       "...   ...             ...                   ...           ...        ...  ...   \n",
       "7913  ...    Homo sapiens  Dopamine transporter          9606        NaN  NaN   \n",
       "7914  ...    Homo sapiens  Dopamine transporter          9606        NaN  NaN   \n",
       "7915  ...    Homo sapiens  Dopamine transporter          9606        NaN  NaN   \n",
       "7916  ...    Homo sapiens  Dopamine transporter          9606        NaN  NaN   \n",
       "7917  ...    Homo sapiens  Dopamine transporter          9606        NaN  NaN   \n",
       "\n",
       "              type  units    uo_units upper_value   value  \n",
       "0               Ki     nM  UO_0000065         NaN   17.00  \n",
       "1               Ki     nM  UO_0000065         NaN  224.00  \n",
       "2               Ki     nM  UO_0000065         NaN   33.00  \n",
       "3               Ki     nM  UO_0000065         NaN  314.00  \n",
       "4             IC50     nM  UO_0000065         NaN  373.00  \n",
       "...            ...    ...         ...         ...     ...  \n",
       "7913  % inhibition      %  UO_0000187         NaN  -12.00  \n",
       "7914  % Inhibition      %  UO_0000187         NaN  -17.37  \n",
       "7915  % Inhibition      %  UO_0000187         NaN  -18.05  \n",
       "7916  % inhibition      %  UO_0000187         NaN   30.00  \n",
       "7917  % inhibition      %  UO_0000187         NaN   18.00  \n",
       "\n",
       "[7918 rows x 45 columns]"
      ]
     },
     "execution_count": 51,
     "metadata": {},
     "output_type": "execute_result"
    }
   ],
   "source": [
    "data"
   ]
  },
  {
   "cell_type": "code",
   "execution_count": 52,
   "id": "5d257104",
   "metadata": {},
   "outputs": [
    {
     "data": {
      "text/plain": [
       "activity_comment             5542\n",
       "activity_id                     0\n",
       "activity_properties             0\n",
       "assay_chembl_id                 0\n",
       "assay_description               0\n",
       "assay_type                      0\n",
       "assay_variant_accession      7903\n",
       "assay_variant_mutation       7903\n",
       "bao_endpoint                    0\n",
       "bao_format                      0\n",
       "bao_label                       0\n",
       "canonical_smiles               99\n",
       "data_validity_comment        7738\n",
       "data_validity_description    7738\n",
       "document_chembl_id              0\n",
       "document_journal             2145\n",
       "document_year                1742\n",
       "ligand_efficiency            4272\n",
       "molecule_chembl_id              0\n",
       "molecule_pref_name           5574\n",
       "parent_molecule_chembl_id       0\n",
       "pchembl_value                4109\n",
       "potential_duplicate             0\n",
       "qudt_units                   1832\n",
       "record_id                       0\n",
       "relation                     2233\n",
       "src_id                          0\n",
       "standard_flag                   0\n",
       "standard_relation            2233\n",
       "standard_text_value          7918\n",
       "standard_type                   0\n",
       "standard_units               1826\n",
       "standard_upper_value         7918\n",
       "standard_value               2017\n",
       "target_chembl_id                0\n",
       "target_organism                 0\n",
       "target_pref_name                0\n",
       "target_tax_id                   0\n",
       "text_value                   7918\n",
       "toid                         7918\n",
       "type                            0\n",
       "units                        2502\n",
       "uo_units                     1832\n",
       "upper_value                  7912\n",
       "value                        2017\n",
       "dtype: int64"
      ]
     },
     "execution_count": 52,
     "metadata": {},
     "output_type": "execute_result"
    }
   ],
   "source": [
    "data.isnull().sum()"
   ]
  },
  {
   "cell_type": "code",
   "execution_count": 53,
   "id": "19d452ab",
   "metadata": {},
   "outputs": [
    {
     "name": "stdout",
     "output_type": "stream",
     "text": [
      "missing in standard_value 2017\n",
      "missing in canonical_smiles 99\n"
     ]
    }
   ],
   "source": [
    "#missing standard values\n",
    "print(\"missing in standard_value\",data.standard_value.isna().sum())\n",
    "print(\"missing in canonical_smiles\",data.canonical_smiles.isna().sum())"
   ]
  },
  {
   "cell_type": "code",
   "execution_count": 54,
   "id": "d668084e",
   "metadata": {},
   "outputs": [
    {
     "name": "stdout",
     "output_type": "stream",
     "text": [
      "missing in canonical_smiles 0\n"
     ]
    }
   ],
   "source": [
    "#Drop the rows with missing canonical smiles - 99 rows\n",
    "data=data.dropna(subset = ['canonical_smiles'])\n",
    "data=data.reset_index(drop=True)\n",
    "print(\"missing in canonical_smiles\",data.canonical_smiles.isna().sum())"
   ]
  },
  {
   "cell_type": "code",
   "execution_count": 55,
   "id": "d548640b",
   "metadata": {},
   "outputs": [],
   "source": [
    "#Select the most important features from data\n",
    "data = data[['molecule_chembl_id','canonical_smiles','standard_type','standard_value','standard_units']]"
   ]
  },
  {
   "cell_type": "code",
   "execution_count": 56,
   "id": "b11d3242",
   "metadata": {},
   "outputs": [
    {
     "data": {
      "text/plain": [
       "(7819, 5)"
      ]
     },
     "execution_count": 56,
     "metadata": {},
     "output_type": "execute_result"
    }
   ],
   "source": [
    "data.shape"
   ]
  },
  {
   "cell_type": "code",
   "execution_count": null,
   "id": "5504c66a",
   "metadata": {},
   "outputs": [],
   "source": [
    "#Lepinski descriptors\n"
   ]
  },
  {
   "cell_type": "code",
   "execution_count": 58,
   "id": "35651557",
   "metadata": {},
   "outputs": [],
   "source": [
    "#function for lipinski calculator from. : https://codeocean.com/explore/capsules?query=tag:data-curation\n",
    "def lipinski(smiles, verbose=False):\n",
    "\n",
    "    moldata= []\n",
    "    for elem in smiles:\n",
    "        mol=Chem.MolFromSmiles(elem) \n",
    "        moldata.append(mol)\n",
    "     \n",
    "    \n",
    "    baseData= np.arange(1,1)\n",
    "    i=0  \n",
    "    for mol in moldata:        \n",
    "       \n",
    "        desc_MolWt = Descriptors.MolWt(mol) #Molecular weight\n",
    "        desc_HeavyAtomMolWt = Descriptors.HeavyAtomMolWt(mol) #molecular weight of the molecule ignoring hydrogens\n",
    "        desc_MolLogP = Descriptors.MolLogP(mol) #LogP\n",
    "        desc_MolMR = Descriptors.MolMR(mol)\n",
    "        desc_NumHDonors = Lipinski.NumHDonors(mol) #Number of Hydrogen Donors\n",
    "        desc_NumHAcceptors = Lipinski.NumHAcceptors(mol) #Number of Hydrogen Acceptors\n",
    "        desc_NumAtoms= mol.GetNumAtoms() #Number of atoms\n",
    "        desc_num_aromatic_rings = Descriptors.NumAromaticRings(mol)\n",
    "        desc_tpsa = Descriptors.TPSA(mol)\n",
    "        desc_num_rotatable_bonds = Lipinski.NumRotatableBonds(mol)\n",
    "        \n",
    "           \n",
    "        row = np.array([desc_MolWt,desc_HeavyAtomMolWt,\n",
    "                        desc_MolLogP,desc_MolMR,\n",
    "                        desc_NumHDonors,\n",
    "                        desc_NumHAcceptors,desc_NumAtoms,desc_num_aromatic_rings,\n",
    "                        desc_tpsa,desc_num_rotatable_bonds])   \n",
    "    \n",
    "        if(i==0):\n",
    "            baseData=row\n",
    "        else:\n",
    "            baseData=np.vstack([baseData, row])\n",
    "        i=i+1      \n",
    "    \n",
    "    columnNames=[\"MW\",\"HeavyAtomMolWt\",\"LogP\",\"MolMR\",\"NumHDonors\",\"NumHAcceptors\",\"NumAtoms\",\"AR\",\"TPSA\",\"RB\"]   \n",
    "    descriptors = pd.DataFrame(data=baseData,columns=columnNames)\n",
    "    \n",
    "    return descriptors\n"
   ]
  },
  {
   "cell_type": "code",
   "execution_count": 59,
   "id": "812b13ca",
   "metadata": {
    "scrolled": true
   },
   "outputs": [
    {
     "data": {
      "text/html": [
       "<div>\n",
       "<style scoped>\n",
       "    .dataframe tbody tr th:only-of-type {\n",
       "        vertical-align: middle;\n",
       "    }\n",
       "\n",
       "    .dataframe tbody tr th {\n",
       "        vertical-align: top;\n",
       "    }\n",
       "\n",
       "    .dataframe thead th {\n",
       "        text-align: right;\n",
       "    }\n",
       "</style>\n",
       "<table border=\"1\" class=\"dataframe\">\n",
       "  <thead>\n",
       "    <tr style=\"text-align: right;\">\n",
       "      <th></th>\n",
       "      <th>MW</th>\n",
       "      <th>HeavyAtomMolWt</th>\n",
       "      <th>LogP</th>\n",
       "      <th>MolMR</th>\n",
       "      <th>NumHDonors</th>\n",
       "      <th>NumHAcceptors</th>\n",
       "      <th>NumAtoms</th>\n",
       "      <th>AR</th>\n",
       "      <th>TPSA</th>\n",
       "      <th>RB</th>\n",
       "    </tr>\n",
       "  </thead>\n",
       "  <tbody>\n",
       "    <tr>\n",
       "      <th>0</th>\n",
       "      <td>295.810</td>\n",
       "      <td>273.634</td>\n",
       "      <td>2.8477</td>\n",
       "      <td>81.1270</td>\n",
       "      <td>0.0</td>\n",
       "      <td>3.0</td>\n",
       "      <td>20.0</td>\n",
       "      <td>1.0</td>\n",
       "      <td>29.54</td>\n",
       "      <td>2.0</td>\n",
       "    </tr>\n",
       "    <tr>\n",
       "      <th>1</th>\n",
       "      <td>295.810</td>\n",
       "      <td>273.634</td>\n",
       "      <td>2.8477</td>\n",
       "      <td>81.1270</td>\n",
       "      <td>0.0</td>\n",
       "      <td>3.0</td>\n",
       "      <td>20.0</td>\n",
       "      <td>1.0</td>\n",
       "      <td>29.54</td>\n",
       "      <td>2.0</td>\n",
       "    </tr>\n",
       "    <tr>\n",
       "      <th>2</th>\n",
       "      <td>295.810</td>\n",
       "      <td>273.634</td>\n",
       "      <td>2.8477</td>\n",
       "      <td>81.1270</td>\n",
       "      <td>0.0</td>\n",
       "      <td>3.0</td>\n",
       "      <td>20.0</td>\n",
       "      <td>1.0</td>\n",
       "      <td>29.54</td>\n",
       "      <td>2.0</td>\n",
       "    </tr>\n",
       "    <tr>\n",
       "      <th>3</th>\n",
       "      <td>303.358</td>\n",
       "      <td>282.190</td>\n",
       "      <td>1.8677</td>\n",
       "      <td>80.3415</td>\n",
       "      <td>0.0</td>\n",
       "      <td>5.0</td>\n",
       "      <td>22.0</td>\n",
       "      <td>1.0</td>\n",
       "      <td>55.84</td>\n",
       "      <td>3.0</td>\n",
       "    </tr>\n",
       "    <tr>\n",
       "      <th>4</th>\n",
       "      <td>303.358</td>\n",
       "      <td>282.190</td>\n",
       "      <td>1.8677</td>\n",
       "      <td>80.3415</td>\n",
       "      <td>0.0</td>\n",
       "      <td>5.0</td>\n",
       "      <td>22.0</td>\n",
       "      <td>1.0</td>\n",
       "      <td>55.84</td>\n",
       "      <td>3.0</td>\n",
       "    </tr>\n",
       "    <tr>\n",
       "      <th>...</th>\n",
       "      <td>...</td>\n",
       "      <td>...</td>\n",
       "      <td>...</td>\n",
       "      <td>...</td>\n",
       "      <td>...</td>\n",
       "      <td>...</td>\n",
       "      <td>...</td>\n",
       "      <td>...</td>\n",
       "      <td>...</td>\n",
       "      <td>...</td>\n",
       "    </tr>\n",
       "    <tr>\n",
       "      <th>7814</th>\n",
       "      <td>440.478</td>\n",
       "      <td>419.310</td>\n",
       "      <td>5.5581</td>\n",
       "      <td>125.1575</td>\n",
       "      <td>2.0</td>\n",
       "      <td>5.0</td>\n",
       "      <td>33.0</td>\n",
       "      <td>4.0</td>\n",
       "      <td>98.90</td>\n",
       "      <td>6.0</td>\n",
       "    </tr>\n",
       "    <tr>\n",
       "      <th>7815</th>\n",
       "      <td>574.025</td>\n",
       "      <td>546.809</td>\n",
       "      <td>4.7203</td>\n",
       "      <td>136.0895</td>\n",
       "      <td>1.0</td>\n",
       "      <td>8.0</td>\n",
       "      <td>38.0</td>\n",
       "      <td>3.0</td>\n",
       "      <td>105.90</td>\n",
       "      <td>7.0</td>\n",
       "    </tr>\n",
       "    <tr>\n",
       "      <th>7816</th>\n",
       "      <td>574.025</td>\n",
       "      <td>546.809</td>\n",
       "      <td>4.7203</td>\n",
       "      <td>136.0895</td>\n",
       "      <td>1.0</td>\n",
       "      <td>8.0</td>\n",
       "      <td>38.0</td>\n",
       "      <td>3.0</td>\n",
       "      <td>105.90</td>\n",
       "      <td>7.0</td>\n",
       "    </tr>\n",
       "    <tr>\n",
       "      <th>7817</th>\n",
       "      <td>581.116</td>\n",
       "      <td>547.852</td>\n",
       "      <td>6.1677</td>\n",
       "      <td>164.0938</td>\n",
       "      <td>1.0</td>\n",
       "      <td>6.0</td>\n",
       "      <td>42.0</td>\n",
       "      <td>5.0</td>\n",
       "      <td>80.48</td>\n",
       "      <td>7.0</td>\n",
       "    </tr>\n",
       "    <tr>\n",
       "      <th>7818</th>\n",
       "      <td>581.116</td>\n",
       "      <td>547.852</td>\n",
       "      <td>6.1677</td>\n",
       "      <td>164.0938</td>\n",
       "      <td>1.0</td>\n",
       "      <td>6.0</td>\n",
       "      <td>42.0</td>\n",
       "      <td>5.0</td>\n",
       "      <td>80.48</td>\n",
       "      <td>7.0</td>\n",
       "    </tr>\n",
       "  </tbody>\n",
       "</table>\n",
       "<p>7819 rows × 10 columns</p>\n",
       "</div>"
      ],
      "text/plain": [
       "           MW  HeavyAtomMolWt    LogP     MolMR  NumHDonors  NumHAcceptors  \\\n",
       "0     295.810         273.634  2.8477   81.1270         0.0            3.0   \n",
       "1     295.810         273.634  2.8477   81.1270         0.0            3.0   \n",
       "2     295.810         273.634  2.8477   81.1270         0.0            3.0   \n",
       "3     303.358         282.190  1.8677   80.3415         0.0            5.0   \n",
       "4     303.358         282.190  1.8677   80.3415         0.0            5.0   \n",
       "...       ...             ...     ...       ...         ...            ...   \n",
       "7814  440.478         419.310  5.5581  125.1575         2.0            5.0   \n",
       "7815  574.025         546.809  4.7203  136.0895         1.0            8.0   \n",
       "7816  574.025         546.809  4.7203  136.0895         1.0            8.0   \n",
       "7817  581.116         547.852  6.1677  164.0938         1.0            6.0   \n",
       "7818  581.116         547.852  6.1677  164.0938         1.0            6.0   \n",
       "\n",
       "      NumAtoms   AR    TPSA   RB  \n",
       "0         20.0  1.0   29.54  2.0  \n",
       "1         20.0  1.0   29.54  2.0  \n",
       "2         20.0  1.0   29.54  2.0  \n",
       "3         22.0  1.0   55.84  3.0  \n",
       "4         22.0  1.0   55.84  3.0  \n",
       "...        ...  ...     ...  ...  \n",
       "7814      33.0  4.0   98.90  6.0  \n",
       "7815      38.0  3.0  105.90  7.0  \n",
       "7816      38.0  3.0  105.90  7.0  \n",
       "7817      42.0  5.0   80.48  7.0  \n",
       "7818      42.0  5.0   80.48  7.0  \n",
       "\n",
       "[7819 rows x 10 columns]"
      ]
     },
     "execution_count": 59,
     "metadata": {},
     "output_type": "execute_result"
    }
   ],
   "source": [
    "lipinski1 = lipinski(data.canonical_smiles)\n",
    "lipinski1"
   ]
  },
  {
   "cell_type": "code",
   "execution_count": 60,
   "id": "e1fb485a",
   "metadata": {},
   "outputs": [
    {
     "data": {
      "text/plain": [
       "(7819, 10)"
      ]
     },
     "execution_count": 60,
     "metadata": {},
     "output_type": "execute_result"
    }
   ],
   "source": [
    "lipinski1.shape"
   ]
  },
  {
   "cell_type": "code",
   "execution_count": 61,
   "id": "c555a697",
   "metadata": {},
   "outputs": [],
   "source": [
    "#Combining all to one dataframe\n",
    "data_all=pd.concat([data,lipinski1], axis=1)"
   ]
  },
  {
   "cell_type": "code",
   "execution_count": 62,
   "id": "e1b82e27",
   "metadata": {
    "scrolled": true
   },
   "outputs": [
    {
     "data": {
      "text/html": [
       "<div>\n",
       "<style scoped>\n",
       "    .dataframe tbody tr th:only-of-type {\n",
       "        vertical-align: middle;\n",
       "    }\n",
       "\n",
       "    .dataframe tbody tr th {\n",
       "        vertical-align: top;\n",
       "    }\n",
       "\n",
       "    .dataframe thead th {\n",
       "        text-align: right;\n",
       "    }\n",
       "</style>\n",
       "<table border=\"1\" class=\"dataframe\">\n",
       "  <thead>\n",
       "    <tr style=\"text-align: right;\">\n",
       "      <th></th>\n",
       "      <th>molecule_chembl_id</th>\n",
       "      <th>canonical_smiles</th>\n",
       "      <th>standard_type</th>\n",
       "      <th>standard_value</th>\n",
       "      <th>standard_units</th>\n",
       "      <th>MW</th>\n",
       "      <th>HeavyAtomMolWt</th>\n",
       "      <th>LogP</th>\n",
       "      <th>MolMR</th>\n",
       "      <th>NumHDonors</th>\n",
       "      <th>NumHAcceptors</th>\n",
       "      <th>NumAtoms</th>\n",
       "      <th>AR</th>\n",
       "      <th>TPSA</th>\n",
       "      <th>RB</th>\n",
       "    </tr>\n",
       "  </thead>\n",
       "  <tbody>\n",
       "    <tr>\n",
       "      <th>0</th>\n",
       "      <td>CHEMBL1790051</td>\n",
       "      <td>COC(=O)[C@@H]1C2CC[C@H](C[C@@H]1c1ccccc1)N2C.Cl</td>\n",
       "      <td>Ki</td>\n",
       "      <td>33.00</td>\n",
       "      <td>nM</td>\n",
       "      <td>295.810</td>\n",
       "      <td>273.634</td>\n",
       "      <td>2.8477</td>\n",
       "      <td>81.1270</td>\n",
       "      <td>0.0</td>\n",
       "      <td>3.0</td>\n",
       "      <td>20.0</td>\n",
       "      <td>1.0</td>\n",
       "      <td>29.54</td>\n",
       "      <td>2.0</td>\n",
       "    </tr>\n",
       "    <tr>\n",
       "      <th>1</th>\n",
       "      <td>CHEMBL1790051</td>\n",
       "      <td>COC(=O)[C@@H]1C2CC[C@H](C[C@@H]1c1ccccc1)N2C.Cl</td>\n",
       "      <td>Ki</td>\n",
       "      <td>314.00</td>\n",
       "      <td>nM</td>\n",
       "      <td>295.810</td>\n",
       "      <td>273.634</td>\n",
       "      <td>2.8477</td>\n",
       "      <td>81.1270</td>\n",
       "      <td>0.0</td>\n",
       "      <td>3.0</td>\n",
       "      <td>20.0</td>\n",
       "      <td>1.0</td>\n",
       "      <td>29.54</td>\n",
       "      <td>2.0</td>\n",
       "    </tr>\n",
       "    <tr>\n",
       "      <th>2</th>\n",
       "      <td>CHEMBL1790051</td>\n",
       "      <td>COC(=O)[C@@H]1C2CC[C@H](C[C@@H]1c1ccccc1)N2C.Cl</td>\n",
       "      <td>IC50</td>\n",
       "      <td>373.00</td>\n",
       "      <td>nM</td>\n",
       "      <td>295.810</td>\n",
       "      <td>273.634</td>\n",
       "      <td>2.8477</td>\n",
       "      <td>81.1270</td>\n",
       "      <td>0.0</td>\n",
       "      <td>3.0</td>\n",
       "      <td>20.0</td>\n",
       "      <td>1.0</td>\n",
       "      <td>29.54</td>\n",
       "      <td>2.0</td>\n",
       "    </tr>\n",
       "    <tr>\n",
       "      <th>3</th>\n",
       "      <td>CHEMBL370805</td>\n",
       "      <td>COC(=O)[C@H]1[C@@H](OC(=O)c2ccccc2)C[C@@H]2CC[...</td>\n",
       "      <td>Ki</td>\n",
       "      <td>32.00</td>\n",
       "      <td>nM</td>\n",
       "      <td>303.358</td>\n",
       "      <td>282.190</td>\n",
       "      <td>1.8677</td>\n",
       "      <td>80.3415</td>\n",
       "      <td>0.0</td>\n",
       "      <td>5.0</td>\n",
       "      <td>22.0</td>\n",
       "      <td>1.0</td>\n",
       "      <td>55.84</td>\n",
       "      <td>3.0</td>\n",
       "    </tr>\n",
       "    <tr>\n",
       "      <th>4</th>\n",
       "      <td>CHEMBL370805</td>\n",
       "      <td>COC(=O)[C@H]1[C@@H](OC(=O)c2ccccc2)C[C@@H]2CC[...</td>\n",
       "      <td>Ki</td>\n",
       "      <td>388.00</td>\n",
       "      <td>nM</td>\n",
       "      <td>303.358</td>\n",
       "      <td>282.190</td>\n",
       "      <td>1.8677</td>\n",
       "      <td>80.3415</td>\n",
       "      <td>0.0</td>\n",
       "      <td>5.0</td>\n",
       "      <td>22.0</td>\n",
       "      <td>1.0</td>\n",
       "      <td>55.84</td>\n",
       "      <td>3.0</td>\n",
       "    </tr>\n",
       "    <tr>\n",
       "      <th>...</th>\n",
       "      <td>...</td>\n",
       "      <td>...</td>\n",
       "      <td>...</td>\n",
       "      <td>...</td>\n",
       "      <td>...</td>\n",
       "      <td>...</td>\n",
       "      <td>...</td>\n",
       "      <td>...</td>\n",
       "      <td>...</td>\n",
       "      <td>...</td>\n",
       "      <td>...</td>\n",
       "      <td>...</td>\n",
       "      <td>...</td>\n",
       "      <td>...</td>\n",
       "      <td>...</td>\n",
       "    </tr>\n",
       "    <tr>\n",
       "      <th>7814</th>\n",
       "      <td>CHEMBL4802045</td>\n",
       "      <td>CC[C@@H](Nc1c(C#N)c(-c2ccc(-c3cccc(C)c3F)cc2)n...</td>\n",
       "      <td>Inhibition</td>\n",
       "      <td>-12.00</td>\n",
       "      <td>%</td>\n",
       "      <td>440.478</td>\n",
       "      <td>419.310</td>\n",
       "      <td>5.5581</td>\n",
       "      <td>125.1575</td>\n",
       "      <td>2.0</td>\n",
       "      <td>5.0</td>\n",
       "      <td>33.0</td>\n",
       "      <td>4.0</td>\n",
       "      <td>98.90</td>\n",
       "      <td>6.0</td>\n",
       "    </tr>\n",
       "    <tr>\n",
       "      <th>7815</th>\n",
       "      <td>CHEMBL4568735</td>\n",
       "      <td>CO[C@@H](C)c1c(Nc2ccc([C@H](N(C)C(=O)C3CCS(=O)...</td>\n",
       "      <td>Inhibition</td>\n",
       "      <td>-17.37</td>\n",
       "      <td>%</td>\n",
       "      <td>574.025</td>\n",
       "      <td>546.809</td>\n",
       "      <td>4.7203</td>\n",
       "      <td>136.0895</td>\n",
       "      <td>1.0</td>\n",
       "      <td>8.0</td>\n",
       "      <td>38.0</td>\n",
       "      <td>3.0</td>\n",
       "      <td>105.90</td>\n",
       "      <td>7.0</td>\n",
       "    </tr>\n",
       "    <tr>\n",
       "      <th>7816</th>\n",
       "      <td>CHEMBL4584981</td>\n",
       "      <td>CO[C@@H](C)c1c(Nc2ccc([C@@H](N(C)C(=O)C3CCS(=O...</td>\n",
       "      <td>Inhibition</td>\n",
       "      <td>-18.05</td>\n",
       "      <td>%</td>\n",
       "      <td>574.025</td>\n",
       "      <td>546.809</td>\n",
       "      <td>4.7203</td>\n",
       "      <td>136.0895</td>\n",
       "      <td>1.0</td>\n",
       "      <td>8.0</td>\n",
       "      <td>38.0</td>\n",
       "      <td>3.0</td>\n",
       "      <td>105.90</td>\n",
       "      <td>7.0</td>\n",
       "    </tr>\n",
       "    <tr>\n",
       "      <th>7817</th>\n",
       "      <td>CHEMBL4802042</td>\n",
       "      <td>COc1nc2ccc([C@@](O)(c3ccccc3)C3CCN(C(C)=O)CC3)...</td>\n",
       "      <td>Inhibition</td>\n",
       "      <td>30.00</td>\n",
       "      <td>%</td>\n",
       "      <td>581.116</td>\n",
       "      <td>547.852</td>\n",
       "      <td>6.1677</td>\n",
       "      <td>164.0938</td>\n",
       "      <td>1.0</td>\n",
       "      <td>6.0</td>\n",
       "      <td>42.0</td>\n",
       "      <td>5.0</td>\n",
       "      <td>80.48</td>\n",
       "      <td>7.0</td>\n",
       "    </tr>\n",
       "    <tr>\n",
       "      <th>7818</th>\n",
       "      <td>CHEMBL4802042</td>\n",
       "      <td>COc1nc2ccc([C@@](O)(c3ccccc3)C3CCN(C(C)=O)CC3)...</td>\n",
       "      <td>Inhibition</td>\n",
       "      <td>18.00</td>\n",
       "      <td>%</td>\n",
       "      <td>581.116</td>\n",
       "      <td>547.852</td>\n",
       "      <td>6.1677</td>\n",
       "      <td>164.0938</td>\n",
       "      <td>1.0</td>\n",
       "      <td>6.0</td>\n",
       "      <td>42.0</td>\n",
       "      <td>5.0</td>\n",
       "      <td>80.48</td>\n",
       "      <td>7.0</td>\n",
       "    </tr>\n",
       "  </tbody>\n",
       "</table>\n",
       "<p>7819 rows × 15 columns</p>\n",
       "</div>"
      ],
      "text/plain": [
       "     molecule_chembl_id                                   canonical_smiles  \\\n",
       "0         CHEMBL1790051    COC(=O)[C@@H]1C2CC[C@H](C[C@@H]1c1ccccc1)N2C.Cl   \n",
       "1         CHEMBL1790051    COC(=O)[C@@H]1C2CC[C@H](C[C@@H]1c1ccccc1)N2C.Cl   \n",
       "2         CHEMBL1790051    COC(=O)[C@@H]1C2CC[C@H](C[C@@H]1c1ccccc1)N2C.Cl   \n",
       "3          CHEMBL370805  COC(=O)[C@H]1[C@@H](OC(=O)c2ccccc2)C[C@@H]2CC[...   \n",
       "4          CHEMBL370805  COC(=O)[C@H]1[C@@H](OC(=O)c2ccccc2)C[C@@H]2CC[...   \n",
       "...                 ...                                                ...   \n",
       "7814      CHEMBL4802045  CC[C@@H](Nc1c(C#N)c(-c2ccc(-c3cccc(C)c3F)cc2)n...   \n",
       "7815      CHEMBL4568735  CO[C@@H](C)c1c(Nc2ccc([C@H](N(C)C(=O)C3CCS(=O)...   \n",
       "7816      CHEMBL4584981  CO[C@@H](C)c1c(Nc2ccc([C@@H](N(C)C(=O)C3CCS(=O...   \n",
       "7817      CHEMBL4802042  COc1nc2ccc([C@@](O)(c3ccccc3)C3CCN(C(C)=O)CC3)...   \n",
       "7818      CHEMBL4802042  COc1nc2ccc([C@@](O)(c3ccccc3)C3CCN(C(C)=O)CC3)...   \n",
       "\n",
       "     standard_type  standard_value standard_units       MW  HeavyAtomMolWt  \\\n",
       "0               Ki           33.00             nM  295.810         273.634   \n",
       "1               Ki          314.00             nM  295.810         273.634   \n",
       "2             IC50          373.00             nM  295.810         273.634   \n",
       "3               Ki           32.00             nM  303.358         282.190   \n",
       "4               Ki          388.00             nM  303.358         282.190   \n",
       "...            ...             ...            ...      ...             ...   \n",
       "7814    Inhibition          -12.00              %  440.478         419.310   \n",
       "7815    Inhibition          -17.37              %  574.025         546.809   \n",
       "7816    Inhibition          -18.05              %  574.025         546.809   \n",
       "7817    Inhibition           30.00              %  581.116         547.852   \n",
       "7818    Inhibition           18.00              %  581.116         547.852   \n",
       "\n",
       "        LogP     MolMR  NumHDonors  NumHAcceptors  NumAtoms   AR    TPSA   RB  \n",
       "0     2.8477   81.1270         0.0            3.0      20.0  1.0   29.54  2.0  \n",
       "1     2.8477   81.1270         0.0            3.0      20.0  1.0   29.54  2.0  \n",
       "2     2.8477   81.1270         0.0            3.0      20.0  1.0   29.54  2.0  \n",
       "3     1.8677   80.3415         0.0            5.0      22.0  1.0   55.84  3.0  \n",
       "4     1.8677   80.3415         0.0            5.0      22.0  1.0   55.84  3.0  \n",
       "...      ...       ...         ...            ...       ...  ...     ...  ...  \n",
       "7814  5.5581  125.1575         2.0            5.0      33.0  4.0   98.90  6.0  \n",
       "7815  4.7203  136.0895         1.0            8.0      38.0  3.0  105.90  7.0  \n",
       "7816  4.7203  136.0895         1.0            8.0      38.0  3.0  105.90  7.0  \n",
       "7817  6.1677  164.0938         1.0            6.0      42.0  5.0   80.48  7.0  \n",
       "7818  6.1677  164.0938         1.0            6.0      42.0  5.0   80.48  7.0  \n",
       "\n",
       "[7819 rows x 15 columns]"
      ]
     },
     "execution_count": 62,
     "metadata": {},
     "output_type": "execute_result"
    }
   ],
   "source": [
    "data_all"
   ]
  },
  {
   "cell_type": "code",
   "execution_count": 63,
   "id": "609ef695",
   "metadata": {},
   "outputs": [
    {
     "data": {
      "text/plain": [
       "(7819, 15)"
      ]
     },
     "execution_count": 63,
     "metadata": {},
     "output_type": "execute_result"
    }
   ],
   "source": [
    "data_all.shape"
   ]
  },
  {
   "cell_type": "code",
   "execution_count": 64,
   "id": "690fc4ca",
   "metadata": {},
   "outputs": [
    {
     "data": {
      "text/plain": [
       "molecule_chembl_id       0\n",
       "canonical_smiles         0\n",
       "standard_type            0\n",
       "standard_value        1953\n",
       "standard_units        1762\n",
       "MW                       0\n",
       "HeavyAtomMolWt           0\n",
       "LogP                     0\n",
       "MolMR                    0\n",
       "NumHDonors               0\n",
       "NumHAcceptors            0\n",
       "NumAtoms                 0\n",
       "AR                       0\n",
       "TPSA                     0\n",
       "RB                       0\n",
       "dtype: int64"
      ]
     },
     "execution_count": 64,
     "metadata": {},
     "output_type": "execute_result"
    }
   ],
   "source": [
    "data_all.isna().sum()"
   ]
  },
  {
   "cell_type": "code",
   "execution_count": 65,
   "id": "ba004972",
   "metadata": {},
   "outputs": [
    {
     "data": {
      "image/png": "[encoded data removed]",
      "text/plain": [
       "<PIL.PngImagePlugin.PngImageFile image mode=RGB size=300x300>"
      ]
     },
     "execution_count": 65,
     "metadata": {},
     "output_type": "execute_result"
    }
   ],
   "source": [
    "#Visualise each chemical compound\n",
    "\n",
    "mol=Chem.MolFromSmiles(data_all[\"canonical_smiles\"][7])\n",
    "img = Draw.MolToImage(mol)\n",
    "img"
   ]
  },
  {
   "cell_type": "code",
   "execution_count": 64,
   "id": "74e61e1d",
   "metadata": {},
   "outputs": [],
   "source": [
    "#Toxicty prediction using pre trained model\n",
    "\n",
    "#https://github.com/pulimeng/eToxPred\n",
    "def toxicity(smiles, verbose=False):\n",
    "    model = joblib.load('etoxpred_best_model.joblib')\n",
    "    mol = calc.pandas([smiles]).iloc[0]\n",
    "\n",
    "    # Use the model to predict the toxicity of the compound\n",
    "    toxicity_prediction = model.predict([mol])[0]\n",
    "\n",
    "    # Return the probability of the compound being toxic\n",
    "    return toxicity_prediction\n",
    "    \n"
   ]
  },
  {
   "cell_type": "code",
   "execution_count": 65,
   "id": "0f22a61c",
   "metadata": {},
   "outputs": [
    {
     "data": {
      "text/plain": [
       "0       <rdkit.Chem.rdchem.Mol object at 0x28ba99770>\n",
       "1       <rdkit.Chem.rdchem.Mol object at 0x28ba999a0>\n",
       "2       <rdkit.Chem.rdchem.Mol object at 0x28ba99d90>\n",
       "3       <rdkit.Chem.rdchem.Mol object at 0x28ba9a180>\n",
       "4       <rdkit.Chem.rdchem.Mol object at 0x28ba9a260>\n",
       "                            ...                      \n",
       "7814    <rdkit.Chem.rdchem.Mol object at 0x28e1c9b60>\n",
       "7815    <rdkit.Chem.rdchem.Mol object at 0x28e1c9bd0>\n",
       "7816    <rdkit.Chem.rdchem.Mol object at 0x28e1c9c40>\n",
       "7817    <rdkit.Chem.rdchem.Mol object at 0x28e1c9cb0>\n",
       "7818    <rdkit.Chem.rdchem.Mol object at 0x28e1c9d20>\n",
       "Name: mol, Length: 7819, dtype: object"
      ]
     },
     "execution_count": 65,
     "metadata": {},
     "output_type": "execute_result"
    }
   ],
   "source": [
    "#Convert the canonical smiles from string to rdkit molecular structure/molecular instance\n",
    "data[\"mol\"]=data[\"canonical_smiles\"].apply(lambda x: Chem.MolFromSmiles(x))\n",
    "\n",
    "data[\"mol\"]"
   ]
  },
  {
   "cell_type": "code",
   "execution_count": 17,
   "id": "687f02af",
   "metadata": {},
   "outputs": [],
   "source": [
    "smiles = ['CCOC(=O)C1=CC2=C(NC(=O)C=C2)C=C1', 'CC(=O)Nc1ccc(cc1)C(=O)O', np.nan]\n",
    "smiles = smiles"
   ]
  },
  {
   "cell_type": "code",
   "execution_count": null,
   "id": "0b13707f",
   "metadata": {
    "scrolled": true
   },
   "outputs": [],
   "source": [
    "data[\"mol\"].apply(toxicity)"
   ]
  },
  {
   "cell_type": "code",
   "execution_count": null,
   "id": "66b3a3fe",
   "metadata": {},
   "outputs": [],
   "source": [
    "df[\"toxicity_prediction\"]"
   ]
  },
  {
   "cell_type": "code",
   "execution_count": null,
   "id": "c3982824",
   "metadata": {},
   "outputs": [],
   "source": []
  },
  {
   "cell_type": "code",
   "execution_count": 66,
   "id": "37149844",
   "metadata": {},
   "outputs": [
    {
     "name": "stdout",
     "output_type": "stream",
     "text": [
      "data_ki shape:  (3031, 15)\n",
      "data_ic50 shape:  (3344, 15)\n",
      "data_inh shape:  (1258, 15)\n",
      "data_act shape:  (186, 15)\n"
     ]
    }
   ],
   "source": [
    "#Separate out standard types\n",
    "data_ki = data_all[data_all[\"standard_type\"]==\"Ki\"]\n",
    "data_ki=data_ki.reset_index(drop=True)\n",
    "print(\"data_ki shape: \",data_ki.shape)\n",
    "data_ic50 = data_all[data_all[\"standard_type\"]==\"IC50\"]\n",
    "data_ic50=data_ic50.reset_index(drop=True)\n",
    "print(\"data_ic50 shape: \",data_ic50.shape)\n",
    "data_inh = data_all[data_all[\"standard_type\"]==\"Inhibition\"]\n",
    "data_inh=data_inh.reset_index(drop=True)\n",
    "print(\"data_inh shape: \",data_inh.shape)\n",
    "data_act = data_all[data_all[\"standard_type\"]==\"Activity\"]\n",
    "data_act=data_act.reset_index(drop=True)\n",
    "print(\"data_act shape: \",data_act.shape)"
   ]
  },
  {
   "cell_type": "code",
   "execution_count": 67,
   "id": "86c4b692",
   "metadata": {},
   "outputs": [
    {
     "name": "stdout",
     "output_type": "stream",
     "text": [
      "data_ki shape:  (2193, 15)\n",
      "data_ic50 shape:  (2466, 15)\n",
      "data_inh shape:  (1258, 15)\n",
      "data_act shape:  (128, 15)\n"
     ]
    }
   ],
   "source": [
    "#Clean out all the standard_units\n",
    "data_ki=data_ki[data_ki[\"standard_units\"]==\"nM\"]\n",
    "data_ki=data_ki.reset_index(drop=True)\n",
    "print(\"data_ki shape: \",data_ki.shape)\n",
    "data_ic50=data_ic50[data_ic50[\"standard_units\"]==\"nM\"]\n",
    "data_ic50=data_ic50.reset_index(drop=True)\n",
    "print(\"data_ic50 shape: \",data_ic50.shape)\n",
    "data_inh=data_inh[data_inh[\"standard_units\"]==\"%\"]\n",
    "data_inh=data_inh.reset_index(drop=True)\n",
    "print(\"data_inh shape: \",data_inh.shape)\n",
    "data_act=data_act[data_act[\"standard_units\"]==\"%\"]\n",
    "data_act=data_act.reset_index(drop=True)\n",
    "print(\"data_act shape: \",data_act.shape)\n",
    "#Ki and IC50 are in nanomolar units and inhibition and activity are in % units"
   ]
  },
  {
   "cell_type": "code",
   "execution_count": 68,
   "id": "840e8078",
   "metadata": {},
   "outputs": [
    {
     "name": "stdout",
     "output_type": "stream",
     "text": [
      "ki units:  nM    2193\n",
      "Name: standard_units, dtype: int64\n",
      "ic50 units:  nM    2466\n",
      "Name: standard_units, dtype: int64\n",
      "inh units:  %    1258\n",
      "Name: standard_units, dtype: int64\n",
      "act units:  %    128\n",
      "Name: standard_units, dtype: int64\n"
     ]
    }
   ],
   "source": [
    "#Print the standrad units\n",
    "print(\"ki units: \",data_ki[\"standard_units\"].value_counts())\n",
    "print(\"ic50 units: \",data_ic50[\"standard_units\"].value_counts())\n",
    "print(\"inh units: \",data_inh[\"standard_units\"].value_counts())\n",
    "print(\"act units: \",data_act[\"standard_units\"].value_counts())\n"
   ]
  },
  {
   "cell_type": "code",
   "execution_count": 69,
   "id": "94fa6c4e",
   "metadata": {},
   "outputs": [
    {
     "name": "stdout",
     "output_type": "stream",
     "text": [
      "missing in ki 3\n",
      "missing in ic50 13\n",
      "missing in inh 175\n",
      "missing in act 0\n"
     ]
    }
   ],
   "source": [
    "#Missing values in each activity class\n",
    "print(\"missing in ki\",data_ki.standard_value.isna().sum())\n",
    "print(\"missing in ic50\",data_ic50.standard_value.isna().sum())\n",
    "print(\"missing in inh\",data_inh.standard_value.isna().sum())\n",
    "print(\"missing in act\",data_act.standard_value.isna().sum())"
   ]
  },
  {
   "cell_type": "code",
   "execution_count": 70,
   "id": "cb8ea1bf",
   "metadata": {},
   "outputs": [],
   "source": [
    "#Download data_inh to csv to try out all missing algorithms\n",
    "data_inh.to_csv('missing_data.csv', index=False)"
   ]
  },
  {
   "cell_type": "code",
   "execution_count": 71,
   "id": "982d27a7",
   "metadata": {},
   "outputs": [],
   "source": [
    "#Find missing rows\n",
    "#data_ic50[data_ic50.standard_value.isna()] "
   ]
  },
  {
   "cell_type": "code",
   "execution_count": 72,
   "id": "a6a24693",
   "metadata": {},
   "outputs": [
    {
     "data": {
      "text/plain": [
       "molecule_chembl_id    0\n",
       "canonical_smiles      0\n",
       "standard_type         0\n",
       "standard_value        3\n",
       "standard_units        0\n",
       "MW                    0\n",
       "HeavyAtomMolWt        0\n",
       "LogP                  0\n",
       "MolMR                 0\n",
       "NumHDonors            0\n",
       "NumHAcceptors         0\n",
       "NumAtoms              0\n",
       "AR                    0\n",
       "TPSA                  0\n",
       "RB                    0\n",
       "dtype: int64"
      ]
     },
     "execution_count": 72,
     "metadata": {},
     "output_type": "execute_result"
    }
   ],
   "source": [
    "data_ki.isna().sum()"
   ]
  },
  {
   "cell_type": "code",
   "execution_count": 73,
   "id": "d7a63822",
   "metadata": {},
   "outputs": [],
   "source": [
    "#Drop the small missing values for ki, ic50\n",
    "data_ki = data_ki.drop(labels=[294,296,326], axis=0)\n",
    "data_ki=data_ki.reset_index(drop=True)\n",
    "data_ic50 = data_ic50.drop(labels=[17,18,27,28,167,185,194,294,322,330,333,335,343], axis=0)\n",
    "data_ic50=data_ic50.reset_index(drop=True)"
   ]
  },
  {
   "cell_type": "code",
   "execution_count": 74,
   "id": "358b1306",
   "metadata": {},
   "outputs": [
    {
     "name": "stdout",
     "output_type": "stream",
     "text": [
      "Min inh value: -63.9 Max inh value: 105.0\n"
     ]
    }
   ],
   "source": [
    "#Print range of data before imputing\n",
    "print(\"Min inh value:\",min(data_inh.standard_value),\"Max inh value:\",max(data_inh.standard_value))"
   ]
  },
  {
   "cell_type": "code",
   "execution_count": 75,
   "id": "5e6d58d0",
   "metadata": {
    "scrolled": false
   },
   "outputs": [
    {
     "data": {
      "text/plain": [
       "<AxesSubplot: >"
      ]
     },
     "execution_count": 75,
     "metadata": {},
     "output_type": "execute_result"
    },
    {
     "data": {
      "image/png": "[encoded data removed]",
      "text/plain": [
       "<Figure size 640x480 with 1 Axes>"
      ]
     },
     "metadata": {},
     "output_type": "display_data"
    }
   ],
   "source": [
    "#Missing Data imputation\n",
    "\n",
    "#Visualizing the missing valuees in data_inh\n",
    "sns.heatmap(data_inh.isnull(), cbar=False)\n",
    "\n"
   ]
  },
  {
   "cell_type": "code",
   "execution_count": 152,
   "id": "ad4aa7d0",
   "metadata": {
    "scrolled": true
   },
   "outputs": [
    {
     "data": {
      "text/plain": [
       "<AxesSubplot: >"
      ]
     },
     "execution_count": 152,
     "metadata": {},
     "output_type": "execute_result"
    },
    {
     "data": {
      "image/png": "[encoded data removed]",
      "text/plain": [
       "<Figure size 2500x1000 with 2 Axes>"
      ]
     },
     "metadata": {},
     "output_type": "display_data"
    }
   ],
   "source": [
    "msno.matrix(data_inh)"
   ]
  },
  {
   "cell_type": "code",
   "execution_count": 76,
   "id": "6d37942f",
   "metadata": {},
   "outputs": [
    {
     "name": "stdout",
     "output_type": "stream",
     "text": [
      "The missing values are MCAR\n"
     ]
    }
   ],
   "source": [
    "#Null hypothesis - Missing values are MCAR\n",
    "#Alternate hypthesis - Missing values are NOT MCAR\n",
    "\n",
    "#Calculating chi-squared test statistic and p-value\n",
    "chi2_stat = data_inh.isnull().sum().pipe(lambda x: ((x-x.mean())/x.std()).pow(2).sum())\n",
    "p_val = chi2.sf(chi2_stat, data_inh.shape[1]-1)\n",
    "if p_val < 0.05:\n",
    "    print(\"The missing values are not MCAR\")\n",
    "else:\n",
    "    print(\"The missing values are MCAR\")\n",
    "    "
   ]
  },
  {
   "cell_type": "code",
   "execution_count": 77,
   "id": "32e505de",
   "metadata": {},
   "outputs": [
    {
     "data": {
      "text/plain": [
       "(1258, 11)"
      ]
     },
     "execution_count": 77,
     "metadata": {},
     "output_type": "execute_result"
    }
   ],
   "source": [
    "data_impute=data_inh[[\"standard_value\",\"MW\",\"HeavyAtomMolWt\",\"LogP\",\"MolMR\",\"NumHDonors\",\"NumHAcceptors\",\"NumAtoms\",\"AR\",\"TPSA\",\"RB\"]]\n",
    "data_impute.shape"
   ]
  },
  {
   "cell_type": "code",
   "execution_count": 78,
   "id": "93266f44",
   "metadata": {},
   "outputs": [
    {
     "data": {
      "text/plain": [
       "105.0"
      ]
     },
     "execution_count": 78,
     "metadata": {},
     "output_type": "execute_result"
    }
   ],
   "source": [
    "max(data_inh[\"standard_value\"])"
   ]
  },
  {
   "cell_type": "code",
   "execution_count": 79,
   "id": "e88dd290",
   "metadata": {
    "scrolled": false
   },
   "outputs": [
    {
     "name": "stdout",
     "output_type": "stream",
     "text": [
      "Average training error: 3814.246390869825\n",
      "Average validation error: 3503.501749664158\n"
     ]
    }
   ],
   "source": [
    "#MICE ALGORITHM WITH K-FOLD CROSS VALIDATION\n",
    "#Finding training and validation loss using MICE\n",
    "mice_imputer=IterativeImputer()\n",
    "n_folds = 5\n",
    "#cross validation object\n",
    "kf = KFold(n_splits=n_folds, shuffle=True)\n",
    "#training error list\n",
    "train_errors = np.zeros(n_folds)\n",
    "#validation error list\n",
    "val_errors = np.zeros(n_folds)\n",
    "\n",
    "for i, (train_index, val_index) in enumerate(kf.split(data_inh)):\n",
    "    # split data into training and validation sets\n",
    "    train_df = data_impute.iloc[train_index]\n",
    "    val_df = data_impute.iloc[val_index]\n",
    "\n",
    "    # impute missing values using MICE on training set\n",
    "    train_imputed_array = mice_imputer.fit_transform(train_df)\n",
    "    train_imputed_df = pd.DataFrame(train_imputed_array, columns=train_df.columns)\n",
    "\n",
    "    # calculate training error\n",
    "    train_error = ((train_df - train_imputed_df) ** 2).mean().mean()\n",
    "    train_errors[i] = train_error\n",
    "\n",
    "    # impute missing values using MICE on validation set\n",
    "    val_imputed_array = mice_imputer.transform(val_df)\n",
    "    val_imputed_df = pd.DataFrame(val_imputed_array, columns=val_df.columns)\n",
    "\n",
    "    # calculate validation error\n",
    "    val_error = ((val_df - val_imputed_df) ** 2).mean().mean()\n",
    "    val_errors[i] = val_error\n",
    "\n",
    "\n",
    "print(\"Average training error:\", train_errors.mean())\n",
    "print(\"Average validation error:\", val_errors.mean())"
   ]
  },
  {
   "cell_type": "code",
   "execution_count": 80,
   "id": "da93c810",
   "metadata": {},
   "outputs": [],
   "source": [
    "#MICE ALGORITHM - working\n",
    "mice_imputer=IterativeImputer()\n",
    "imputed_array = mice_imputer.fit_transform(data_impute)\n",
    "imputed_df = pd.DataFrame(imputed_array, columns=data_impute.columns)"
   ]
  },
  {
   "cell_type": "code",
   "execution_count": 81,
   "id": "c267cc24",
   "metadata": {},
   "outputs": [
    {
     "name": "stdout",
     "output_type": "stream",
     "text": [
      "missing in inh 0\n"
     ]
    }
   ],
   "source": [
    "print(\"missing in inh\",imputed_df.standard_value.isna().sum())"
   ]
  },
  {
   "cell_type": "code",
   "execution_count": 82,
   "id": "b4d532a2",
   "metadata": {},
   "outputs": [
    {
     "data": {
      "text/plain": [
       "(1258, 15)"
      ]
     },
     "execution_count": 82,
     "metadata": {},
     "output_type": "execute_result"
    }
   ],
   "source": [
    "#Concatenate standard values to data_inh\n",
    "\n",
    "data_inh[\"standard_value\"]=imputed_df[\"standard_value\"]\n",
    "data_inh.shape\n"
   ]
  },
  {
   "cell_type": "code",
   "execution_count": 400,
   "id": "3da31ec0",
   "metadata": {},
   "outputs": [],
   "source": [
    "#MIDAS ALGORITHM USING AUTOENCODERS - TRY MORE MISSING VALUES ALGORITHM FOR COMPARISON\n"
   ]
  },
  {
   "cell_type": "code",
   "execution_count": 411,
   "id": "53e40cc9",
   "metadata": {},
   "outputs": [],
   "source": [
    "#molecule_chembl_id - remove redundancy - ????\n",
    "#data_all = data_all.drop_duplicates(['molecule_chembl_id'])\n",
    "#data_all.molecule_chembl_id.value_counts()\n",
    "#data_all.shape"
   ]
  },
  {
   "cell_type": "code",
   "execution_count": 83,
   "id": "7d8c0fa9",
   "metadata": {
    "scrolled": true
   },
   "outputs": [
    {
     "name": "stdout",
     "output_type": "stream",
     "text": [
      "Min Ki value: 0.12 Max Ki value: 912010839355911.6\n",
      "Min ic50 value: 0.002 Max ic50 value: 744000.0\n",
      "Min inh value: -63.9 Max inh value: 105.0\n",
      "Min act value: 0.0 Max act value: 10000.0\n"
     ]
    }
   ],
   "source": [
    "#Checking range of values\n",
    "#Ki is the binding affility of a compound to the dopamin receptor - strength of interaction\n",
    "#Ki value represents the concentration of the ligand required to occupy 50% of the target protein binding sites. \n",
    "#Lowe Ki value indicates stronger binding affinity, higher Ki refers to weaker binding affinity\n",
    "#Range: 0.12 to 912010839355911.6\n",
    "print(\"Min Ki value:\",min(data_ki.standard_value),\"Max Ki value:\",max(data_ki.standard_value))\n",
    "\n",
    "#IC50 refers to the concentration of inhibitor required to reduce the enzymatic activity to half of the uninhibited \n",
    "#value. Lower the IC50, better the potency of the drug as we can use less concentration of this drug.\n",
    "#Range: 0.002 to 744000\n",
    "print(\"Min ic50 value:\",min(data_ic50.standard_value),\"Max ic50 value:\",max(data_ic50.standard_value))\n",
    "\n",
    "#Inhibition value indicates the compound's ability to bind to and block the activity of the target protein.\n",
    "#Negative inhibition value indicates that, inversely it is stimulating the activity\n",
    "#Higher the inhibition value, the better inhibition it provides\n",
    "#Range: -63.9 to 105.0\n",
    "print(\"Min inh value:\",min(data_inh.standard_value),\"Max inh value:\",max(data_inh.standard_value))\n",
    "\n",
    "#Activity is the quantitative endpoint of concentration of a compound required to achieve inhibition activity\n",
    "#The higher the activity value, indicates a stronger biological activity\n",
    "#Activity is from 0.0 to 10000\n",
    "print(\"Min act value:\",min(data_act.standard_value),\"Max act value:\",max(data_act.standard_value))"
   ]
  },
  {
   "cell_type": "code",
   "execution_count": 84,
   "id": "c00d4ff6",
   "metadata": {},
   "outputs": [
    {
     "data": {
      "image/png": "[encoded data removed]",
      "text/plain": [
       "<Figure size 1200x400 with 4 Axes>"
      ]
     },
     "metadata": {},
     "output_type": "display_data"
    }
   ],
   "source": [
    "#Distribution of standard values in each class\n",
    "fig, axs = plt.subplots(1, 4, figsize=(12, 4))\n",
    "axs[0].hist(data_ki.standard_value, bins=20)\n",
    "axs[1].hist(data_ic50.standard_value, bins=20)\n",
    "axs[2].hist(data_inh.standard_value, bins=20)\n",
    "axs[3].hist(data_act.standard_value, bins=20)\n",
    "\n",
    "axs[0].set_title('Ki')\n",
    "axs[1].set_title('IC50')\n",
    "axs[2].set_title('Inh')\n",
    "axs[3].set_title('Activity')\n",
    "\n",
    "fig.text(0.5, 0.04, 'Values', ha='center')\n",
    "fig.text(0.04, 0.5, 'Frequency', va='center', rotation='vertical')\n",
    "\n",
    "plt.subplots_adjust(wspace=0.4)\n",
    "\n",
    "plt.show()"
   ]
  },
  {
   "cell_type": "code",
   "execution_count": 85,
   "id": "2a7d6205",
   "metadata": {},
   "outputs": [
    {
     "name": "stdout",
     "output_type": "stream",
     "text": [
      "Min inh value: 36.1 Max inh value: 205.0\n"
     ]
    }
   ],
   "source": [
    "#Centering the inhibition values\n",
    "#Adding 100 to the whole column\n",
    "data_inh[\"standard_value\"] =data_inh[\"standard_value\"]+100\n",
    "print(\"Min inh value:\",min(data_inh.standard_value),\"Max inh value:\",max(data_inh.standard_value))"
   ]
  },
  {
   "cell_type": "code",
   "execution_count": 86,
   "id": "6c80c35c",
   "metadata": {},
   "outputs": [
    {
     "data": {
      "text/plain": [
       "(array([  4.,   0.,   7.,   6.,  16.,  40.,  39.,  94., 202., 112.,  93.,\n",
       "        108.,  65., 182.,  51.,  44.,  41.,  37.,  50.,  67.]),\n",
       " array([ 36.1  ,  44.545,  52.99 ,  61.435,  69.88 ,  78.325,  86.77 ,\n",
       "         95.215, 103.66 , 112.105, 120.55 , 128.995, 137.44 , 145.885,\n",
       "        154.33 , 162.775, 171.22 , 179.665, 188.11 , 196.555, 205.   ]),\n",
       " <BarContainer object of 20 artists>)"
      ]
     },
     "execution_count": 86,
     "metadata": {},
     "output_type": "execute_result"
    },
    {
     "data": {
      "image/png": "[encoded data removed]",
      "text/plain": [
       "<Figure size 640x480 with 1 Axes>"
      ]
     },
     "metadata": {},
     "output_type": "display_data"
    }
   ],
   "source": [
    "plt.hist(data_inh.standard_value, bins=20)"
   ]
  },
  {
   "cell_type": "code",
   "execution_count": 87,
   "id": "97393ec8",
   "metadata": {},
   "outputs": [
    {
     "name": "stdout",
     "output_type": "stream",
     "text": [
      "inactive    1447\n",
      "active       743\n",
      "Name: bioactivity_class, dtype: int64\n",
      "(2190, 16)\n"
     ]
    }
   ],
   "source": [
    "#SET THRESHOLDS FOR EACH CLASS AND CREATE COLUMN AS ACTIVE OR INACTIVE\n",
    "#Ki\n",
    "bioactivity_class = []\n",
    "for i in data_ki.standard_value:\n",
    "  if float(i) >= 100:\n",
    "    bioactivity_class.append(\"inactive\")\n",
    "  elif float(i) <= 100:\n",
    "    bioactivity_class.append(\"active\")\n",
    "\n",
    "bioactivity_class = pd.Series(bioactivity_class, name='bioactivity_class')\n",
    "data_ki = pd.concat([data_ki, bioactivity_class], axis=1)\n",
    "\n",
    "print(data_ki[\"bioactivity_class\"].value_counts())\n",
    "print(data_ki.shape)"
   ]
  },
  {
   "cell_type": "code",
   "execution_count": 88,
   "id": "b65761f5",
   "metadata": {},
   "outputs": [
    {
     "name": "stdout",
     "output_type": "stream",
     "text": [
      "inactive    1751\n",
      "active       702\n",
      "Name: bioactivity_class, dtype: int64\n",
      "(2453, 16)\n"
     ]
    }
   ],
   "source": [
    "#IC50\n",
    "bioactivity_class = []\n",
    "for i in data_ic50.standard_value:\n",
    "  if float(i) >= 100:\n",
    "    bioactivity_class.append(\"inactive\")\n",
    "  elif float(i) <= 100:\n",
    "    bioactivity_class.append(\"active\")\n",
    "\n",
    "bioactivity_class = pd.Series(bioactivity_class, name='bioactivity_class')\n",
    "data_ic50 = pd.concat([data_ic50, bioactivity_class], axis=1)\n",
    "print(data_ic50[\"bioactivity_class\"].value_counts())\n",
    "print(data_ic50.shape)"
   ]
  },
  {
   "cell_type": "code",
   "execution_count": 89,
   "id": "e71a0e18",
   "metadata": {},
   "outputs": [
    {
     "name": "stdout",
     "output_type": "stream",
     "text": [
      "inactive    1053\n",
      "active       205\n",
      "Name: bioactivity_class, dtype: int64\n",
      "(1258, 16)\n"
     ]
    }
   ],
   "source": [
    "#Inhibition\n",
    "bioactivity_class = []\n",
    "for i in data_inh.standard_value:\n",
    "  if float(i) < 170:\n",
    "    bioactivity_class.append(\"inactive\")\n",
    "  elif float(i) >= 170:\n",
    "    bioactivity_class.append(\"active\")\n",
    "\n",
    "bioactivity_class = pd.Series(bioactivity_class, name='bioactivity_class')\n",
    "data_inh = pd.concat([data_inh, bioactivity_class], axis=1)\n",
    "print(data_inh[\"bioactivity_class\"].value_counts())\n",
    "print(data_inh.shape)"
   ]
  },
  {
   "cell_type": "code",
   "execution_count": 90,
   "id": "735294f0",
   "metadata": {
    "scrolled": true
   },
   "outputs": [
    {
     "name": "stdout",
     "output_type": "stream",
     "text": [
      "inactive    95\n",
      "active      33\n",
      "Name: bioactivity_class, dtype: int64\n",
      "(128, 16)\n"
     ]
    }
   ],
   "source": [
    "#Activity\n",
    "bioactivity_class = []\n",
    "for i in data_act.standard_value:\n",
    "  if float(i) < 100:\n",
    "    bioactivity_class.append(\"inactive\")\n",
    "  elif float(i) >= 100:\n",
    "    bioactivity_class.append(\"active\")\n",
    "\n",
    "bioactivity_class = pd.Series(bioactivity_class, name='bioactivity_class')\n",
    "data_act = pd.concat([data_act, bioactivity_class], axis=1)\n",
    "print(data_act[\"bioactivity_class\"].value_counts())\n",
    "print(data_act.shape)"
   ]
  },
  {
   "cell_type": "code",
   "execution_count": 91,
   "id": "4e277308",
   "metadata": {},
   "outputs": [
    {
     "data": {
      "text/plain": [
       "(6029, 16)"
      ]
     },
     "execution_count": 91,
     "metadata": {},
     "output_type": "execute_result"
    }
   ],
   "source": [
    "#CONCATENATE ALL THE 4 DATA CLASSES\n",
    "data_all = pd.concat([data_ki,data_ic50,data_inh,data_act],ignore_index = True,sort = False)\n",
    "\n",
    "data_all.shape"
   ]
  },
  {
   "cell_type": "code",
   "execution_count": 92,
   "id": "b3ca36cb",
   "metadata": {
    "scrolled": true
   },
   "outputs": [
    {
     "data": {
      "text/plain": [
       "molecule_chembl_id    0\n",
       "canonical_smiles      0\n",
       "standard_type         0\n",
       "standard_value        0\n",
       "standard_units        0\n",
       "MW                    0\n",
       "HeavyAtomMolWt        0\n",
       "LogP                  0\n",
       "MolMR                 0\n",
       "NumHDonors            0\n",
       "NumHAcceptors         0\n",
       "NumAtoms              0\n",
       "AR                    0\n",
       "TPSA                  0\n",
       "RB                    0\n",
       "bioactivity_class     0\n",
       "dtype: int64"
      ]
     },
     "execution_count": 92,
     "metadata": {},
     "output_type": "execute_result"
    }
   ],
   "source": [
    "data_all.isna().sum()"
   ]
  },
  {
   "cell_type": "code",
   "execution_count": 455,
   "id": "60850c06",
   "metadata": {},
   "outputs": [],
   "source": [
    "data_all.to_csv(\"clean_data.csv\")"
   ]
  },
  {
   "cell_type": "code",
   "execution_count": 127,
   "id": "b160ce40",
   "metadata": {},
   "outputs": [],
   "source": [
    "#FINGERPRINTS\n",
    "\n",
    "def generate_fingerprint(smiles):\n",
    "\n",
    "    mol = Chem.MolFromSmiles(smiles)\n",
    "    fingerprint = AllChem.GetMorganFingerprintAsBitVect(mol, 2)\n",
    "    fingerprint = list(fingerprint.ToBitString())\n",
    "    return fingerprint\n",
    "\n"
   ]
  },
  {
   "cell_type": "code",
   "execution_count": 142,
   "id": "2581e9c8",
   "metadata": {
    "scrolled": true
   },
   "outputs": [
    {
     "data": {
      "text/plain": [
       "2       [0, 1, 0, 0, 0, 0, 0, 0, 0, 0, 0, 0, 0, 0, 0, ...\n",
       "3       [0, 1, 0, 0, 0, 0, 0, 0, 0, 0, 0, 0, 0, 0, 0, ...\n",
       "5       [0, 1, 0, 0, 0, 0, 0, 0, 0, 0, 0, 0, 0, 0, 0, ...\n",
       "6       [0, 1, 0, 0, 0, 0, 0, 0, 0, 0, 0, 0, 0, 0, 0, ...\n",
       "13      [0, 1, 0, 0, 0, 0, 0, 0, 1, 0, 0, 0, 0, 0, 0, ...\n",
       "                              ...                        \n",
       "7495    [0, 1, 0, 0, 0, 0, 0, 0, 0, 0, 0, 0, 0, 1, 0, ...\n",
       "7496    [0, 1, 0, 0, 0, 0, 0, 0, 0, 0, 0, 0, 0, 0, 0, ...\n",
       "7502    [0, 1, 0, 0, 0, 0, 0, 0, 0, 0, 0, 0, 0, 0, 0, ...\n",
       "7842    [0, 1, 0, 0, 0, 0, 0, 0, 0, 0, 0, 0, 0, 0, 0, ...\n",
       "7844    [0, 0, 0, 0, 0, 0, 0, 0, 0, 0, 0, 0, 0, 0, 0, ...\n",
       "Name: canonical_smiles, Length: 6045, dtype: object"
      ]
     },
     "execution_count": 142,
     "metadata": {},
     "output_type": "execute_result"
    }
   ],
   "source": [
    "\n",
    "fingerprint = df_combined[\"canonical_smiles\"].apply(generate_fingerprint)\n",
    "fingerprint"
   ]
  },
  {
   "cell_type": "code",
   "execution_count": 96,
   "id": "ca1b2a58",
   "metadata": {},
   "outputs": [],
   "source": [
    "#STATISTICAL TESTING FOR PARAMETRIC, NON PARAMETRIC - MANN WHITNEY U TEST\n",
    "def mannwhitney(descriptor, verbose=False):\n",
    "  #source: https://machinelearningmastery.com/nonparametric-statistical-significance-tests-in-python/\n",
    "  from numpy.random import seed\n",
    "  from numpy.random import randn\n",
    "  from scipy.stats import mannwhitneyu\n",
    "\n",
    "# seed the random number generator\n",
    "  seed(1)\n",
    "\n",
    "# actives and inactives\n",
    "  selection = [descriptor, 'bioactivity_class']\n",
    "  df = data_all[selection]\n",
    "  active = df[df['bioactivity_class'] == 'active']\n",
    "  active = active[descriptor]\n",
    "\n",
    "  selection = [descriptor, 'bioactivity_class']\n",
    "  df = data_all[selection]\n",
    "  inactive = df[df['bioactivity_class'] == 'inactive']\n",
    "  inactive = inactive[descriptor]\n",
    "\n",
    "# compare samples\n",
    "  stat, p = mannwhitneyu(active, inactive)\n",
    "  #print('Statistics=%.3f, p=%.3f' % (stat, p))\n",
    "\n",
    "# interpret\n",
    "  alpha = 0.05\n",
    "  if p > alpha:\n",
    "    interpretation = 'Same distribution (fail to reject H0)'\n",
    "  else:\n",
    "    interpretation = 'Different distribution (reject H0)'\n",
    "  \n",
    "  results = pd.DataFrame({'Descriptor':descriptor,\n",
    "                          'Statistics':stat,\n",
    "                          'p':p,\n",
    "                          'alpha':alpha,\n",
    "                          'Interpretation':interpretation}, index=[0])\n",
    "  filename = 'mannwhitneyu_' + descriptor + '.csv'\n",
    "  results.to_csv(filename)\n",
    "\n",
    "  return results"
   ]
  },
  {
   "cell_type": "code",
   "execution_count": 97,
   "id": "9992a998",
   "metadata": {},
   "outputs": [
    {
     "data": {
      "text/html": [
       "<div>\n",
       "<style scoped>\n",
       "    .dataframe tbody tr th:only-of-type {\n",
       "        vertical-align: middle;\n",
       "    }\n",
       "\n",
       "    .dataframe tbody tr th {\n",
       "        vertical-align: top;\n",
       "    }\n",
       "\n",
       "    .dataframe thead th {\n",
       "        text-align: right;\n",
       "    }\n",
       "</style>\n",
       "<table border=\"1\" class=\"dataframe\">\n",
       "  <thead>\n",
       "    <tr style=\"text-align: right;\">\n",
       "      <th></th>\n",
       "      <th>Descriptor</th>\n",
       "      <th>Statistics</th>\n",
       "      <th>p</th>\n",
       "      <th>alpha</th>\n",
       "      <th>Interpretation</th>\n",
       "    </tr>\n",
       "  </thead>\n",
       "  <tbody>\n",
       "    <tr>\n",
       "      <th>0</th>\n",
       "      <td>standard_value</td>\n",
       "      <td>453406.0</td>\n",
       "      <td>0.0</td>\n",
       "      <td>0.05</td>\n",
       "      <td>Different distribution (reject H0)</td>\n",
       "    </tr>\n",
       "  </tbody>\n",
       "</table>\n",
       "</div>"
      ],
      "text/plain": [
       "       Descriptor  Statistics    p  alpha                      Interpretation\n",
       "0  standard_value    453406.0  0.0   0.05  Different distribution (reject H0)"
      ]
     },
     "execution_count": 97,
     "metadata": {},
     "output_type": "execute_result"
    }
   ],
   "source": [
    "mannwhitney('standard_value')"
   ]
  }
 ],
 "metadata": {
  "kernelspec": {
   "display_name": "Python 3 (ipykernel)",
   "language": "python",
   "name": "python3"
  },
  "language_info": {
   "codemirror_mode": {
    "name": "ipython",
    "version": 3
   },
   "file_extension": ".py",
   "mimetype": "text/x-python",
   "name": "python",
   "nbconvert_exporter": "python",
   "pygments_lexer": "ipython3",
   "version": "3.11.2"
  }
 },
 "nbformat": 4,
 "nbformat_minor": 5
}
