{
  "nbformat": 4,
  "nbformat_minor": 0,
  "metadata": {
    "colab": {
      "provenance": []
    },
    "kernelspec": {
      "name": "python3",
      "display_name": "Python 3"
    },
    "language_info": {
      "name": "python"
    }
  },
  "cells": [
    {
      "cell_type": "code",
      "source": [
        "#Reference:\n",
        "#https://github.com/Molecular-Exploration/toxicity-classification/blob/main/Colab_Notebooks/SMILES_ensemble.ipynb"
      ],
      "metadata": {
        "id": "o80XrrY0Vq5Z"
      },
      "execution_count": null,
      "outputs": []
    },
    {
      "cell_type": "code",
      "execution_count": null,
      "metadata": {
        "colab": {
          "base_uri": "https://localhost:8080/"
        },
        "id": "n5Qp6hKzMs3i",
        "outputId": "dff7b4b3-234b-493d-b7bc-f01af2d41baf"
      },
      "outputs": [
        {
          "output_type": "stream",
          "name": "stdout",
          "text": [
            "Mounted at /content/drive/\n"
          ]
        }
      ],
      "source": [
        "from google.colab import drive\n",
        "drive.mount('/content/drive/')"
      ]
    },
    {
      "cell_type": "code",
      "source": [
        "!pip install rdkit\n"
      ],
      "metadata": {
        "colab": {
          "base_uri": "https://localhost:8080/"
        },
        "id": "DQChxyYLOxzZ",
        "outputId": "beab62a3-6f3f-4d41-d6fd-e6611fb57d26"
      },
      "execution_count": null,
      "outputs": [
        {
          "output_type": "stream",
          "name": "stdout",
          "text": [
            "Looking in indexes: https://pypi.org/simple, https://us-python.pkg.dev/colab-wheels/public/simple/\n",
            "Collecting rdkit\n",
            "  Downloading rdkit-2022.9.5-cp39-cp39-manylinux_2_17_x86_64.manylinux2014_x86_64.whl (29.4 MB)\n",
            "\u001b[2K     \u001b[90m━━━━━━━━━━━━━━━━━━━━━━━━━━━━━━━━━━━━━━━━\u001b[0m \u001b[32m29.4/29.4 MB\u001b[0m \u001b[31m46.2 MB/s\u001b[0m eta \u001b[36m0:00:00\u001b[0m\n",
            "\u001b[?25hRequirement already satisfied: Pillow in /usr/local/lib/python3.9/dist-packages (from rdkit) (8.4.0)\n",
            "Requirement already satisfied: numpy in /usr/local/lib/python3.9/dist-packages (from rdkit) (1.22.4)\n",
            "Installing collected packages: rdkit\n",
            "Successfully installed rdkit-2022.9.5\n"
          ]
        }
      ]
    },
    {
      "cell_type": "code",
      "source": [
        "import pickle\n",
        "import pandas as pd\n",
        "import numpy as np\n",
        "import matplotlib.pyplot as plt\n",
        "import seaborn as sns\n",
        "import missingno as msno\n",
        "from scipy.stats import chi2\n",
        "import statsmodels.api as sm\n",
        "from sklearn.experimental import enable_iterative_imputer\n",
        "from sklearn.impute import IterativeImputer\n",
        "from sklearn import linear_model\n",
        "from rdkit import Chem,DataStructs\n",
        "from rdkit.Chem import AllChem\n",
        "from rdkit.Chem import Descriptors, Lipinski, Draw\n",
        "from sklearn.model_selection import KFold\n",
        "from sklearn.model_selection import GridSearchCV\n",
        "from sklearn.tree import DecisionTreeClassifier\n",
        "from sklearn.neighbors import KNeighborsClassifier\n",
        "from sklearn.naive_bayes import MultinomialNB\n",
        "from sklearn.ensemble import RandomForestClassifier, GradientBoostingClassifier\n",
        "from sklearn.svm import SVC\n",
        "from sklearn.metrics import accuracy_score, f1_score, recall_score\n"
      ],
      "metadata": {
        "id": "3j6tuVuBN3ZS"
      },
      "execution_count": null,
      "outputs": []
    },
    {
      "cell_type": "code",
      "source": [
        "data=pd.read_csv('/content/drive/MyDrive/Colab Notebooks/AML Group/clean_data3.csv')\n",
        "data.head()"
      ],
      "metadata": {
        "id": "NnViSGDEMzGQ",
        "colab": {
          "base_uri": "https://localhost:8080/",
          "height": 391
        },
        "outputId": "4cfb844f-b50e-4b5e-9047-1db71326ac43"
      },
      "execution_count": null,
      "outputs": [
        {
          "output_type": "execute_result",
          "data": {
            "text/plain": [
              "   Unnamed: 0 molecule_chembl_id  \\\n",
              "0           0      CHEMBL1790051   \n",
              "1           1      CHEMBL1790051   \n",
              "2           2       CHEMBL370805   \n",
              "3           3       CHEMBL370805   \n",
              "4           4       CHEMBL333280   \n",
              "\n",
              "                                              smiles standard_type  \\\n",
              "0    COC(=O)[C@@H]1C2CC[C@H](C[C@@H]1c1ccccc1)N2C.Cl            Ki   \n",
              "1    COC(=O)[C@@H]1C2CC[C@H](C[C@@H]1c1ccccc1)N2C.Cl            Ki   \n",
              "2  COC(=O)[C@H]1[C@@H](OC(=O)c2ccccc2)C[C@@H]2CC[...            Ki   \n",
              "3  COC(=O)[C@H]1[C@@H](OC(=O)c2ccccc2)C[C@@H]2CC[...            Ki   \n",
              "4  CN1CCC(O)(c2ccc(Cl)c(Cl)c2)C([C@@H](O)c2ccc(Cl...            Ki   \n",
              "\n",
              "   standard_value standard_units       MW    LogP  NumHDonors  NumHAcceptors  \\\n",
              "0            33.0             nM  295.810  2.8477         0.0            3.0   \n",
              "1           314.0             nM  295.810  2.8477         0.0            3.0   \n",
              "2            32.0             nM  303.358  1.8677         0.0            5.0   \n",
              "3           388.0             nM  303.358  1.8677         0.0            5.0   \n",
              "4          4140.0             nM  435.178  5.1731         2.0            3.0   \n",
              "\n",
              "    AR   RB bioactivity_class  bioactivity_class_encoded  \n",
              "0  1.0  2.0            active                          0  \n",
              "1  1.0  2.0          inactive                          1  \n",
              "2  1.0  3.0            active                          0  \n",
              "3  1.0  3.0          inactive                          1  \n",
              "4  2.0  3.0          inactive                          1  "
            ],
            "text/html": [
              "\n",
              "  <div id=\"df-e942cba9-457a-465d-a002-df703c0c9c82\">\n",
              "    <div class=\"colab-df-container\">\n",
              "      <div>\n",
              "<style scoped>\n",
              "    .dataframe tbody tr th:only-of-type {\n",
              "        vertical-align: middle;\n",
              "    }\n",
              "\n",
              "    .dataframe tbody tr th {\n",
              "        vertical-align: top;\n",
              "    }\n",
              "\n",
              "    .dataframe thead th {\n",
              "        text-align: right;\n",
              "    }\n",
              "</style>\n",
              "<table border=\"1\" class=\"dataframe\">\n",
              "  <thead>\n",
              "    <tr style=\"text-align: right;\">\n",
              "      <th></th>\n",
              "      <th>Unnamed: 0</th>\n",
              "      <th>molecule_chembl_id</th>\n",
              "      <th>smiles</th>\n",
              "      <th>standard_type</th>\n",
              "      <th>standard_value</th>\n",
              "      <th>standard_units</th>\n",
              "      <th>MW</th>\n",
              "      <th>LogP</th>\n",
              "      <th>NumHDonors</th>\n",
              "      <th>NumHAcceptors</th>\n",
              "      <th>AR</th>\n",
              "      <th>RB</th>\n",
              "      <th>bioactivity_class</th>\n",
              "      <th>bioactivity_class_encoded</th>\n",
              "    </tr>\n",
              "  </thead>\n",
              "  <tbody>\n",
              "    <tr>\n",
              "      <th>0</th>\n",
              "      <td>0</td>\n",
              "      <td>CHEMBL1790051</td>\n",
              "      <td>COC(=O)[C@@H]1C2CC[C@H](C[C@@H]1c1ccccc1)N2C.Cl</td>\n",
              "      <td>Ki</td>\n",
              "      <td>33.0</td>\n",
              "      <td>nM</td>\n",
              "      <td>295.810</td>\n",
              "      <td>2.8477</td>\n",
              "      <td>0.0</td>\n",
              "      <td>3.0</td>\n",
              "      <td>1.0</td>\n",
              "      <td>2.0</td>\n",
              "      <td>active</td>\n",
              "      <td>0</td>\n",
              "    </tr>\n",
              "    <tr>\n",
              "      <th>1</th>\n",
              "      <td>1</td>\n",
              "      <td>CHEMBL1790051</td>\n",
              "      <td>COC(=O)[C@@H]1C2CC[C@H](C[C@@H]1c1ccccc1)N2C.Cl</td>\n",
              "      <td>Ki</td>\n",
              "      <td>314.0</td>\n",
              "      <td>nM</td>\n",
              "      <td>295.810</td>\n",
              "      <td>2.8477</td>\n",
              "      <td>0.0</td>\n",
              "      <td>3.0</td>\n",
              "      <td>1.0</td>\n",
              "      <td>2.0</td>\n",
              "      <td>inactive</td>\n",
              "      <td>1</td>\n",
              "    </tr>\n",
              "    <tr>\n",
              "      <th>2</th>\n",
              "      <td>2</td>\n",
              "      <td>CHEMBL370805</td>\n",
              "      <td>COC(=O)[C@H]1[C@@H](OC(=O)c2ccccc2)C[C@@H]2CC[...</td>\n",
              "      <td>Ki</td>\n",
              "      <td>32.0</td>\n",
              "      <td>nM</td>\n",
              "      <td>303.358</td>\n",
              "      <td>1.8677</td>\n",
              "      <td>0.0</td>\n",
              "      <td>5.0</td>\n",
              "      <td>1.0</td>\n",
              "      <td>3.0</td>\n",
              "      <td>active</td>\n",
              "      <td>0</td>\n",
              "    </tr>\n",
              "    <tr>\n",
              "      <th>3</th>\n",
              "      <td>3</td>\n",
              "      <td>CHEMBL370805</td>\n",
              "      <td>COC(=O)[C@H]1[C@@H](OC(=O)c2ccccc2)C[C@@H]2CC[...</td>\n",
              "      <td>Ki</td>\n",
              "      <td>388.0</td>\n",
              "      <td>nM</td>\n",
              "      <td>303.358</td>\n",
              "      <td>1.8677</td>\n",
              "      <td>0.0</td>\n",
              "      <td>5.0</td>\n",
              "      <td>1.0</td>\n",
              "      <td>3.0</td>\n",
              "      <td>inactive</td>\n",
              "      <td>1</td>\n",
              "    </tr>\n",
              "    <tr>\n",
              "      <th>4</th>\n",
              "      <td>4</td>\n",
              "      <td>CHEMBL333280</td>\n",
              "      <td>CN1CCC(O)(c2ccc(Cl)c(Cl)c2)C([C@@H](O)c2ccc(Cl...</td>\n",
              "      <td>Ki</td>\n",
              "      <td>4140.0</td>\n",
              "      <td>nM</td>\n",
              "      <td>435.178</td>\n",
              "      <td>5.1731</td>\n",
              "      <td>2.0</td>\n",
              "      <td>3.0</td>\n",
              "      <td>2.0</td>\n",
              "      <td>3.0</td>\n",
              "      <td>inactive</td>\n",
              "      <td>1</td>\n",
              "    </tr>\n",
              "  </tbody>\n",
              "</table>\n",
              "</div>\n",
              "      <button class=\"colab-df-convert\" onclick=\"convertToInteractive('df-e942cba9-457a-465d-a002-df703c0c9c82')\"\n",
              "              title=\"Convert this dataframe to an interactive table.\"\n",
              "              style=\"display:none;\">\n",
              "        \n",
              "  <svg xmlns=\"http://www.w3.org/2000/svg\" height=\"24px\"viewBox=\"0 0 24 24\"\n",
              "       width=\"24px\">\n",
              "    <path d=\"M0 0h24v24H0V0z\" fill=\"none\"/>\n",
              "    <path d=\"M18.56 5.44l.94 2.06.94-2.06 2.06-.94-2.06-.94-.94-2.06-.94 2.06-2.06.94zm-11 1L8.5 8.5l.94-2.06 2.06-.94-2.06-.94L8.5 2.5l-.94 2.06-2.06.94zm10 10l.94 2.06.94-2.06 2.06-.94-2.06-.94-.94-2.06-.94 2.06-2.06.94z\"/><path d=\"M17.41 7.96l-1.37-1.37c-.4-.4-.92-.59-1.43-.59-.52 0-1.04.2-1.43.59L10.3 9.45l-7.72 7.72c-.78.78-.78 2.05 0 2.83L4 21.41c.39.39.9.59 1.41.59.51 0 1.02-.2 1.41-.59l7.78-7.78 2.81-2.81c.8-.78.8-2.07 0-2.86zM5.41 20L4 18.59l7.72-7.72 1.47 1.35L5.41 20z\"/>\n",
              "  </svg>\n",
              "      </button>\n",
              "      \n",
              "  <style>\n",
              "    .colab-df-container {\n",
              "      display:flex;\n",
              "      flex-wrap:wrap;\n",
              "      gap: 12px;\n",
              "    }\n",
              "\n",
              "    .colab-df-convert {\n",
              "      background-color: #E8F0FE;\n",
              "      border: none;\n",
              "      border-radius: 50%;\n",
              "      cursor: pointer;\n",
              "      display: none;\n",
              "      fill: #1967D2;\n",
              "      height: 32px;\n",
              "      padding: 0 0 0 0;\n",
              "      width: 32px;\n",
              "    }\n",
              "\n",
              "    .colab-df-convert:hover {\n",
              "      background-color: #E2EBFA;\n",
              "      box-shadow: 0px 1px 2px rgba(60, 64, 67, 0.3), 0px 1px 3px 1px rgba(60, 64, 67, 0.15);\n",
              "      fill: #174EA6;\n",
              "    }\n",
              "\n",
              "    [theme=dark] .colab-df-convert {\n",
              "      background-color: #3B4455;\n",
              "      fill: #D2E3FC;\n",
              "    }\n",
              "\n",
              "    [theme=dark] .colab-df-convert:hover {\n",
              "      background-color: #434B5C;\n",
              "      box-shadow: 0px 1px 3px 1px rgba(0, 0, 0, 0.15);\n",
              "      filter: drop-shadow(0px 1px 2px rgba(0, 0, 0, 0.3));\n",
              "      fill: #FFFFFF;\n",
              "    }\n",
              "  </style>\n",
              "\n",
              "      <script>\n",
              "        const buttonEl =\n",
              "          document.querySelector('#df-e942cba9-457a-465d-a002-df703c0c9c82 button.colab-df-convert');\n",
              "        buttonEl.style.display =\n",
              "          google.colab.kernel.accessAllowed ? 'block' : 'none';\n",
              "\n",
              "        async function convertToInteractive(key) {\n",
              "          const element = document.querySelector('#df-e942cba9-457a-465d-a002-df703c0c9c82');\n",
              "          const dataTable =\n",
              "            await google.colab.kernel.invokeFunction('convertToInteractive',\n",
              "                                                     [key], {});\n",
              "          if (!dataTable) return;\n",
              "\n",
              "          const docLinkHtml = 'Like what you see? Visit the ' +\n",
              "            '<a target=\"_blank\" href=https://colab.research.google.com/notebooks/data_table.ipynb>data table notebook</a>'\n",
              "            + ' to learn more about interactive tables.';\n",
              "          element.innerHTML = '';\n",
              "          dataTable['output_type'] = 'display_data';\n",
              "          await google.colab.output.renderOutput(dataTable, element);\n",
              "          const docLink = document.createElement('div');\n",
              "          docLink.innerHTML = docLinkHtml;\n",
              "          element.appendChild(docLink);\n",
              "        }\n",
              "      </script>\n",
              "    </div>\n",
              "  </div>\n",
              "  "
            ]
          },
          "metadata": {},
          "execution_count": 4
        }
      ]
    },
    {
      "cell_type": "code",
      "source": [
        "#FINGERPRINTS\n",
        "\n",
        "def generate_fingerprint(smiles):\n",
        "\n",
        "    mol = Chem.MolFromSmiles(smiles)\n",
        "    fingerprint = AllChem.GetMorganFingerprintAsBitVect(mol, 2)\n",
        "    return fingerprint"
      ],
      "metadata": {
        "id": "HaWg5gGcMzJb"
      },
      "execution_count": null,
      "outputs": []
    },
    {
      "cell_type": "code",
      "source": [
        "fingerprint = data[\"smiles\"].apply(generate_fingerprint)\n",
        "fingerprint"
      ],
      "metadata": {
        "id": "T20tJdIgMzLY",
        "colab": {
          "base_uri": "https://localhost:8080/"
        },
        "outputId": "9e5252fe-eda3-4e1a-8f48-b2c79c1bfa20"
      },
      "execution_count": null,
      "outputs": [
        {
          "output_type": "execute_result",
          "data": {
            "text/plain": [
              "0       [0, 1, 0, 0, 0, 0, 0, 0, 0, 0, 0, 0, 0, 0, 0, ...\n",
              "1       [0, 1, 0, 0, 0, 0, 0, 0, 0, 0, 0, 0, 0, 0, 0, ...\n",
              "2       [0, 1, 0, 0, 0, 0, 0, 0, 0, 0, 0, 0, 0, 0, 0, ...\n",
              "3       [0, 1, 0, 0, 0, 0, 0, 0, 0, 0, 0, 0, 0, 0, 0, ...\n",
              "4       [0, 1, 0, 0, 0, 0, 0, 0, 1, 0, 0, 0, 0, 0, 0, ...\n",
              "                              ...                        \n",
              "5899    [0, 1, 0, 0, 0, 0, 0, 0, 0, 0, 0, 0, 0, 1, 0, ...\n",
              "5900    [0, 1, 0, 0, 0, 0, 0, 0, 0, 0, 0, 0, 0, 0, 0, ...\n",
              "5901    [0, 1, 0, 0, 0, 0, 0, 0, 0, 0, 0, 0, 0, 0, 0, ...\n",
              "5902    [0, 1, 0, 0, 0, 0, 0, 0, 0, 0, 0, 0, 0, 0, 0, ...\n",
              "5903    [0, 0, 0, 0, 0, 0, 0, 0, 0, 0, 0, 0, 0, 0, 0, ...\n",
              "Name: smiles, Length: 5904, dtype: object"
            ]
          },
          "metadata": {},
          "execution_count": 6
        }
      ]
    },
    {
      "cell_type": "code",
      "source": [
        "#convert the fingerprint to a numpy array\n",
        "def rdkit_numpy_convert(fp):\n",
        "    output=[]\n",
        "    for f in fp:\n",
        "        arr=np.zeros((1,))\n",
        "        DataStructs.ConvertToNumpyArray(f,arr)\n",
        "        output.append(arr)\n",
        "    return np.asarray(output)\n",
        "        \n"
      ],
      "metadata": {
        "id": "ve_vv71EMzN1"
      },
      "execution_count": null,
      "outputs": []
    },
    {
      "cell_type": "code",
      "source": [
        "X=rdkit_numpy_convert(fingerprint)    \n",
        "X.shape\n",
        "#ALL molecules have 2048 molecule fingerprint"
      ],
      "metadata": {
        "id": "yT0vAimdMzQM",
        "colab": {
          "base_uri": "https://localhost:8080/"
        },
        "outputId": "49d748aa-cb73-4fdb-ff80-5ab8aeb81033"
      },
      "execution_count": null,
      "outputs": [
        {
          "output_type": "execute_result",
          "data": {
            "text/plain": [
              "(5904, 2048)"
            ]
          },
          "metadata": {},
          "execution_count": 8
        }
      ]
    },
    {
      "cell_type": "code",
      "source": [
        "y = data.iloc[:,13]"
      ],
      "metadata": {
        "id": "NUJUppliMzSg"
      },
      "execution_count": null,
      "outputs": []
    },
    {
      "cell_type": "code",
      "source": [
        "#RNN\n",
        "import tensorflow as tf\n",
        "from tensorflow.keras.layers import Dense, Dropout, LSTM\n",
        "from tensorflow.keras.models import Sequential"
      ],
      "metadata": {
        "id": "_aaJeHxaVN5l"
      },
      "execution_count": null,
      "outputs": []
    },
    {
      "cell_type": "code",
      "source": [
        "x_train, x_test, y_train, y_test = train_test_split(x, y, test_size=0.2, random_state=42)\n",
        "x_train = np.reshape(x_train, (x_train.shape[0], x_train.shape[1], 1))\n",
        "x_test = np.reshape(x_test, (x_test.shape[0], x_test.shape[1], 1))"
      ],
      "metadata": {
        "id": "ympjLRgHWQdN"
      },
      "execution_count": null,
      "outputs": []
    },
    {
      "cell_type": "code",
      "source": [
        "# Define the RNN model\n",
        "model = Sequential()\n",
        "model.add(LSTM(128, input_shape=(X.shape[1], 1)))\n",
        "model.add(Dropout(0.2))\n",
        "model.add(Dense(1, activation='sigmoid'))\n",
        "\n",
        "# Compile the model\n",
        "model.compile(loss='binary_crossentropy', optimizer='adam', metrics=['accuracy'])\n",
        "\n",
        "# Train the model\n",
        "history = model.fit(X.reshape((X.shape[0], X.shape[1], 1)), y, epochs=10, batch_size=64, validation_split=0.2)\n",
        "\n",
        "\n"
      ],
      "metadata": {
        "colab": {
          "base_uri": "https://localhost:8080/"
        },
        "id": "FwFL3Dt5VOng",
        "outputId": "332814ca-a6f1-48d7-b010-3d531a68437a"
      },
      "execution_count": null,
      "outputs": [
        {
          "output_type": "stream",
          "name": "stdout",
          "text": [
            "Epoch 1/10\n",
            "74/74 [==============================] - 260s 3s/step - loss: 0.6262 - accuracy: 0.6943 - val_loss: 0.5117 - val_accuracy: 0.8103\n",
            "Epoch 2/10\n",
            "74/74 [==============================] - 273s 4s/step - loss: 0.6157 - accuracy: 0.6949 - val_loss: 0.5286 - val_accuracy: 0.8103\n",
            "Epoch 3/10\n",
            "74/74 [==============================] - 272s 4s/step - loss: 0.6160 - accuracy: 0.6949 - val_loss: 0.5251 - val_accuracy: 0.8103\n",
            "Epoch 4/10\n",
            "74/74 [==============================] - 277s 4s/step - loss: 0.6176 - accuracy: 0.6949 - val_loss: 0.5406 - val_accuracy: 0.8103\n",
            "Epoch 5/10\n",
            "74/74 [==============================] - 273s 4s/step - loss: 0.6140 - accuracy: 0.6949 - val_loss: 0.5426 - val_accuracy: 0.8103\n",
            "Epoch 6/10\n",
            "74/74 [==============================] - 273s 4s/step - loss: 0.6135 - accuracy: 0.6949 - val_loss: 0.5216 - val_accuracy: 0.8103\n",
            "Epoch 7/10\n",
            "74/74 [==============================] - 272s 4s/step - loss: 0.6121 - accuracy: 0.6949 - val_loss: 0.5266 - val_accuracy: 0.8103\n",
            "Epoch 8/10\n",
            "74/74 [==============================] - 274s 4s/step - loss: 0.6103 - accuracy: 0.6951 - val_loss: 0.5120 - val_accuracy: 0.8103\n",
            "Epoch 9/10\n",
            "74/74 [==============================] - 272s 4s/step - loss: 0.6033 - accuracy: 0.7017 - val_loss: 0.5398 - val_accuracy: 0.7993\n",
            "Epoch 10/10\n",
            "74/74 [==============================] - 273s 4s/step - loss: 0.6003 - accuracy: 0.7004 - val_loss: 0.5346 - val_accuracy: 0.8036\n"
          ]
        }
      ]
    },
    {
      "cell_type": "code",
      "source": [],
      "metadata": {
        "id": "cpSq39MT_KpR"
      },
      "execution_count": null,
      "outputs": []
    },
    {
      "cell_type": "code",
      "source": [
        "y_pred = model.predict(X)\n",
        "y_pred_binary = (y_pred > 0.5).astype(int)\n",
        "print(classification_report(y, y_pred_binary))\n"
      ],
      "metadata": {
        "colab": {
          "base_uri": "https://localhost:8080/"
        },
        "id": "lip3PgCs_O9g",
        "outputId": "72c8e77d-cd42-4d32-c697-7efb06ea0442"
      },
      "execution_count": null,
      "outputs": [
        {
          "output_type": "stream",
          "name": "stdout",
          "text": [
            "185/185 [==============================] - 173s 928ms/step\n",
            "              precision    recall  f1-score   support\n",
            "\n",
            "           0       0.71      0.03      0.06      1665\n",
            "           1       0.72      0.99      0.84      4239\n",
            "\n",
            "    accuracy                           0.72      5904\n",
            "   macro avg       0.72      0.51      0.45      5904\n",
            "weighted avg       0.72      0.72      0.62      5904\n",
            "\n"
          ]
        }
      ]
    },
    {
      "cell_type": "code",
      "source": [
        "print(confusion_matrix(y, y_pred_binary))"
      ],
      "metadata": {
        "colab": {
          "base_uri": "https://localhost:8080/"
        },
        "id": "KxIXvj2S_Um8",
        "outputId": "28a8db74-a987-462e-96dc-a24b2c02958d"
      },
      "execution_count": null,
      "outputs": [
        {
          "output_type": "stream",
          "name": "stdout",
          "text": [
            "[[  54 1611]\n",
            " [  22 4217]]\n"
          ]
        }
      ]
    },
    {
      "cell_type": "code",
      "source": [],
      "metadata": {
        "id": "6LPsd-InVOrx"
      },
      "execution_count": null,
      "outputs": []
    },
    {
      "cell_type": "code",
      "source": [
        "from IPython.display import Image\n",
        "from keras.utils.vis_utils import plot_model\n",
        "plot_model(model, show_shapes=True, show_layer_names=True)\n",
        "Image('model.png')"
      ],
      "metadata": {
        "colab": {
          "base_uri": "https://localhost:8080/",
          "height": 422
        },
        "id": "XZ9xKjd8VOzm",
        "outputId": "2bfefbaf-3127-41fa-e6a1-7b91ef621938"
      },
      "execution_count": null,
      "outputs": [
        {
          "output_type": "execute_result",
          "data": {
            "image/png": "[encoded data removed]",
            "text/plain": [
              "<IPython.core.display.Image object>"
            ]
          },
          "metadata": {},
          "execution_count": 18
        }
      ]
    },
    {
      "cell_type": "code",
      "source": [
        "# Plot the loss function\n",
        "import matplotlib.pyplot as plt\n",
        "\n",
        "plt.plot(history.history['loss'])\n",
        "#plt.plot(history.history['val_loss'])\n",
        "plt.title('Model Loss')\n",
        "plt.ylabel('Loss')\n",
        "plt.xlabel('Epoch')\n",
        "plt.legend(['Train'], loc='upper left')\n",
        "plt.show()"
      ],
      "metadata": {
        "colab": {
          "base_uri": "https://localhost:8080/",
          "height": 472
        },
        "id": "B0tZNFKvVO2L",
        "outputId": "79d0565e-4878-472e-be8e-e2aa8c49531c"
      },
      "execution_count": null,
      "outputs": [
        {
          "output_type": "display_data",
          "data": {
            "text/plain": [
              "<Figure size 640x480 with 1 Axes>"
            ],
            "image/png": "[encoded data removed]"
          },
          "metadata": {}
        }
      ]
    }
  ]
}