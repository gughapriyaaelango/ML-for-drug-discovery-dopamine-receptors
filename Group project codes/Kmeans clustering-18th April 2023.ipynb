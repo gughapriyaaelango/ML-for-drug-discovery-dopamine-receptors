{
 "cells": [
  {
   "cell_type": "code",
   "execution_count": 109,
   "id": "00456fb2",
   "metadata": {},
   "outputs": [],
   "source": [
    "import pickle\n",
    "import pandas as pd\n",
    "import numpy as np\n",
    "import matplotlib.pyplot as plt\n",
    "import seaborn as sns\n",
    "from sklearn.experimental import enable_iterative_imputer\n",
    "from sklearn.model_selection import KFold\n",
    "from sklearn.cluster import KMeans\n",
    "from sklearn.preprocessing import MinMaxScaler\n",
    "from sklearn.preprocessing import StandardScaler\n",
    "from sklearn.tree import DecisionTreeClassifier\n",
    "from sklearn import tree\n",
    "from sklearn import metrics\n",
    "import plotly as py\n",
    "import plotly.graph_objs as go\n",
    "import matplotlib.pyplot as plt \n",
    "import seaborn as sns\n",
    "from sklearn import decomposition\n",
    "from sklearn.decomposition import PCA\n",
    "from sklearn.metrics import silhouette_score\n",
    "from sklearn.metrics import classification_report, confusion_matrix\n",
    "from sklearn.metrics import roc_curve,roc_auc_score, precision_score, recall_score,f1_score\n",
    "from sklearn.metrics import make_scorer, accuracy_score\n",
    "from sklearn.model_selection import cross_val_score\n",
    "from sklearn.datasets import load_iris\n",
    "from sklearn.linear_model import LogisticRegression\n",
    "from sklearn.tree import DecisionTreeClassifier\n",
    "from sklearn.manifold import TSNE\n",
    "import pandas as pd\n",
    "import numpy as np\n",
    "from sklearn.cluster import KMeans\n",
    "from sklearn.preprocessing import MinMaxScaler\n",
    "from sklearn.preprocessing import StandardScaler\n",
    "\n",
    "import plotly as py\n",
    "import plotly.graph_objs as go\n",
    "import matplotlib.pyplot as plt \n",
    "import seaborn as sns\n",
    "from sklearn import decomposition\n",
    "from sklearn.decomposition import PCA\n",
    "from sklearn.metrics import silhouette_score\n",
    "from sklearn.metrics import classification_report, confusion_matrix\n",
    "from sklearn.metrics import roc_curve,roc_auc_score, precision_score, recall_score,f1_score\n",
    "from sklearn.metrics import make_scorer, accuracy_score"
   ]
  },
  {
   "cell_type": "code",
   "execution_count": 118,
   "id": "f89ee85f",
   "metadata": {},
   "outputs": [],
   "source": [
    "#Read file\n",
    "data = pd.read_csv(\"clean_data3.csv\")"
   ]
  },
  {
   "cell_type": "code",
   "execution_count": 119,
   "id": "77f4c18a",
   "metadata": {},
   "outputs": [
    {
     "name": "stdout",
     "output_type": "stream",
     "text": [
      "(5904, 14)\n"
     ]
    },
    {
     "data": {
      "text/html": [
       "<div>\n",
       "<style scoped>\n",
       "    .dataframe tbody tr th:only-of-type {\n",
       "        vertical-align: middle;\n",
       "    }\n",
       "\n",
       "    .dataframe tbody tr th {\n",
       "        vertical-align: top;\n",
       "    }\n",
       "\n",
       "    .dataframe thead th {\n",
       "        text-align: right;\n",
       "    }\n",
       "</style>\n",
       "<table border=\"1\" class=\"dataframe\">\n",
       "  <thead>\n",
       "    <tr style=\"text-align: right;\">\n",
       "      <th></th>\n",
       "      <th>Unnamed: 0</th>\n",
       "      <th>molecule_chembl_id</th>\n",
       "      <th>smiles</th>\n",
       "      <th>standard_type</th>\n",
       "      <th>standard_value</th>\n",
       "      <th>standard_units</th>\n",
       "      <th>MW</th>\n",
       "      <th>LogP</th>\n",
       "      <th>NumHDonors</th>\n",
       "      <th>NumHAcceptors</th>\n",
       "      <th>AR</th>\n",
       "      <th>RB</th>\n",
       "      <th>bioactivity_class</th>\n",
       "      <th>bioactivity_class_encoded</th>\n",
       "    </tr>\n",
       "  </thead>\n",
       "  <tbody>\n",
       "    <tr>\n",
       "      <th>0</th>\n",
       "      <td>0</td>\n",
       "      <td>CHEMBL1790051</td>\n",
       "      <td>COC(=O)[C@@H]1C2CC[C@H](C[C@@H]1c1ccccc1)N2C.Cl</td>\n",
       "      <td>Ki</td>\n",
       "      <td>33.0</td>\n",
       "      <td>nM</td>\n",
       "      <td>295.810</td>\n",
       "      <td>2.8477</td>\n",
       "      <td>0.0</td>\n",
       "      <td>3.0</td>\n",
       "      <td>1.0</td>\n",
       "      <td>2.0</td>\n",
       "      <td>active</td>\n",
       "      <td>0</td>\n",
       "    </tr>\n",
       "    <tr>\n",
       "      <th>1</th>\n",
       "      <td>1</td>\n",
       "      <td>CHEMBL1790051</td>\n",
       "      <td>COC(=O)[C@@H]1C2CC[C@H](C[C@@H]1c1ccccc1)N2C.Cl</td>\n",
       "      <td>Ki</td>\n",
       "      <td>314.0</td>\n",
       "      <td>nM</td>\n",
       "      <td>295.810</td>\n",
       "      <td>2.8477</td>\n",
       "      <td>0.0</td>\n",
       "      <td>3.0</td>\n",
       "      <td>1.0</td>\n",
       "      <td>2.0</td>\n",
       "      <td>inactive</td>\n",
       "      <td>1</td>\n",
       "    </tr>\n",
       "    <tr>\n",
       "      <th>2</th>\n",
       "      <td>2</td>\n",
       "      <td>CHEMBL370805</td>\n",
       "      <td>COC(=O)[C@H]1[C@@H](OC(=O)c2ccccc2)C[C@@H]2CC[...</td>\n",
       "      <td>Ki</td>\n",
       "      <td>32.0</td>\n",
       "      <td>nM</td>\n",
       "      <td>303.358</td>\n",
       "      <td>1.8677</td>\n",
       "      <td>0.0</td>\n",
       "      <td>5.0</td>\n",
       "      <td>1.0</td>\n",
       "      <td>3.0</td>\n",
       "      <td>active</td>\n",
       "      <td>0</td>\n",
       "    </tr>\n",
       "    <tr>\n",
       "      <th>3</th>\n",
       "      <td>3</td>\n",
       "      <td>CHEMBL370805</td>\n",
       "      <td>COC(=O)[C@H]1[C@@H](OC(=O)c2ccccc2)C[C@@H]2CC[...</td>\n",
       "      <td>Ki</td>\n",
       "      <td>388.0</td>\n",
       "      <td>nM</td>\n",
       "      <td>303.358</td>\n",
       "      <td>1.8677</td>\n",
       "      <td>0.0</td>\n",
       "      <td>5.0</td>\n",
       "      <td>1.0</td>\n",
       "      <td>3.0</td>\n",
       "      <td>inactive</td>\n",
       "      <td>1</td>\n",
       "    </tr>\n",
       "    <tr>\n",
       "      <th>4</th>\n",
       "      <td>4</td>\n",
       "      <td>CHEMBL333280</td>\n",
       "      <td>CN1CCC(O)(c2ccc(Cl)c(Cl)c2)C([C@@H](O)c2ccc(Cl...</td>\n",
       "      <td>Ki</td>\n",
       "      <td>4140.0</td>\n",
       "      <td>nM</td>\n",
       "      <td>435.178</td>\n",
       "      <td>5.1731</td>\n",
       "      <td>2.0</td>\n",
       "      <td>3.0</td>\n",
       "      <td>2.0</td>\n",
       "      <td>3.0</td>\n",
       "      <td>inactive</td>\n",
       "      <td>1</td>\n",
       "    </tr>\n",
       "  </tbody>\n",
       "</table>\n",
       "</div>"
      ],
      "text/plain": [
       "   Unnamed: 0 molecule_chembl_id  \\\n",
       "0           0      CHEMBL1790051   \n",
       "1           1      CHEMBL1790051   \n",
       "2           2       CHEMBL370805   \n",
       "3           3       CHEMBL370805   \n",
       "4           4       CHEMBL333280   \n",
       "\n",
       "                                              smiles standard_type  \\\n",
       "0    COC(=O)[C@@H]1C2CC[C@H](C[C@@H]1c1ccccc1)N2C.Cl            Ki   \n",
       "1    COC(=O)[C@@H]1C2CC[C@H](C[C@@H]1c1ccccc1)N2C.Cl            Ki   \n",
       "2  COC(=O)[C@H]1[C@@H](OC(=O)c2ccccc2)C[C@@H]2CC[...            Ki   \n",
       "3  COC(=O)[C@H]1[C@@H](OC(=O)c2ccccc2)C[C@@H]2CC[...            Ki   \n",
       "4  CN1CCC(O)(c2ccc(Cl)c(Cl)c2)C([C@@H](O)c2ccc(Cl...            Ki   \n",
       "\n",
       "   standard_value standard_units       MW    LogP  NumHDonors  NumHAcceptors  \\\n",
       "0            33.0             nM  295.810  2.8477         0.0            3.0   \n",
       "1           314.0             nM  295.810  2.8477         0.0            3.0   \n",
       "2            32.0             nM  303.358  1.8677         0.0            5.0   \n",
       "3           388.0             nM  303.358  1.8677         0.0            5.0   \n",
       "4          4140.0             nM  435.178  5.1731         2.0            3.0   \n",
       "\n",
       "    AR   RB bioactivity_class  bioactivity_class_encoded  \n",
       "0  1.0  2.0            active                          0  \n",
       "1  1.0  2.0          inactive                          1  \n",
       "2  1.0  3.0            active                          0  \n",
       "3  1.0  3.0          inactive                          1  \n",
       "4  2.0  3.0          inactive                          1  "
      ]
     },
     "execution_count": 119,
     "metadata": {},
     "output_type": "execute_result"
    }
   ],
   "source": [
    "print(data.shape)\n",
    "data.head()"
   ]
  },
  {
   "cell_type": "code",
   "execution_count": 120,
   "id": "2e58b544",
   "metadata": {},
   "outputs": [
    {
     "data": {
      "text/plain": [
       "(5904, 12)"
      ]
     },
     "execution_count": 120,
     "metadata": {},
     "output_type": "execute_result"
    }
   ],
   "source": [
    "data=data.drop('standard_units',axis=1)\n",
    "data=data.drop('bioactivity_class',axis=1)\n",
    "data.shape"
   ]
  },
  {
   "cell_type": "code",
   "execution_count": 126,
   "id": "dc4448b3",
   "metadata": {},
   "outputs": [],
   "source": [
    "#Split the data to predictor and attributes\n",
    "\n",
    "X = data.iloc[:,4:11]\n",
    "y = data.iloc[:,11]\n"
   ]
  },
  {
   "cell_type": "code",
   "execution_count": 127,
   "id": "da950ed0",
   "metadata": {},
   "outputs": [
    {
     "data": {
      "text/html": [
       "<div>\n",
       "<style scoped>\n",
       "    .dataframe tbody tr th:only-of-type {\n",
       "        vertical-align: middle;\n",
       "    }\n",
       "\n",
       "    .dataframe tbody tr th {\n",
       "        vertical-align: top;\n",
       "    }\n",
       "\n",
       "    .dataframe thead th {\n",
       "        text-align: right;\n",
       "    }\n",
       "</style>\n",
       "<table border=\"1\" class=\"dataframe\">\n",
       "  <thead>\n",
       "    <tr style=\"text-align: right;\">\n",
       "      <th></th>\n",
       "      <th>standard_value</th>\n",
       "      <th>MW</th>\n",
       "      <th>LogP</th>\n",
       "      <th>NumHDonors</th>\n",
       "      <th>NumHAcceptors</th>\n",
       "      <th>AR</th>\n",
       "      <th>RB</th>\n",
       "    </tr>\n",
       "  </thead>\n",
       "  <tbody>\n",
       "    <tr>\n",
       "      <th>0</th>\n",
       "      <td>33.0</td>\n",
       "      <td>295.810</td>\n",
       "      <td>2.8477</td>\n",
       "      <td>0.0</td>\n",
       "      <td>3.0</td>\n",
       "      <td>1.0</td>\n",
       "      <td>2.0</td>\n",
       "    </tr>\n",
       "    <tr>\n",
       "      <th>1</th>\n",
       "      <td>314.0</td>\n",
       "      <td>295.810</td>\n",
       "      <td>2.8477</td>\n",
       "      <td>0.0</td>\n",
       "      <td>3.0</td>\n",
       "      <td>1.0</td>\n",
       "      <td>2.0</td>\n",
       "    </tr>\n",
       "    <tr>\n",
       "      <th>2</th>\n",
       "      <td>32.0</td>\n",
       "      <td>303.358</td>\n",
       "      <td>1.8677</td>\n",
       "      <td>0.0</td>\n",
       "      <td>5.0</td>\n",
       "      <td>1.0</td>\n",
       "      <td>3.0</td>\n",
       "    </tr>\n",
       "    <tr>\n",
       "      <th>3</th>\n",
       "      <td>388.0</td>\n",
       "      <td>303.358</td>\n",
       "      <td>1.8677</td>\n",
       "      <td>0.0</td>\n",
       "      <td>5.0</td>\n",
       "      <td>1.0</td>\n",
       "      <td>3.0</td>\n",
       "    </tr>\n",
       "    <tr>\n",
       "      <th>4</th>\n",
       "      <td>4140.0</td>\n",
       "      <td>435.178</td>\n",
       "      <td>5.1731</td>\n",
       "      <td>2.0</td>\n",
       "      <td>3.0</td>\n",
       "      <td>2.0</td>\n",
       "      <td>3.0</td>\n",
       "    </tr>\n",
       "  </tbody>\n",
       "</table>\n",
       "</div>"
      ],
      "text/plain": [
       "   standard_value       MW    LogP  NumHDonors  NumHAcceptors   AR   RB\n",
       "0            33.0  295.810  2.8477         0.0            3.0  1.0  2.0\n",
       "1           314.0  295.810  2.8477         0.0            3.0  1.0  2.0\n",
       "2            32.0  303.358  1.8677         0.0            5.0  1.0  3.0\n",
       "3           388.0  303.358  1.8677         0.0            5.0  1.0  3.0\n",
       "4          4140.0  435.178  5.1731         2.0            3.0  2.0  3.0"
      ]
     },
     "execution_count": 127,
     "metadata": {},
     "output_type": "execute_result"
    }
   ],
   "source": [
    "X.head()"
   ]
  },
  {
   "cell_type": "code",
   "execution_count": 128,
   "id": "aa4fa7ac",
   "metadata": {},
   "outputs": [
    {
     "data": {
      "text/plain": [
       "0    0\n",
       "1    1\n",
       "2    0\n",
       "3    1\n",
       "4    1\n",
       "Name: bioactivity_class_encoded, dtype: int64"
      ]
     },
     "execution_count": 128,
     "metadata": {},
     "output_type": "execute_result"
    }
   ],
   "source": [
    "y.head()"
   ]
  },
  {
   "cell_type": "code",
   "execution_count": 129,
   "id": "8c9b427d",
   "metadata": {},
   "outputs": [],
   "source": [
    "from sklearn.model_selection import train_test_split\n",
    "X_train, X_test, y_train, y_test = train_test_split(X, y, random_state=0)"
   ]
  },
  {
   "cell_type": "code",
   "execution_count": 130,
   "id": "0ba213d8",
   "metadata": {},
   "outputs": [
    {
     "data": {
      "text/plain": [
       "Index(['Unnamed: 0', 'molecule_chembl_id', 'smiles', 'standard_type',\n",
       "       'standard_value', 'MW', 'LogP', 'NumHDonors', 'NumHAcceptors', 'AR',\n",
       "       'RB', 'bioactivity_class_encoded'],\n",
       "      dtype='object')"
      ]
     },
     "execution_count": 130,
     "metadata": {},
     "output_type": "execute_result"
    }
   ],
   "source": [
    "data.columns"
   ]
  },
  {
   "cell_type": "code",
   "execution_count": 132,
   "id": "675f5de4",
   "metadata": {},
   "outputs": [
    {
     "data": {
      "text/html": [
       "<div>\n",
       "<style scoped>\n",
       "    .dataframe tbody tr th:only-of-type {\n",
       "        vertical-align: middle;\n",
       "    }\n",
       "\n",
       "    .dataframe tbody tr th {\n",
       "        vertical-align: top;\n",
       "    }\n",
       "\n",
       "    .dataframe thead th {\n",
       "        text-align: right;\n",
       "    }\n",
       "</style>\n",
       "<table border=\"1\" class=\"dataframe\">\n",
       "  <thead>\n",
       "    <tr style=\"text-align: right;\">\n",
       "      <th></th>\n",
       "      <th>standard_value</th>\n",
       "      <th>MW</th>\n",
       "      <th>LogP</th>\n",
       "      <th>NumHDonors</th>\n",
       "      <th>NumHAcceptors</th>\n",
       "      <th>AR</th>\n",
       "      <th>RB</th>\n",
       "    </tr>\n",
       "  </thead>\n",
       "  <tbody>\n",
       "    <tr>\n",
       "      <th>0</th>\n",
       "      <td>3.618378e-14</td>\n",
       "      <td>0.100314</td>\n",
       "      <td>0.648199</td>\n",
       "      <td>0.000000</td>\n",
       "      <td>0.071429</td>\n",
       "      <td>0.166667</td>\n",
       "      <td>0.06250</td>\n",
       "    </tr>\n",
       "    <tr>\n",
       "      <th>1</th>\n",
       "      <td>3.442942e-13</td>\n",
       "      <td>0.100314</td>\n",
       "      <td>0.648199</td>\n",
       "      <td>0.000000</td>\n",
       "      <td>0.071429</td>\n",
       "      <td>0.166667</td>\n",
       "      <td>0.06250</td>\n",
       "    </tr>\n",
       "    <tr>\n",
       "      <th>2</th>\n",
       "      <td>3.508730e-14</td>\n",
       "      <td>0.105028</td>\n",
       "      <td>0.606524</td>\n",
       "      <td>0.000000</td>\n",
       "      <td>0.119048</td>\n",
       "      <td>0.166667</td>\n",
       "      <td>0.09375</td>\n",
       "    </tr>\n",
       "    <tr>\n",
       "      <th>3</th>\n",
       "      <td>4.254335e-13</td>\n",
       "      <td>0.105028</td>\n",
       "      <td>0.606524</td>\n",
       "      <td>0.000000</td>\n",
       "      <td>0.119048</td>\n",
       "      <td>0.166667</td>\n",
       "      <td>0.09375</td>\n",
       "    </tr>\n",
       "    <tr>\n",
       "      <th>4</th>\n",
       "      <td>4.539420e-12</td>\n",
       "      <td>0.187366</td>\n",
       "      <td>0.747088</td>\n",
       "      <td>0.095238</td>\n",
       "      <td>0.071429</td>\n",
       "      <td>0.333333</td>\n",
       "      <td>0.09375</td>\n",
       "    </tr>\n",
       "    <tr>\n",
       "      <th>...</th>\n",
       "      <td>...</td>\n",
       "      <td>...</td>\n",
       "      <td>...</td>\n",
       "      <td>...</td>\n",
       "      <td>...</td>\n",
       "      <td>...</td>\n",
       "      <td>...</td>\n",
       "    </tr>\n",
       "    <tr>\n",
       "      <th>5899</th>\n",
       "      <td>1.096478e-14</td>\n",
       "      <td>0.186990</td>\n",
       "      <td>0.704044</td>\n",
       "      <td>0.047619</td>\n",
       "      <td>0.095238</td>\n",
       "      <td>0.333333</td>\n",
       "      <td>0.28125</td>\n",
       "    </tr>\n",
       "    <tr>\n",
       "      <th>5900</th>\n",
       "      <td>4.385913e-14</td>\n",
       "      <td>0.228510</td>\n",
       "      <td>0.705264</td>\n",
       "      <td>0.095238</td>\n",
       "      <td>0.119048</td>\n",
       "      <td>0.500000</td>\n",
       "      <td>0.28125</td>\n",
       "    </tr>\n",
       "    <tr>\n",
       "      <th>5901</th>\n",
       "      <td>2.741195e-14</td>\n",
       "      <td>0.160303</td>\n",
       "      <td>0.730576</td>\n",
       "      <td>0.095238</td>\n",
       "      <td>0.095238</td>\n",
       "      <td>0.333333</td>\n",
       "      <td>0.21875</td>\n",
       "    </tr>\n",
       "    <tr>\n",
       "      <th>5902</th>\n",
       "      <td>7.861749e-14</td>\n",
       "      <td>0.167540</td>\n",
       "      <td>0.616131</td>\n",
       "      <td>0.047619</td>\n",
       "      <td>0.142857</td>\n",
       "      <td>0.500000</td>\n",
       "      <td>0.09375</td>\n",
       "    </tr>\n",
       "    <tr>\n",
       "      <th>5903</th>\n",
       "      <td>5.482391e-14</td>\n",
       "      <td>0.190017</td>\n",
       "      <td>0.612912</td>\n",
       "      <td>0.095238</td>\n",
       "      <td>0.214286</td>\n",
       "      <td>0.500000</td>\n",
       "      <td>0.12500</td>\n",
       "    </tr>\n",
       "  </tbody>\n",
       "</table>\n",
       "<p>5904 rows × 7 columns</p>\n",
       "</div>"
      ],
      "text/plain": [
       "      standard_value        MW      LogP  NumHDonors  NumHAcceptors        AR  \\\n",
       "0       3.618378e-14  0.100314  0.648199    0.000000       0.071429  0.166667   \n",
       "1       3.442942e-13  0.100314  0.648199    0.000000       0.071429  0.166667   \n",
       "2       3.508730e-14  0.105028  0.606524    0.000000       0.119048  0.166667   \n",
       "3       4.254335e-13  0.105028  0.606524    0.000000       0.119048  0.166667   \n",
       "4       4.539420e-12  0.187366  0.747088    0.095238       0.071429  0.333333   \n",
       "...              ...       ...       ...         ...            ...       ...   \n",
       "5899    1.096478e-14  0.186990  0.704044    0.047619       0.095238  0.333333   \n",
       "5900    4.385913e-14  0.228510  0.705264    0.095238       0.119048  0.500000   \n",
       "5901    2.741195e-14  0.160303  0.730576    0.095238       0.095238  0.333333   \n",
       "5902    7.861749e-14  0.167540  0.616131    0.047619       0.142857  0.500000   \n",
       "5903    5.482391e-14  0.190017  0.612912    0.095238       0.214286  0.500000   \n",
       "\n",
       "           RB  \n",
       "0     0.06250  \n",
       "1     0.06250  \n",
       "2     0.09375  \n",
       "3     0.09375  \n",
       "4     0.09375  \n",
       "...       ...  \n",
       "5899  0.28125  \n",
       "5900  0.28125  \n",
       "5901  0.21875  \n",
       "5902  0.09375  \n",
       "5903  0.12500  \n",
       "\n",
       "[5904 rows x 7 columns]"
      ]
     },
     "execution_count": 132,
     "metadata": {},
     "output_type": "execute_result"
    }
   ],
   "source": [
    "#Clustering with kmeans\n",
    "scaler = MinMaxScaler()\n",
    "data_drop = data.drop(['Unnamed: 0', 'molecule_chembl_id', 'smiles', 'standard_type', 'bioactivity_class_encoded'], axis=1).columns\n",
    "data_minmax = scaler.fit_transform(data[data_drop])\n",
    "data_minmax = pd.DataFrame(data_minmax, columns=data[data_drop].columns)\n",
    "data_minmax"
   ]
  },
  {
   "cell_type": "code",
   "execution_count": 134,
   "id": "43753fe5",
   "metadata": {},
   "outputs": [],
   "source": [
    "#convert to numpy arrays \n",
    "X= data_minmax.to_numpy()\n",
    "y=data['bioactivity_class_encoded'].to_numpy()\n"
   ]
  },
  {
   "cell_type": "code",
   "execution_count": 135,
   "id": "9f2679b5",
   "metadata": {},
   "outputs": [
    {
     "data": {
      "text/plain": [
       "<AxesSubplot: >"
      ]
     },
     "execution_count": 135,
     "metadata": {},
     "output_type": "execute_result"
    },
    {
     "data": {
      "image/png": "[encoded data removed]",
      "text/plain": [
       "<Figure size 640x480 with 1 Axes>"
      ]
     },
     "metadata": {},
     "output_type": "display_data"
    }
   ],
   "source": [
    "\n",
    "pca = PCA(n_components=7)\n",
    "X_pca = pca.fit_transform(X)\n",
    "\n",
    "sns.scatterplot(x=X_pca[:,0],y=X_pca[:,1],hue=y,alpha=0.8)"
   ]
  },
  {
   "cell_type": "code",
   "execution_count": 136,
   "id": "7bde1c43",
   "metadata": {},
   "outputs": [],
   "source": [
    "k = 2\n",
    "kmeans = KMeans(n_clusters=k, random_state=42)\n",
    "y_pred = kmeans.fit_predict(X_pca)"
   ]
  },
  {
   "cell_type": "code",
   "execution_count": 137,
   "id": "6faea56b",
   "metadata": {},
   "outputs": [
    {
     "name": "stdout",
     "output_type": "stream",
     "text": [
      "              precision    recall  f1-score   support\n",
      "\n",
      "           0       0.28      0.71      0.40      1665\n",
      "           1       0.72      0.29      0.41      4239\n",
      "\n",
      "    accuracy                           0.41      5904\n",
      "   macro avg       0.50      0.50      0.41      5904\n",
      "weighted avg       0.59      0.41      0.41      5904\n",
      "\n"
     ]
    }
   ],
   "source": [
    "from sklearn.metrics import classification_report\n",
    "print(classification_report(y, y_pred\n",
    "                            ))"
   ]
  },
  {
   "cell_type": "code",
   "execution_count": 138,
   "id": "b315119a",
   "metadata": {},
   "outputs": [
    {
     "data": {
      "text/plain": [
       "array([[-8.45394447e-02,  3.50869273e-03, -1.65446414e-03,\n",
       "        -1.10970246e-03,  1.00287093e-03,  6.43730059e-06,\n",
       "        -1.13759047e-04],\n",
       "       [ 2.08716067e-01, -8.66247170e-03,  4.08464062e-03,\n",
       "         2.73970020e-03, -2.47594808e-03, -1.58927950e-05,\n",
       "         2.80855178e-04]])"
      ]
     },
     "execution_count": 138,
     "metadata": {},
     "output_type": "execute_result"
    }
   ],
   "source": [
    "kmeans.cluster_centers_"
   ]
  },
  {
   "cell_type": "code",
   "execution_count": 139,
   "id": "00be1bdf",
   "metadata": {},
   "outputs": [
    {
     "data": {
      "text/plain": [
       "array([0, 0, 0, ..., 0, 1, 1], dtype=int32)"
      ]
     },
     "execution_count": 139,
     "metadata": {},
     "output_type": "execute_result"
    }
   ],
   "source": [
    "kmeans.labels_"
   ]
  },
  {
   "cell_type": "code",
   "execution_count": 140,
   "id": "5e26de3d",
   "metadata": {},
   "outputs": [
    {
     "data": {
      "text/plain": [
       "array([[0.1213993 , 0.40275561],\n",
       "       [0.1213993 , 0.40275561],\n",
       "       [0.13695986, 0.40219793],\n",
       "       [0.13695986, 0.40219793],\n",
       "       [0.14228592, 0.2229481 ],\n",
       "       [0.13501712, 0.21965174]])"
      ]
     },
     "execution_count": 140,
     "metadata": {},
     "output_type": "execute_result"
    }
   ],
   "source": [
    "kmeans.transform(X_pca[0:6,])"
   ]
  },
  {
   "cell_type": "code",
   "execution_count": 141,
   "id": "883d6435",
   "metadata": {},
   "outputs": [
    {
     "data": {
      "text/plain": [
       "140.1448743798813"
      ]
     },
     "execution_count": 141,
     "metadata": {},
     "output_type": "execute_result"
    }
   ],
   "source": [
    "kmeans.inertia_"
   ]
  },
  {
   "cell_type": "code",
   "execution_count": 142,
   "id": "a90a44a5",
   "metadata": {},
   "outputs": [
    {
     "data": {
      "text/plain": [
       "140.1448743798813"
      ]
     },
     "execution_count": 142,
     "metadata": {},
     "output_type": "execute_result"
    }
   ],
   "source": [
    "X_dist = kmeans.transform(X_pca)\n",
    "np.sum(X_dist[np.arange(len(X_dist)), kmeans.labels_]**2)"
   ]
  },
  {
   "cell_type": "code",
   "execution_count": 143,
   "id": "956bd67d",
   "metadata": {},
   "outputs": [
    {
     "data": {
      "text/plain": [
       "-140.14487437988126"
      ]
     },
     "execution_count": 143,
     "metadata": {},
     "output_type": "execute_result"
    }
   ],
   "source": [
    "kmeans.score(X_pca)"
   ]
  },
  {
   "cell_type": "code",
   "execution_count": 144,
   "id": "223707ed",
   "metadata": {},
   "outputs": [],
   "source": [
    "kmeans_rnd_init1 = KMeans(n_clusters=k, init=\"random\", n_init=1,\n",
    "                         algorithm=\"full\", random_state=2)\n",
    "kmeans_rnd_init2 = KMeans(n_clusters=k, init=\"random\", n_init=1,\n",
    "                         algorithm=\"full\", random_state=5)"
   ]
  },
  {
   "cell_type": "code",
   "execution_count": 145,
   "id": "5e7d64c0",
   "metadata": {},
   "outputs": [
    {
     "name": "stderr",
     "output_type": "stream",
     "text": [
      "/Library/Frameworks/Python.framework/Versions/3.11/lib/python3.11/site-packages/sklearn/cluster/_kmeans.py:1318: FutureWarning: algorithm='full' is deprecated, it will be removed in 1.3. Using 'lloyd' instead.\n",
      "  warnings.warn(\n",
      "/Library/Frameworks/Python.framework/Versions/3.11/lib/python3.11/site-packages/sklearn/cluster/_kmeans.py:1318: FutureWarning: algorithm='full' is deprecated, it will be removed in 1.3. Using 'lloyd' instead.\n",
      "  warnings.warn(\n"
     ]
    }
   ],
   "source": [
    "y_rnd_init1 = kmeans_rnd_init1.fit_predict(X_pca)\n",
    "y_rnd_init2 = kmeans_rnd_init2.fit_predict(X_pca)"
   ]
  },
  {
   "cell_type": "code",
   "execution_count": 146,
   "id": "a39b918a",
   "metadata": {},
   "outputs": [
    {
     "data": {
      "text/plain": [
       "False"
      ]
     },
     "execution_count": 146,
     "metadata": {},
     "output_type": "execute_result"
    }
   ],
   "source": [
    "np.allclose(y_rnd_init1, y_rnd_init2)"
   ]
  },
  {
   "cell_type": "code",
   "execution_count": 147,
   "id": "d0144a8b",
   "metadata": {},
   "outputs": [
    {
     "data": {
      "text/plain": [
       "156.49183776870154"
      ]
     },
     "execution_count": 147,
     "metadata": {},
     "output_type": "execute_result"
    }
   ],
   "source": [
    "kmeans_rnd_init1.inertia_"
   ]
  },
  {
   "cell_type": "code",
   "execution_count": 148,
   "id": "a7705acb",
   "metadata": {},
   "outputs": [
    {
     "data": {
      "text/plain": [
       "140.14487437988126"
      ]
     },
     "execution_count": 148,
     "metadata": {},
     "output_type": "execute_result"
    }
   ],
   "source": [
    "kmeans_rnd_init2.inertia_"
   ]
  },
  {
   "cell_type": "code",
   "execution_count": 149,
   "id": "a8c6d387",
   "metadata": {},
   "outputs": [
    {
     "name": "stderr",
     "output_type": "stream",
     "text": [
      "/Library/Frameworks/Python.framework/Versions/3.11/lib/python3.11/site-packages/sklearn/cluster/_kmeans.py:1318: FutureWarning: algorithm='full' is deprecated, it will be removed in 1.3. Using 'lloyd' instead.\n",
      "  warnings.warn(\n"
     ]
    },
    {
     "data": {
      "text/plain": [
       "140.1448743798813"
      ]
     },
     "execution_count": 149,
     "metadata": {},
     "output_type": "execute_result"
    }
   ],
   "source": [
    "kmeans_rnd_10_inits = KMeans(n_clusters=k, init=\"random\", n_init=10,\n",
    "                              algorithm=\"full\", random_state=2)\n",
    "kmeans_rnd_10_inits.fit(X_pca)\n",
    "\n",
    "kmeans_rnd_10_inits.inertia_  ##better than 1 init"
   ]
  },
  {
   "cell_type": "code",
   "execution_count": 150,
   "id": "c2cf01f2",
   "metadata": {},
   "outputs": [],
   "source": [
    "#plot inertia\n",
    "kmeans_per_k = [KMeans(n_clusters=k, random_state=42).fit(X_pca)\n",
    "                for k in range(1, 10)]\n",
    "inertias = [model.inertia_ for model in kmeans_per_k]"
   ]
  },
  {
   "cell_type": "code",
   "execution_count": 151,
   "id": "e461e469",
   "metadata": {},
   "outputs": [
    {
     "data": {
      "image/png": "[encoded data removed]",
      "text/plain": [
       "<Figure size 800x350 with 1 Axes>"
      ]
     },
     "metadata": {},
     "output_type": "display_data"
    }
   ],
   "source": [
    "plt.figure(figsize=(8, 3.5))\n",
    "plt.plot(range(1, 10), inertias, \"bo-\")\n",
    "plt.xlabel(\"$k$\", fontsize=14)\n",
    "plt.ylabel(\"Inertia\", fontsize=14)\n",
    "plt.annotate('Elbow',\n",
    "             xy=(4, inertias[3]),\n",
    "             xytext=(0.55, 0.55),\n",
    "             textcoords='figure fraction',\n",
    "             fontsize=16,\n",
    "             arrowprops=dict(facecolor='black', shrink=0.1)\n",
    "            )\n",
    "plt.axis([1, 8.5, 0, 50])\n",
    "\n",
    "plt.show()"
   ]
  },
  {
   "cell_type": "code",
   "execution_count": 152,
   "id": "c29151c6",
   "metadata": {},
   "outputs": [
    {
     "data": {
      "text/plain": [
       "0.4528217476271283"
      ]
     },
     "execution_count": 152,
     "metadata": {},
     "output_type": "execute_result"
    }
   ],
   "source": [
    "#silhoutte\n",
    "silhouette_score(X_pca, kmeans.labels_)"
   ]
  },
  {
   "cell_type": "code",
   "execution_count": 153,
   "id": "c7de3793",
   "metadata": {},
   "outputs": [],
   "source": [
    "silhouette_scores = [silhouette_score(X_pca, model.labels_)\n",
    "                     for model in kmeans_per_k[1:]]"
   ]
  },
  {
   "cell_type": "code",
   "execution_count": 154,
   "id": "72a78ddd",
   "metadata": {},
   "outputs": [
    {
     "data": {
      "image/png": "[encoded data removed]",
      "text/plain": [
       "<Figure size 800x300 with 1 Axes>"
      ]
     },
     "metadata": {},
     "output_type": "display_data"
    }
   ],
   "source": [
    "plt.figure(figsize=(8, 3))\n",
    "plt.plot(range(2, 10), silhouette_scores, \"bo-\")\n",
    "plt.xlabel(\"$k$\", fontsize=14)\n",
    "plt.ylabel(\"Silhouette score\", fontsize=14)\n",
    "\n",
    "plt.show()"
   ]
  },
  {
   "cell_type": "code",
   "execution_count": 155,
   "id": "8335d47f",
   "metadata": {},
   "outputs": [
    {
     "data": {
      "image/png": "[encoded data removed]",
      "text/plain": [
       "<Figure size 640x480 with 1 Axes>"
      ]
     },
     "metadata": {},
     "output_type": "display_data"
    }
   ],
   "source": [
    "#visualise clusters, centroids, areas\n",
    "#filter rows of original data\n",
    "filtered_label0 = X_pca[y_pred == 0]\n",
    "filtered_label1 = X_pca[y_pred == 1]\n",
    "filtered_label2 = X_pca[y_pred == 2]\n",
    "\n",
    "centroids = kmeans.cluster_centers_\n",
    " \n",
    "#Plotting the results\n",
    "plt.scatter(filtered_label0[:,0] , filtered_label0[:,1] , color = 'red')\n",
    "plt.scatter(filtered_label1[:,0] , filtered_label1[:,1] , color = 'pink',marker='^')\n",
    "plt.scatter(filtered_label2[:,0] , filtered_label2[:,1] , color = 'green')\n",
    "\n",
    "plt.scatter(centroids[:,0] , centroids[:,1] , s = 100,marker='+', color = 'black')\n",
    "plt.show()\n"
   ]
  },
  {
   "cell_type": "code",
   "execution_count": 156,
   "id": "7372fa7b",
   "metadata": {},
   "outputs": [
    {
     "data": {
      "text/plain": [
       "Text(0, 0.5, 'Average Cluster distance')"
      ]
     },
     "execution_count": 156,
     "metadata": {},
     "output_type": "execute_result"
    },
    {
     "data": {
      "image/png": "[encoded data removed]",
      "text/plain": [
       "<Figure size 1600x800 with 1 Axes>"
      ]
     },
     "metadata": {},
     "output_type": "display_data"
    }
   ],
   "source": [
    "from scipy.cluster.hierarchy import dendrogram, ward\n",
    "from scipy.cluster.hierarchy import dendrogram, linkage\n",
    "from sklearn.datasets import make_blobs\n",
    "linkage_array = linkage(X_pca,method='average',metric='euclidean')\n",
    "# Now we plot the dendrogram for the linkage_array containing the distances\n",
    "# between clusters\n",
    "\n",
    "\n",
    "plt.figure(figsize=(16, 8))\n",
    "\n",
    "dendrogram(linkage_array,truncate_mode=\"level\",p=5)\n",
    "# mark the cuts in the tree that signify two or three clusters\n",
    "ax = plt.gca()\n",
    "bounds = ax.get_xbound()\n",
    "ax.plot(bounds, [7.25, 7.25], '--', c='k')\n",
    "ax.plot(bounds, [4, 4], '--', c='k')\n",
    "\n",
    "plt.xlabel(\"Papers\")\n",
    "plt.ylabel(\"Average Cluster distance\")"
   ]
  },
  {
   "cell_type": "code",
   "execution_count": 157,
   "id": "644204fa",
   "metadata": {},
   "outputs": [
    {
     "name": "stdout",
     "output_type": "stream",
     "text": [
      "              precision    recall  f1-score   support\n",
      "\n",
      "           0       0.28      0.71      0.40      1665\n",
      "           1       0.72      0.29      0.41      4239\n",
      "\n",
      "    accuracy                           0.41      5904\n",
      "   macro avg       0.50      0.50      0.41      5904\n",
      "weighted avg       0.59      0.41      0.41      5904\n",
      "\n"
     ]
    }
   ],
   "source": [
    "from sklearn.metrics import classification_report\n",
    "print(classification_report(y, y_pred\n",
    "                            ))"
   ]
  },
  {
   "cell_type": "code",
   "execution_count": null,
   "id": "0a5a9f42",
   "metadata": {},
   "outputs": [],
   "source": []
  }
 ],
 "metadata": {
  "kernelspec": {
   "display_name": "Python 3 (ipykernel)",
   "language": "python",
   "name": "python3"
  },
  "language_info": {
   "codemirror_mode": {
    "name": "ipython",
    "version": 3
   },
   "file_extension": ".py",
   "mimetype": "text/x-python",
   "name": "python",
   "nbconvert_exporter": "python",
   "pygments_lexer": "ipython3",
   "version": "3.11.2"
  }
 },
 "nbformat": 4,
 "nbformat_minor": 5
}
