{
  "nbformat": 4,
  "nbformat_minor": 0,
  "metadata": {
    "colab": {
      "provenance": []
    },
    "kernelspec": {
      "name": "python3",
      "display_name": "Python 3"
    },
    "language_info": {
      "name": "python"
    }
  },
  "cells": [
    {
      "cell_type": "code",
      "execution_count": null,
      "metadata": {
        "colab": {
          "base_uri": "https://localhost:8080/"
        },
        "id": "n5Qp6hKzMs3i",
        "outputId": "ba041863-f2e7-4134-81c7-0e921c410f09"
      },
      "outputs": [
        {
          "output_type": "stream",
          "name": "stdout",
          "text": [
            "Mounted at /content/drive/\n"
          ]
        }
      ],
      "source": [
        "from google.colab import drive\n",
        "drive.mount('/content/drive/')"
      ]
    },
    {
      "cell_type": "code",
      "source": [
        "!pip install rdkit\n"
      ],
      "metadata": {
        "colab": {
          "base_uri": "https://localhost:8080/"
        },
        "id": "DQChxyYLOxzZ",
        "outputId": "e52afede-1cd6-4aa2-fc6f-f096a5db0cd6"
      },
      "execution_count": null,
      "outputs": [
        {
          "output_type": "stream",
          "name": "stdout",
          "text": [
            "Looking in indexes: https://pypi.org/simple, https://us-python.pkg.dev/colab-wheels/public/simple/\n",
            "Collecting rdkit\n",
            "  Downloading rdkit-2022.9.5-cp39-cp39-manylinux_2_17_x86_64.manylinux2014_x86_64.whl (29.4 MB)\n",
            "\u001b[2K     \u001b[90m━━━━━━━━━━━━━━━━━━━━━━━━━━━━━━━━━━━━━━━━\u001b[0m \u001b[32m29.4/29.4 MB\u001b[0m \u001b[31m10.5 MB/s\u001b[0m eta \u001b[36m0:00:00\u001b[0m\n",
            "\u001b[?25hRequirement already satisfied: numpy in /usr/local/lib/python3.9/dist-packages (from rdkit) (1.22.4)\n",
            "Requirement already satisfied: Pillow in /usr/local/lib/python3.9/dist-packages (from rdkit) (8.4.0)\n",
            "Installing collected packages: rdkit\n",
            "Successfully installed rdkit-2022.9.5\n"
          ]
        }
      ]
    },
    {
      "cell_type": "code",
      "source": [
        "import pickle\n",
        "import pandas as pd\n",
        "import numpy as np\n",
        "import matplotlib.pyplot as plt\n",
        "import seaborn as sns\n",
        "import missingno as msno\n",
        "from scipy.stats import chi2\n",
        "import statsmodels.api as sm\n",
        "from sklearn.experimental import enable_iterative_imputer\n",
        "from sklearn.impute import IterativeImputer\n",
        "from sklearn import linear_model\n",
        "from rdkit import Chem,DataStructs\n",
        "from rdkit.Chem import AllChem\n",
        "from rdkit.Chem import Descriptors, Lipinski, Draw\n",
        "from sklearn.model_selection import KFold\n",
        "from sklearn.model_selection import GridSearchCV\n",
        "from sklearn.tree import DecisionTreeClassifier\n",
        "from sklearn.neighbors import KNeighborsClassifier\n",
        "from sklearn.naive_bayes import MultinomialNB\n",
        "from sklearn.ensemble import RandomForestClassifier, GradientBoostingClassifier\n",
        "from sklearn.svm import SVC\n",
        "from sklearn.metrics import accuracy_score, f1_score, recall_score\n"
      ],
      "metadata": {
        "id": "3j6tuVuBN3ZS"
      },
      "execution_count": null,
      "outputs": []
    },
    {
      "cell_type": "code",
      "source": [
        "data=pd.read_csv('/content/drive/MyDrive/Colab Notebooks/AML Group/clean_data3.csv')\n",
        "data.head()"
      ],
      "metadata": {
        "id": "NnViSGDEMzGQ",
        "colab": {
          "base_uri": "https://localhost:8080/",
          "height": 391
        },
        "outputId": "63d70454-8752-47f5-d245-8c51927ca21c"
      },
      "execution_count": null,
      "outputs": [
        {
          "output_type": "execute_result",
          "data": {
            "text/plain": [
              "   Unnamed: 0 molecule_chembl_id  \\\n",
              "0           0      CHEMBL1790051   \n",
              "1           1      CHEMBL1790051   \n",
              "2           2       CHEMBL370805   \n",
              "3           3       CHEMBL370805   \n",
              "4           4       CHEMBL333280   \n",
              "\n",
              "                                              smiles standard_type  \\\n",
              "0    COC(=O)[C@@H]1C2CC[C@H](C[C@@H]1c1ccccc1)N2C.Cl            Ki   \n",
              "1    COC(=O)[C@@H]1C2CC[C@H](C[C@@H]1c1ccccc1)N2C.Cl            Ki   \n",
              "2  COC(=O)[C@H]1[C@@H](OC(=O)c2ccccc2)C[C@@H]2CC[...            Ki   \n",
              "3  COC(=O)[C@H]1[C@@H](OC(=O)c2ccccc2)C[C@@H]2CC[...            Ki   \n",
              "4  CN1CCC(O)(c2ccc(Cl)c(Cl)c2)C([C@@H](O)c2ccc(Cl...            Ki   \n",
              "\n",
              "   standard_value standard_units       MW    LogP  NumHDonors  NumHAcceptors  \\\n",
              "0            33.0             nM  295.810  2.8477         0.0            3.0   \n",
              "1           314.0             nM  295.810  2.8477         0.0            3.0   \n",
              "2            32.0             nM  303.358  1.8677         0.0            5.0   \n",
              "3           388.0             nM  303.358  1.8677         0.0            5.0   \n",
              "4          4140.0             nM  435.178  5.1731         2.0            3.0   \n",
              "\n",
              "    AR   RB bioactivity_class  bioactivity_class_encoded  \n",
              "0  1.0  2.0            active                          0  \n",
              "1  1.0  2.0          inactive                          1  \n",
              "2  1.0  3.0            active                          0  \n",
              "3  1.0  3.0          inactive                          1  \n",
              "4  2.0  3.0          inactive                          1  "
            ],
            "text/html": [
              "\n",
              "  <div id=\"df-207f6747-fa3b-4ee4-9463-1dba6a179258\">\n",
              "    <div class=\"colab-df-container\">\n",
              "      <div>\n",
              "<style scoped>\n",
              "    .dataframe tbody tr th:only-of-type {\n",
              "        vertical-align: middle;\n",
              "    }\n",
              "\n",
              "    .dataframe tbody tr th {\n",
              "        vertical-align: top;\n",
              "    }\n",
              "\n",
              "    .dataframe thead th {\n",
              "        text-align: right;\n",
              "    }\n",
              "</style>\n",
              "<table border=\"1\" class=\"dataframe\">\n",
              "  <thead>\n",
              "    <tr style=\"text-align: right;\">\n",
              "      <th></th>\n",
              "      <th>Unnamed: 0</th>\n",
              "      <th>molecule_chembl_id</th>\n",
              "      <th>smiles</th>\n",
              "      <th>standard_type</th>\n",
              "      <th>standard_value</th>\n",
              "      <th>standard_units</th>\n",
              "      <th>MW</th>\n",
              "      <th>LogP</th>\n",
              "      <th>NumHDonors</th>\n",
              "      <th>NumHAcceptors</th>\n",
              "      <th>AR</th>\n",
              "      <th>RB</th>\n",
              "      <th>bioactivity_class</th>\n",
              "      <th>bioactivity_class_encoded</th>\n",
              "    </tr>\n",
              "  </thead>\n",
              "  <tbody>\n",
              "    <tr>\n",
              "      <th>0</th>\n",
              "      <td>0</td>\n",
              "      <td>CHEMBL1790051</td>\n",
              "      <td>COC(=O)[C@@H]1C2CC[C@H](C[C@@H]1c1ccccc1)N2C.Cl</td>\n",
              "      <td>Ki</td>\n",
              "      <td>33.0</td>\n",
              "      <td>nM</td>\n",
              "      <td>295.810</td>\n",
              "      <td>2.8477</td>\n",
              "      <td>0.0</td>\n",
              "      <td>3.0</td>\n",
              "      <td>1.0</td>\n",
              "      <td>2.0</td>\n",
              "      <td>active</td>\n",
              "      <td>0</td>\n",
              "    </tr>\n",
              "    <tr>\n",
              "      <th>1</th>\n",
              "      <td>1</td>\n",
              "      <td>CHEMBL1790051</td>\n",
              "      <td>COC(=O)[C@@H]1C2CC[C@H](C[C@@H]1c1ccccc1)N2C.Cl</td>\n",
              "      <td>Ki</td>\n",
              "      <td>314.0</td>\n",
              "      <td>nM</td>\n",
              "      <td>295.810</td>\n",
              "      <td>2.8477</td>\n",
              "      <td>0.0</td>\n",
              "      <td>3.0</td>\n",
              "      <td>1.0</td>\n",
              "      <td>2.0</td>\n",
              "      <td>inactive</td>\n",
              "      <td>1</td>\n",
              "    </tr>\n",
              "    <tr>\n",
              "      <th>2</th>\n",
              "      <td>2</td>\n",
              "      <td>CHEMBL370805</td>\n",
              "      <td>COC(=O)[C@H]1[C@@H](OC(=O)c2ccccc2)C[C@@H]2CC[...</td>\n",
              "      <td>Ki</td>\n",
              "      <td>32.0</td>\n",
              "      <td>nM</td>\n",
              "      <td>303.358</td>\n",
              "      <td>1.8677</td>\n",
              "      <td>0.0</td>\n",
              "      <td>5.0</td>\n",
              "      <td>1.0</td>\n",
              "      <td>3.0</td>\n",
              "      <td>active</td>\n",
              "      <td>0</td>\n",
              "    </tr>\n",
              "    <tr>\n",
              "      <th>3</th>\n",
              "      <td>3</td>\n",
              "      <td>CHEMBL370805</td>\n",
              "      <td>COC(=O)[C@H]1[C@@H](OC(=O)c2ccccc2)C[C@@H]2CC[...</td>\n",
              "      <td>Ki</td>\n",
              "      <td>388.0</td>\n",
              "      <td>nM</td>\n",
              "      <td>303.358</td>\n",
              "      <td>1.8677</td>\n",
              "      <td>0.0</td>\n",
              "      <td>5.0</td>\n",
              "      <td>1.0</td>\n",
              "      <td>3.0</td>\n",
              "      <td>inactive</td>\n",
              "      <td>1</td>\n",
              "    </tr>\n",
              "    <tr>\n",
              "      <th>4</th>\n",
              "      <td>4</td>\n",
              "      <td>CHEMBL333280</td>\n",
              "      <td>CN1CCC(O)(c2ccc(Cl)c(Cl)c2)C([C@@H](O)c2ccc(Cl...</td>\n",
              "      <td>Ki</td>\n",
              "      <td>4140.0</td>\n",
              "      <td>nM</td>\n",
              "      <td>435.178</td>\n",
              "      <td>5.1731</td>\n",
              "      <td>2.0</td>\n",
              "      <td>3.0</td>\n",
              "      <td>2.0</td>\n",
              "      <td>3.0</td>\n",
              "      <td>inactive</td>\n",
              "      <td>1</td>\n",
              "    </tr>\n",
              "  </tbody>\n",
              "</table>\n",
              "</div>\n",
              "      <button class=\"colab-df-convert\" onclick=\"convertToInteractive('df-207f6747-fa3b-4ee4-9463-1dba6a179258')\"\n",
              "              title=\"Convert this dataframe to an interactive table.\"\n",
              "              style=\"display:none;\">\n",
              "        \n",
              "  <svg xmlns=\"http://www.w3.org/2000/svg\" height=\"24px\"viewBox=\"0 0 24 24\"\n",
              "       width=\"24px\">\n",
              "    <path d=\"M0 0h24v24H0V0z\" fill=\"none\"/>\n",
              "    <path d=\"M18.56 5.44l.94 2.06.94-2.06 2.06-.94-2.06-.94-.94-2.06-.94 2.06-2.06.94zm-11 1L8.5 8.5l.94-2.06 2.06-.94-2.06-.94L8.5 2.5l-.94 2.06-2.06.94zm10 10l.94 2.06.94-2.06 2.06-.94-2.06-.94-.94-2.06-.94 2.06-2.06.94z\"/><path d=\"M17.41 7.96l-1.37-1.37c-.4-.4-.92-.59-1.43-.59-.52 0-1.04.2-1.43.59L10.3 9.45l-7.72 7.72c-.78.78-.78 2.05 0 2.83L4 21.41c.39.39.9.59 1.41.59.51 0 1.02-.2 1.41-.59l7.78-7.78 2.81-2.81c.8-.78.8-2.07 0-2.86zM5.41 20L4 18.59l7.72-7.72 1.47 1.35L5.41 20z\"/>\n",
              "  </svg>\n",
              "      </button>\n",
              "      \n",
              "  <style>\n",
              "    .colab-df-container {\n",
              "      display:flex;\n",
              "      flex-wrap:wrap;\n",
              "      gap: 12px;\n",
              "    }\n",
              "\n",
              "    .colab-df-convert {\n",
              "      background-color: #E8F0FE;\n",
              "      border: none;\n",
              "      border-radius: 50%;\n",
              "      cursor: pointer;\n",
              "      display: none;\n",
              "      fill: #1967D2;\n",
              "      height: 32px;\n",
              "      padding: 0 0 0 0;\n",
              "      width: 32px;\n",
              "    }\n",
              "\n",
              "    .colab-df-convert:hover {\n",
              "      background-color: #E2EBFA;\n",
              "      box-shadow: 0px 1px 2px rgba(60, 64, 67, 0.3), 0px 1px 3px 1px rgba(60, 64, 67, 0.15);\n",
              "      fill: #174EA6;\n",
              "    }\n",
              "\n",
              "    [theme=dark] .colab-df-convert {\n",
              "      background-color: #3B4455;\n",
              "      fill: #D2E3FC;\n",
              "    }\n",
              "\n",
              "    [theme=dark] .colab-df-convert:hover {\n",
              "      background-color: #434B5C;\n",
              "      box-shadow: 0px 1px 3px 1px rgba(0, 0, 0, 0.15);\n",
              "      filter: drop-shadow(0px 1px 2px rgba(0, 0, 0, 0.3));\n",
              "      fill: #FFFFFF;\n",
              "    }\n",
              "  </style>\n",
              "\n",
              "      <script>\n",
              "        const buttonEl =\n",
              "          document.querySelector('#df-207f6747-fa3b-4ee4-9463-1dba6a179258 button.colab-df-convert');\n",
              "        buttonEl.style.display =\n",
              "          google.colab.kernel.accessAllowed ? 'block' : 'none';\n",
              "\n",
              "        async function convertToInteractive(key) {\n",
              "          const element = document.querySelector('#df-207f6747-fa3b-4ee4-9463-1dba6a179258');\n",
              "          const dataTable =\n",
              "            await google.colab.kernel.invokeFunction('convertToInteractive',\n",
              "                                                     [key], {});\n",
              "          if (!dataTable) return;\n",
              "\n",
              "          const docLinkHtml = 'Like what you see? Visit the ' +\n",
              "            '<a target=\"_blank\" href=https://colab.research.google.com/notebooks/data_table.ipynb>data table notebook</a>'\n",
              "            + ' to learn more about interactive tables.';\n",
              "          element.innerHTML = '';\n",
              "          dataTable['output_type'] = 'display_data';\n",
              "          await google.colab.output.renderOutput(dataTable, element);\n",
              "          const docLink = document.createElement('div');\n",
              "          docLink.innerHTML = docLinkHtml;\n",
              "          element.appendChild(docLink);\n",
              "        }\n",
              "      </script>\n",
              "    </div>\n",
              "  </div>\n",
              "  "
            ]
          },
          "metadata": {},
          "execution_count": 4
        }
      ]
    },
    {
      "cell_type": "code",
      "source": [
        "#FINGERPRINTS\n",
        "\n",
        "def generate_fingerprint(smiles):\n",
        "\n",
        "    mol = Chem.MolFromSmiles(smiles)\n",
        "    fingerprint = AllChem.GetMorganFingerprintAsBitVect(mol, 2)\n",
        "    return fingerprint"
      ],
      "metadata": {
        "id": "HaWg5gGcMzJb"
      },
      "execution_count": null,
      "outputs": []
    },
    {
      "cell_type": "code",
      "source": [
        "fingerprint = data[\"smiles\"].apply(generate_fingerprint)\n",
        "fingerprint"
      ],
      "metadata": {
        "id": "T20tJdIgMzLY",
        "colab": {
          "base_uri": "https://localhost:8080/"
        },
        "outputId": "c3d290f1-1ab2-4d65-c12b-af8fac6bcf7a"
      },
      "execution_count": null,
      "outputs": [
        {
          "output_type": "execute_result",
          "data": {
            "text/plain": [
              "0       [0, 1, 0, 0, 0, 0, 0, 0, 0, 0, 0, 0, 0, 0, 0, ...\n",
              "1       [0, 1, 0, 0, 0, 0, 0, 0, 0, 0, 0, 0, 0, 0, 0, ...\n",
              "2       [0, 1, 0, 0, 0, 0, 0, 0, 0, 0, 0, 0, 0, 0, 0, ...\n",
              "3       [0, 1, 0, 0, 0, 0, 0, 0, 0, 0, 0, 0, 0, 0, 0, ...\n",
              "4       [0, 1, 0, 0, 0, 0, 0, 0, 1, 0, 0, 0, 0, 0, 0, ...\n",
              "                              ...                        \n",
              "5899    [0, 1, 0, 0, 0, 0, 0, 0, 0, 0, 0, 0, 0, 1, 0, ...\n",
              "5900    [0, 1, 0, 0, 0, 0, 0, 0, 0, 0, 0, 0, 0, 0, 0, ...\n",
              "5901    [0, 1, 0, 0, 0, 0, 0, 0, 0, 0, 0, 0, 0, 0, 0, ...\n",
              "5902    [0, 1, 0, 0, 0, 0, 0, 0, 0, 0, 0, 0, 0, 0, 0, ...\n",
              "5903    [0, 0, 0, 0, 0, 0, 0, 0, 0, 0, 0, 0, 0, 0, 0, ...\n",
              "Name: smiles, Length: 5904, dtype: object"
            ]
          },
          "metadata": {},
          "execution_count": 6
        }
      ]
    },
    {
      "cell_type": "code",
      "source": [
        "#convert the fingerprint to a numpy array\n",
        "def rdkit_numpy_convert(fp):\n",
        "    output=[]\n",
        "    for f in fp:\n",
        "        arr=np.zeros((1,))\n",
        "        DataStructs.ConvertToNumpyArray(f,arr)\n",
        "        output.append(arr)\n",
        "    return np.asarray(output)\n",
        "        \n"
      ],
      "metadata": {
        "id": "ve_vv71EMzN1"
      },
      "execution_count": null,
      "outputs": []
    },
    {
      "cell_type": "code",
      "source": [
        "X=rdkit_numpy_convert(fingerprint)    \n",
        "X.shape\n",
        "#ALL molecules have 2048 molecule fingerprint"
      ],
      "metadata": {
        "id": "yT0vAimdMzQM",
        "colab": {
          "base_uri": "https://localhost:8080/"
        },
        "outputId": "3e738e0f-081c-4968-8475-b120126dea05"
      },
      "execution_count": null,
      "outputs": [
        {
          "output_type": "execute_result",
          "data": {
            "text/plain": [
              "(5904, 2048)"
            ]
          },
          "metadata": {},
          "execution_count": 33
        }
      ]
    },
    {
      "cell_type": "code",
      "source": [
        "y = data.iloc[:,13]"
      ],
      "metadata": {
        "id": "NUJUppliMzSg"
      },
      "execution_count": null,
      "outputs": []
    },
    {
      "cell_type": "code",
      "source": [
        "#CNN\n",
        "import numpy as np\n",
        "from sklearn.model_selection import train_test_split\n",
        "from keras.models import Sequential\n",
        "from keras.layers import Dense, Conv1D, MaxPooling1D, Flatten\n",
        "from keras.layers import Dense, Embedding, Conv1D, GlobalMaxPooling1D"
      ],
      "metadata": {
        "id": "_aaJeHxaVN5l"
      },
      "execution_count": null,
      "outputs": []
    },
    {
      "cell_type": "code",
      "source": [
        "x_train, x_test, y_train, y_test = train_test_split(x, y, test_size=0.2, random_state=42)\n",
        "x_train = np.reshape(x_train, (x_train.shape[0], x_train.shape[1], 1))\n",
        "x_test = np.reshape(x_test, (x_test.shape[0], x_test.shape[1], 1))"
      ],
      "metadata": {
        "id": "ympjLRgHWQdN"
      },
      "execution_count": null,
      "outputs": []
    },
    {
      "cell_type": "code",
      "source": [
        "model = Sequential()\n",
        "\n",
        "# Adding a 1D convolutional layer with 32 filters, each of size 3, and 'relu' activation\n",
        "model.add(Conv1D(32, 3, activation='relu', input_shape=x_train.shape[1:]))\n",
        "\n",
        "# Adding max pooling layer with pool size 2\n",
        "model.add(MaxPooling1D(pool_size=2))\n",
        "\n",
        "# Flattening the input\n",
        "model.add(Flatten())\n",
        "\n",
        "# Adding a dense layer with 128 units and 'relu' activation\n",
        "model.add(Dense(128, activation='relu'))\n",
        "\n",
        "# Adding the output layer with appropriate number of units based on the problem\n",
        "model.add(Dense(1, activation='sigmoid')) # For binary classification\n",
        "\n",
        "# Compiling the model\n",
        "model.compile(optimizer='adam', loss='binary_crossentropy', metrics=['accuracy'])\n",
        "\n",
        "# Training the model\n",
        "history = model.fit(x_train, y_train, epochs=50, batch_size=32)"
      ],
      "metadata": {
        "colab": {
          "base_uri": "https://localhost:8080/"
        },
        "id": "FwFL3Dt5VOng",
        "outputId": "0bc69007-10e3-4bab-901d-661b41041072"
      },
      "execution_count": null,
      "outputs": [
        {
          "output_type": "stream",
          "name": "stdout",
          "text": [
            "Epoch 1/50\n",
            "148/148 [==============================] - 17s 105ms/step - loss: 0.4132 - accuracy: 0.8124\n",
            "Epoch 2/50\n",
            "148/148 [==============================] - 16s 106ms/step - loss: 0.3130 - accuracy: 0.8584\n",
            "Epoch 3/50\n",
            "148/148 [==============================] - 16s 109ms/step - loss: 0.2709 - accuracy: 0.8770\n",
            "Epoch 4/50\n",
            "148/148 [==============================] - 16s 111ms/step - loss: 0.2439 - accuracy: 0.8910\n",
            "Epoch 5/50\n",
            "148/148 [==============================] - 16s 109ms/step - loss: 0.2194 - accuracy: 0.8999\n",
            "Epoch 6/50\n",
            "148/148 [==============================] - 16s 108ms/step - loss: 0.2012 - accuracy: 0.9145\n",
            "Epoch 7/50\n",
            "148/148 [==============================] - 16s 111ms/step - loss: 0.1872 - accuracy: 0.9168\n",
            "Epoch 8/50\n",
            "148/148 [==============================] - 17s 116ms/step - loss: 0.1770 - accuracy: 0.9185\n",
            "Epoch 9/50\n",
            "148/148 [==============================] - 17s 112ms/step - loss: 0.1713 - accuracy: 0.9206\n",
            "Epoch 10/50\n",
            "148/148 [==============================] - 17s 113ms/step - loss: 0.1636 - accuracy: 0.9238\n",
            "Epoch 11/50\n",
            "148/148 [==============================] - 16s 109ms/step - loss: 0.1547 - accuracy: 0.9289\n",
            "Epoch 12/50\n",
            "148/148 [==============================] - 16s 109ms/step - loss: 0.1520 - accuracy: 0.9299\n",
            "Epoch 13/50\n",
            "148/148 [==============================] - 16s 107ms/step - loss: 0.1484 - accuracy: 0.9261\n",
            "Epoch 14/50\n",
            "148/148 [==============================] - 16s 110ms/step - loss: 0.1426 - accuracy: 0.9306\n",
            "Epoch 15/50\n",
            "148/148 [==============================] - 16s 109ms/step - loss: 0.1408 - accuracy: 0.9337\n",
            "Epoch 16/50\n",
            "148/148 [==============================] - 16s 110ms/step - loss: 0.1383 - accuracy: 0.9337\n",
            "Epoch 17/50\n",
            "148/148 [==============================] - 16s 110ms/step - loss: 0.1408 - accuracy: 0.9297\n",
            "Epoch 18/50\n",
            "148/148 [==============================] - 16s 109ms/step - loss: 0.1389 - accuracy: 0.9306\n",
            "Epoch 19/50\n",
            "148/148 [==============================] - 16s 110ms/step - loss: 0.1336 - accuracy: 0.9339\n",
            "Epoch 20/50\n",
            "148/148 [==============================] - 16s 110ms/step - loss: 0.1339 - accuracy: 0.9346\n",
            "Epoch 21/50\n",
            "148/148 [==============================] - 16s 110ms/step - loss: 0.1314 - accuracy: 0.9320\n",
            "Epoch 22/50\n",
            "148/148 [==============================] - 17s 113ms/step - loss: 0.1291 - accuracy: 0.9342\n",
            "Epoch 23/50\n",
            "148/148 [==============================] - 17s 113ms/step - loss: 0.1297 - accuracy: 0.9331\n",
            "Epoch 24/50\n",
            "148/148 [==============================] - 17s 112ms/step - loss: 0.1276 - accuracy: 0.9342\n",
            "Epoch 25/50\n",
            "148/148 [==============================] - 16s 109ms/step - loss: 0.1243 - accuracy: 0.9348\n",
            "Epoch 26/50\n",
            "148/148 [==============================] - 16s 109ms/step - loss: 0.1245 - accuracy: 0.9333\n",
            "Epoch 27/50\n",
            "148/148 [==============================] - 16s 108ms/step - loss: 0.1246 - accuracy: 0.9316\n",
            "Epoch 28/50\n",
            "148/148 [==============================] - 16s 111ms/step - loss: 0.1209 - accuracy: 0.9386\n",
            "Epoch 29/50\n",
            "148/148 [==============================] - 16s 110ms/step - loss: 0.1224 - accuracy: 0.9327\n",
            "Epoch 30/50\n",
            "148/148 [==============================] - 16s 111ms/step - loss: 0.1212 - accuracy: 0.9356\n",
            "Epoch 31/50\n",
            "148/148 [==============================] - 16s 111ms/step - loss: 0.1209 - accuracy: 0.9348\n",
            "Epoch 32/50\n",
            "148/148 [==============================] - 16s 108ms/step - loss: 0.1218 - accuracy: 0.9352\n",
            "Epoch 33/50\n",
            "148/148 [==============================] - 16s 109ms/step - loss: 0.1195 - accuracy: 0.9356\n",
            "Epoch 34/50\n",
            "148/148 [==============================] - 17s 115ms/step - loss: 0.1198 - accuracy: 0.9352\n",
            "Epoch 35/50\n",
            "148/148 [==============================] - 17s 114ms/step - loss: 0.1180 - accuracy: 0.9369\n",
            "Epoch 36/50\n",
            "148/148 [==============================] - 17s 113ms/step - loss: 0.1199 - accuracy: 0.9329\n",
            "Epoch 37/50\n",
            "148/148 [==============================] - 16s 110ms/step - loss: 0.1174 - accuracy: 0.9348\n",
            "Epoch 38/50\n",
            "148/148 [==============================] - 16s 109ms/step - loss: 0.1182 - accuracy: 0.9361\n",
            "Epoch 39/50\n",
            "148/148 [==============================] - 16s 109ms/step - loss: 0.1176 - accuracy: 0.9367\n",
            "Epoch 40/50\n",
            "148/148 [==============================] - 16s 108ms/step - loss: 0.1158 - accuracy: 0.9365\n",
            "Epoch 41/50\n",
            "148/148 [==============================] - 17s 114ms/step - loss: 0.1138 - accuracy: 0.9367\n",
            "Epoch 42/50\n",
            "148/148 [==============================] - 16s 106ms/step - loss: 0.1155 - accuracy: 0.9367\n",
            "Epoch 43/50\n",
            "148/148 [==============================] - 15s 102ms/step - loss: 0.1144 - accuracy: 0.9373\n",
            "Epoch 44/50\n",
            "148/148 [==============================] - 16s 109ms/step - loss: 0.1123 - accuracy: 0.9384\n",
            "Epoch 45/50\n",
            "148/148 [==============================] - 17s 112ms/step - loss: 0.1131 - accuracy: 0.9354\n",
            "Epoch 46/50\n",
            "148/148 [==============================] - 16s 110ms/step - loss: 0.1143 - accuracy: 0.9390\n",
            "Epoch 47/50\n",
            "148/148 [==============================] - 16s 111ms/step - loss: 0.1119 - accuracy: 0.9378\n",
            "Epoch 48/50\n",
            "148/148 [==============================] - 17s 115ms/step - loss: 0.1124 - accuracy: 0.9386\n",
            "Epoch 49/50\n",
            "148/148 [==============================] - 17s 115ms/step - loss: 0.1121 - accuracy: 0.9373\n",
            "Epoch 50/50\n",
            "148/148 [==============================] - 17s 116ms/step - loss: 0.1106 - accuracy: 0.9378\n"
          ]
        }
      ]
    },
    {
      "cell_type": "code",
      "source": [
        "\n",
        "import matplotlib.pyplot as plt\n",
        "from sklearn.metrics import classification_report, confusion_matrix\n",
        "\n",
        "# assuming X and y are already defined and the model is trained\n",
        "\n",
        "# evaluate the model on the test set\n",
        "loss, accuracy = model.evaluate(X, y)\n",
        "print('Test accuracy:', accuracy)\n"
      ],
      "metadata": {
        "colab": {
          "base_uri": "https://localhost:8080/"
        },
        "id": "cpSq39MT_KpR",
        "outputId": "4c2439b7-74a6-4563-d717-e9309dcb0c66"
      },
      "execution_count": null,
      "outputs": [
        {
          "output_type": "stream",
          "name": "stdout",
          "text": [
            "185/185 [==============================] - 4s 22ms/step - loss: 0.2155 - accuracy: 0.9231\n",
            "Test accuracy: 0.9231029748916626\n"
          ]
        }
      ]
    },
    {
      "cell_type": "code",
      "source": [
        "y_pred = model.predict(X)\n",
        "y_pred_binary = (y_pred > 0.5).astype(int)\n",
        "print(classification_report(y, y_pred_binary))\n"
      ],
      "metadata": {
        "colab": {
          "base_uri": "https://localhost:8080/"
        },
        "id": "lip3PgCs_O9g",
        "outputId": "e49bc8e8-1e30-45d1-f606-8656a601418f"
      },
      "execution_count": null,
      "outputs": [
        {
          "output_type": "stream",
          "name": "stdout",
          "text": [
            "185/185 [==============================] - 6s 34ms/step\n",
            "              precision    recall  f1-score   support\n",
            "\n",
            "           0       0.85      0.88      0.87      1665\n",
            "           1       0.95      0.94      0.95      4239\n",
            "\n",
            "    accuracy                           0.92      5904\n",
            "   macro avg       0.90      0.91      0.91      5904\n",
            "weighted avg       0.92      0.92      0.92      5904\n",
            "\n"
          ]
        }
      ]
    },
    {
      "cell_type": "code",
      "source": [
        "print(confusion_matrix(y, y_pred_binary))"
      ],
      "metadata": {
        "colab": {
          "base_uri": "https://localhost:8080/"
        },
        "id": "KxIXvj2S_Um8",
        "outputId": "4ab764c2-bf6d-42c4-a320-60109849162a"
      },
      "execution_count": null,
      "outputs": [
        {
          "output_type": "stream",
          "name": "stdout",
          "text": [
            "[[1467  198]\n",
            " [ 256 3983]]\n"
          ]
        }
      ]
    },
    {
      "cell_type": "code",
      "source": [
        "score = model.evaluate(x_test, y_test, batch_size=32)\n",
        "print('Test loss:', score[0])\n",
        "print('Test accuracy:', score[1])"
      ],
      "metadata": {
        "colab": {
          "base_uri": "https://localhost:8080/"
        },
        "id": "6LPsd-InVOrx",
        "outputId": "ed9486f3-7319-4540-b5d9-1b69e4bca023"
      },
      "execution_count": null,
      "outputs": [
        {
          "output_type": "stream",
          "name": "stdout",
          "text": [
            "37/37 [==============================] - 2s 55ms/step - loss: 0.6787 - accuracy: 0.8281\n",
            "Test loss: 0.678713858127594\n",
            "Test accuracy: 0.8281117677688599\n"
          ]
        }
      ]
    },
    {
      "cell_type": "code",
      "source": [
        "from IPython.display import Image\n",
        "from keras.utils.vis_utils import plot_model\n",
        "plot_model(model, show_shapes=True, show_layer_names=True)\n",
        "Image('model.png')"
      ],
      "metadata": {
        "colab": {
          "base_uri": "https://localhost:8080/",
          "height": 644
        },
        "id": "XZ9xKjd8VOzm",
        "outputId": "99333d4c-e3db-4fc4-a14e-1347365347ab"
      },
      "execution_count": null,
      "outputs": [
        {
          "output_type": "execute_result",
          "data": {
            "image/png": "[encoded data removed]",
            "text/plain": [
              "<IPython.core.display.Image object>"
            ]
          },
          "metadata": {},
          "execution_count": 49
        }
      ]
    },
    {
      "cell_type": "code",
      "source": [
        "training_loss = history.history['loss']\n",
        "epochs = range(1, len(training_loss) + 1)\n",
        "plt.plot(epochs, training_loss, label='Training Loss')\n",
        "plt.xlabel('Epochs')\n",
        "plt.ylabel('Loss')\n",
        "plt.title('Training Loss')\n",
        "plt.legend()\n",
        "plt.show()"
      ],
      "metadata": {
        "colab": {
          "base_uri": "https://localhost:8080/",
          "height": 472
        },
        "id": "B0tZNFKvVO2L",
        "outputId": "acca83a5-4a9d-418e-e91a-a3dbdc6dd471"
      },
      "execution_count": null,
      "outputs": [
        {
          "output_type": "display_data",
          "data": {
            "text/plain": [
              "<Figure size 640x480 with 1 Axes>"
            ],
            "image/png": "[encoded data removed]"
          },
          "metadata": {}
        }
      ]
    }
  ]
}